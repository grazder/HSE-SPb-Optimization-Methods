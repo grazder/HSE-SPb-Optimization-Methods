{
  "nbformat": 4,
  "nbformat_minor": 0,
  "metadata": {
    "colab": {
      "name": "Методы Оптимизации. ДЗ 3.ipynb",
      "provenance": [],
      "collapsed_sections": [
        "_CU87XxcY4A8",
        "85_wwHARZZZu"
      ],
      "toc_visible": true
    },
    "kernelspec": {
      "name": "python3",
      "display_name": "Python 3"
    },
    "widgets": {
      "application/vnd.jupyter.widget-state+json": {
        "01ea001d9fb541eeb63c0419193afcd8": {
          "model_module": "@jupyter-widgets/controls",
          "model_name": "HBoxModel",
          "state": {
            "_view_name": "HBoxView",
            "_dom_classes": [],
            "_model_name": "HBoxModel",
            "_view_module": "@jupyter-widgets/controls",
            "_model_module_version": "1.5.0",
            "_view_count": null,
            "_view_module_version": "1.5.0",
            "box_style": "",
            "layout": "IPY_MODEL_4c44269cbb1c47819fc3a4368461cb42",
            "_model_module": "@jupyter-widgets/controls",
            "children": [
              "IPY_MODEL_bda32d3c0e654d4581233d7dc9b35857",
              "IPY_MODEL_95cd55fd94484fce9a3d98f141cdc9e5"
            ]
          }
        },
        "4c44269cbb1c47819fc3a4368461cb42": {
          "model_module": "@jupyter-widgets/base",
          "model_name": "LayoutModel",
          "state": {
            "_view_name": "LayoutView",
            "grid_template_rows": null,
            "right": null,
            "justify_content": null,
            "_view_module": "@jupyter-widgets/base",
            "overflow": null,
            "_model_module_version": "1.2.0",
            "_view_count": null,
            "flex_flow": null,
            "width": null,
            "min_width": null,
            "border": null,
            "align_items": null,
            "bottom": null,
            "_model_module": "@jupyter-widgets/base",
            "top": null,
            "grid_column": null,
            "overflow_y": null,
            "overflow_x": null,
            "grid_auto_flow": null,
            "grid_area": null,
            "grid_template_columns": null,
            "flex": null,
            "_model_name": "LayoutModel",
            "justify_items": null,
            "grid_row": null,
            "max_height": null,
            "align_content": null,
            "visibility": null,
            "align_self": null,
            "height": null,
            "min_height": null,
            "padding": null,
            "grid_auto_rows": null,
            "grid_gap": null,
            "max_width": null,
            "order": null,
            "_view_module_version": "1.2.0",
            "grid_template_areas": null,
            "object_position": null,
            "object_fit": null,
            "grid_auto_columns": null,
            "margin": null,
            "display": null,
            "left": null
          }
        },
        "bda32d3c0e654d4581233d7dc9b35857": {
          "model_module": "@jupyter-widgets/controls",
          "model_name": "FloatProgressModel",
          "state": {
            "_view_name": "ProgressView",
            "style": "IPY_MODEL_e4923c334f264c33b31d2a25964c5516",
            "_dom_classes": [],
            "description": "100%",
            "_model_name": "FloatProgressModel",
            "bar_style": "success",
            "max": 19,
            "_view_module": "@jupyter-widgets/controls",
            "_model_module_version": "1.5.0",
            "value": 19,
            "_view_count": null,
            "_view_module_version": "1.5.0",
            "orientation": "horizontal",
            "min": 0,
            "description_tooltip": null,
            "_model_module": "@jupyter-widgets/controls",
            "layout": "IPY_MODEL_6a93af659e854b849c6e6f10f0db0f31"
          }
        },
        "95cd55fd94484fce9a3d98f141cdc9e5": {
          "model_module": "@jupyter-widgets/controls",
          "model_name": "HTMLModel",
          "state": {
            "_view_name": "HTMLView",
            "style": "IPY_MODEL_8da2fc433f904b3d9eed5949ea442206",
            "_dom_classes": [],
            "description": "",
            "_model_name": "HTMLModel",
            "placeholder": "​",
            "_view_module": "@jupyter-widgets/controls",
            "_model_module_version": "1.5.0",
            "value": " 19/19 [01:48&lt;00:00,  5.73s/it]",
            "_view_count": null,
            "_view_module_version": "1.5.0",
            "description_tooltip": null,
            "_model_module": "@jupyter-widgets/controls",
            "layout": "IPY_MODEL_dbc7d7ef798242dcb84df66f0d3a1e2a"
          }
        },
        "e4923c334f264c33b31d2a25964c5516": {
          "model_module": "@jupyter-widgets/controls",
          "model_name": "ProgressStyleModel",
          "state": {
            "_view_name": "StyleView",
            "_model_name": "ProgressStyleModel",
            "description_width": "initial",
            "_view_module": "@jupyter-widgets/base",
            "_model_module_version": "1.5.0",
            "_view_count": null,
            "_view_module_version": "1.2.0",
            "bar_color": null,
            "_model_module": "@jupyter-widgets/controls"
          }
        },
        "6a93af659e854b849c6e6f10f0db0f31": {
          "model_module": "@jupyter-widgets/base",
          "model_name": "LayoutModel",
          "state": {
            "_view_name": "LayoutView",
            "grid_template_rows": null,
            "right": null,
            "justify_content": null,
            "_view_module": "@jupyter-widgets/base",
            "overflow": null,
            "_model_module_version": "1.2.0",
            "_view_count": null,
            "flex_flow": null,
            "width": null,
            "min_width": null,
            "border": null,
            "align_items": null,
            "bottom": null,
            "_model_module": "@jupyter-widgets/base",
            "top": null,
            "grid_column": null,
            "overflow_y": null,
            "overflow_x": null,
            "grid_auto_flow": null,
            "grid_area": null,
            "grid_template_columns": null,
            "flex": null,
            "_model_name": "LayoutModel",
            "justify_items": null,
            "grid_row": null,
            "max_height": null,
            "align_content": null,
            "visibility": null,
            "align_self": null,
            "height": null,
            "min_height": null,
            "padding": null,
            "grid_auto_rows": null,
            "grid_gap": null,
            "max_width": null,
            "order": null,
            "_view_module_version": "1.2.0",
            "grid_template_areas": null,
            "object_position": null,
            "object_fit": null,
            "grid_auto_columns": null,
            "margin": null,
            "display": null,
            "left": null
          }
        },
        "8da2fc433f904b3d9eed5949ea442206": {
          "model_module": "@jupyter-widgets/controls",
          "model_name": "DescriptionStyleModel",
          "state": {
            "_view_name": "StyleView",
            "_model_name": "DescriptionStyleModel",
            "description_width": "",
            "_view_module": "@jupyter-widgets/base",
            "_model_module_version": "1.5.0",
            "_view_count": null,
            "_view_module_version": "1.2.0",
            "_model_module": "@jupyter-widgets/controls"
          }
        },
        "dbc7d7ef798242dcb84df66f0d3a1e2a": {
          "model_module": "@jupyter-widgets/base",
          "model_name": "LayoutModel",
          "state": {
            "_view_name": "LayoutView",
            "grid_template_rows": null,
            "right": null,
            "justify_content": null,
            "_view_module": "@jupyter-widgets/base",
            "overflow": null,
            "_model_module_version": "1.2.0",
            "_view_count": null,
            "flex_flow": null,
            "width": null,
            "min_width": null,
            "border": null,
            "align_items": null,
            "bottom": null,
            "_model_module": "@jupyter-widgets/base",
            "top": null,
            "grid_column": null,
            "overflow_y": null,
            "overflow_x": null,
            "grid_auto_flow": null,
            "grid_area": null,
            "grid_template_columns": null,
            "flex": null,
            "_model_name": "LayoutModel",
            "justify_items": null,
            "grid_row": null,
            "max_height": null,
            "align_content": null,
            "visibility": null,
            "align_self": null,
            "height": null,
            "min_height": null,
            "padding": null,
            "grid_auto_rows": null,
            "grid_gap": null,
            "max_width": null,
            "order": null,
            "_view_module_version": "1.2.0",
            "grid_template_areas": null,
            "object_position": null,
            "object_fit": null,
            "grid_auto_columns": null,
            "margin": null,
            "display": null,
            "left": null
          }
        },
        "4c16ad201ee745749001b6662f762171": {
          "model_module": "@jupyter-widgets/controls",
          "model_name": "HBoxModel",
          "state": {
            "_view_name": "HBoxView",
            "_dom_classes": [],
            "_model_name": "HBoxModel",
            "_view_module": "@jupyter-widgets/controls",
            "_model_module_version": "1.5.0",
            "_view_count": null,
            "_view_module_version": "1.5.0",
            "box_style": "",
            "layout": "IPY_MODEL_d6a0ff784e3740c780ed589b6e52eb4e",
            "_model_module": "@jupyter-widgets/controls",
            "children": [
              "IPY_MODEL_b3a5e4384a9c474097c797c615ab0495",
              "IPY_MODEL_27b392deeb214b0ead1c179c71fa815d"
            ]
          }
        },
        "d6a0ff784e3740c780ed589b6e52eb4e": {
          "model_module": "@jupyter-widgets/base",
          "model_name": "LayoutModel",
          "state": {
            "_view_name": "LayoutView",
            "grid_template_rows": null,
            "right": null,
            "justify_content": null,
            "_view_module": "@jupyter-widgets/base",
            "overflow": null,
            "_model_module_version": "1.2.0",
            "_view_count": null,
            "flex_flow": null,
            "width": null,
            "min_width": null,
            "border": null,
            "align_items": null,
            "bottom": null,
            "_model_module": "@jupyter-widgets/base",
            "top": null,
            "grid_column": null,
            "overflow_y": null,
            "overflow_x": null,
            "grid_auto_flow": null,
            "grid_area": null,
            "grid_template_columns": null,
            "flex": null,
            "_model_name": "LayoutModel",
            "justify_items": null,
            "grid_row": null,
            "max_height": null,
            "align_content": null,
            "visibility": null,
            "align_self": null,
            "height": null,
            "min_height": null,
            "padding": null,
            "grid_auto_rows": null,
            "grid_gap": null,
            "max_width": null,
            "order": null,
            "_view_module_version": "1.2.0",
            "grid_template_areas": null,
            "object_position": null,
            "object_fit": null,
            "grid_auto_columns": null,
            "margin": null,
            "display": null,
            "left": null
          }
        },
        "b3a5e4384a9c474097c797c615ab0495": {
          "model_module": "@jupyter-widgets/controls",
          "model_name": "FloatProgressModel",
          "state": {
            "_view_name": "ProgressView",
            "style": "IPY_MODEL_fe8e8f7380d24709b9de902886924c13",
            "_dom_classes": [],
            "description": "100%",
            "_model_name": "FloatProgressModel",
            "bar_style": "success",
            "max": 19,
            "_view_module": "@jupyter-widgets/controls",
            "_model_module_version": "1.5.0",
            "value": 19,
            "_view_count": null,
            "_view_module_version": "1.5.0",
            "orientation": "horizontal",
            "min": 0,
            "description_tooltip": null,
            "_model_module": "@jupyter-widgets/controls",
            "layout": "IPY_MODEL_88e61b00b0214b3da709659b316558ab"
          }
        },
        "27b392deeb214b0ead1c179c71fa815d": {
          "model_module": "@jupyter-widgets/controls",
          "model_name": "HTMLModel",
          "state": {
            "_view_name": "HTMLView",
            "style": "IPY_MODEL_26e4b45abb974ea1b10e659b135458c2",
            "_dom_classes": [],
            "description": "",
            "_model_name": "HTMLModel",
            "placeholder": "​",
            "_view_module": "@jupyter-widgets/controls",
            "_model_module_version": "1.5.0",
            "value": " 19/19 [02:19&lt;00:00,  7.35s/it]",
            "_view_count": null,
            "_view_module_version": "1.5.0",
            "description_tooltip": null,
            "_model_module": "@jupyter-widgets/controls",
            "layout": "IPY_MODEL_57a50f4075ef47c0997a4ef8813fbeb0"
          }
        },
        "fe8e8f7380d24709b9de902886924c13": {
          "model_module": "@jupyter-widgets/controls",
          "model_name": "ProgressStyleModel",
          "state": {
            "_view_name": "StyleView",
            "_model_name": "ProgressStyleModel",
            "description_width": "initial",
            "_view_module": "@jupyter-widgets/base",
            "_model_module_version": "1.5.0",
            "_view_count": null,
            "_view_module_version": "1.2.0",
            "bar_color": null,
            "_model_module": "@jupyter-widgets/controls"
          }
        },
        "88e61b00b0214b3da709659b316558ab": {
          "model_module": "@jupyter-widgets/base",
          "model_name": "LayoutModel",
          "state": {
            "_view_name": "LayoutView",
            "grid_template_rows": null,
            "right": null,
            "justify_content": null,
            "_view_module": "@jupyter-widgets/base",
            "overflow": null,
            "_model_module_version": "1.2.0",
            "_view_count": null,
            "flex_flow": null,
            "width": null,
            "min_width": null,
            "border": null,
            "align_items": null,
            "bottom": null,
            "_model_module": "@jupyter-widgets/base",
            "top": null,
            "grid_column": null,
            "overflow_y": null,
            "overflow_x": null,
            "grid_auto_flow": null,
            "grid_area": null,
            "grid_template_columns": null,
            "flex": null,
            "_model_name": "LayoutModel",
            "justify_items": null,
            "grid_row": null,
            "max_height": null,
            "align_content": null,
            "visibility": null,
            "align_self": null,
            "height": null,
            "min_height": null,
            "padding": null,
            "grid_auto_rows": null,
            "grid_gap": null,
            "max_width": null,
            "order": null,
            "_view_module_version": "1.2.0",
            "grid_template_areas": null,
            "object_position": null,
            "object_fit": null,
            "grid_auto_columns": null,
            "margin": null,
            "display": null,
            "left": null
          }
        },
        "26e4b45abb974ea1b10e659b135458c2": {
          "model_module": "@jupyter-widgets/controls",
          "model_name": "DescriptionStyleModel",
          "state": {
            "_view_name": "StyleView",
            "_model_name": "DescriptionStyleModel",
            "description_width": "",
            "_view_module": "@jupyter-widgets/base",
            "_model_module_version": "1.5.0",
            "_view_count": null,
            "_view_module_version": "1.2.0",
            "_model_module": "@jupyter-widgets/controls"
          }
        },
        "57a50f4075ef47c0997a4ef8813fbeb0": {
          "model_module": "@jupyter-widgets/base",
          "model_name": "LayoutModel",
          "state": {
            "_view_name": "LayoutView",
            "grid_template_rows": null,
            "right": null,
            "justify_content": null,
            "_view_module": "@jupyter-widgets/base",
            "overflow": null,
            "_model_module_version": "1.2.0",
            "_view_count": null,
            "flex_flow": null,
            "width": null,
            "min_width": null,
            "border": null,
            "align_items": null,
            "bottom": null,
            "_model_module": "@jupyter-widgets/base",
            "top": null,
            "grid_column": null,
            "overflow_y": null,
            "overflow_x": null,
            "grid_auto_flow": null,
            "grid_area": null,
            "grid_template_columns": null,
            "flex": null,
            "_model_name": "LayoutModel",
            "justify_items": null,
            "grid_row": null,
            "max_height": null,
            "align_content": null,
            "visibility": null,
            "align_self": null,
            "height": null,
            "min_height": null,
            "padding": null,
            "grid_auto_rows": null,
            "grid_gap": null,
            "max_width": null,
            "order": null,
            "_view_module_version": "1.2.0",
            "grid_template_areas": null,
            "object_position": null,
            "object_fit": null,
            "grid_auto_columns": null,
            "margin": null,
            "display": null,
            "left": null
          }
        },
        "b5545b0b44c64f7099afcbb4db207636": {
          "model_module": "@jupyter-widgets/controls",
          "model_name": "HBoxModel",
          "state": {
            "_view_name": "HBoxView",
            "_dom_classes": [],
            "_model_name": "HBoxModel",
            "_view_module": "@jupyter-widgets/controls",
            "_model_module_version": "1.5.0",
            "_view_count": null,
            "_view_module_version": "1.5.0",
            "box_style": "",
            "layout": "IPY_MODEL_5fc38946f848402698b15faa38cc348c",
            "_model_module": "@jupyter-widgets/controls",
            "children": [
              "IPY_MODEL_8eeb534c1ee24967bac946c1841512c2",
              "IPY_MODEL_7457c780bdec4378a03e01bc61887a77"
            ]
          }
        },
        "5fc38946f848402698b15faa38cc348c": {
          "model_module": "@jupyter-widgets/base",
          "model_name": "LayoutModel",
          "state": {
            "_view_name": "LayoutView",
            "grid_template_rows": null,
            "right": null,
            "justify_content": null,
            "_view_module": "@jupyter-widgets/base",
            "overflow": null,
            "_model_module_version": "1.2.0",
            "_view_count": null,
            "flex_flow": null,
            "width": null,
            "min_width": null,
            "border": null,
            "align_items": null,
            "bottom": null,
            "_model_module": "@jupyter-widgets/base",
            "top": null,
            "grid_column": null,
            "overflow_y": null,
            "overflow_x": null,
            "grid_auto_flow": null,
            "grid_area": null,
            "grid_template_columns": null,
            "flex": null,
            "_model_name": "LayoutModel",
            "justify_items": null,
            "grid_row": null,
            "max_height": null,
            "align_content": null,
            "visibility": null,
            "align_self": null,
            "height": null,
            "min_height": null,
            "padding": null,
            "grid_auto_rows": null,
            "grid_gap": null,
            "max_width": null,
            "order": null,
            "_view_module_version": "1.2.0",
            "grid_template_areas": null,
            "object_position": null,
            "object_fit": null,
            "grid_auto_columns": null,
            "margin": null,
            "display": null,
            "left": null
          }
        },
        "8eeb534c1ee24967bac946c1841512c2": {
          "model_module": "@jupyter-widgets/controls",
          "model_name": "FloatProgressModel",
          "state": {
            "_view_name": "ProgressView",
            "style": "IPY_MODEL_4ded3c6905ef4f729518cecc00181604",
            "_dom_classes": [],
            "description": "100%",
            "_model_name": "FloatProgressModel",
            "bar_style": "success",
            "max": 19,
            "_view_module": "@jupyter-widgets/controls",
            "_model_module_version": "1.5.0",
            "value": 19,
            "_view_count": null,
            "_view_module_version": "1.5.0",
            "orientation": "horizontal",
            "min": 0,
            "description_tooltip": null,
            "_model_module": "@jupyter-widgets/controls",
            "layout": "IPY_MODEL_ca339da4b3b64a1c97920e13962faea4"
          }
        },
        "7457c780bdec4378a03e01bc61887a77": {
          "model_module": "@jupyter-widgets/controls",
          "model_name": "HTMLModel",
          "state": {
            "_view_name": "HTMLView",
            "style": "IPY_MODEL_f24ab7a07863440f95e08d0f73dbe604",
            "_dom_classes": [],
            "description": "",
            "_model_name": "HTMLModel",
            "placeholder": "​",
            "_view_module": "@jupyter-widgets/controls",
            "_model_module_version": "1.5.0",
            "value": " 19/19 [01:23&lt;00:00,  4.41s/it]",
            "_view_count": null,
            "_view_module_version": "1.5.0",
            "description_tooltip": null,
            "_model_module": "@jupyter-widgets/controls",
            "layout": "IPY_MODEL_668af3c0be62481c9d0011beed1a03b0"
          }
        },
        "4ded3c6905ef4f729518cecc00181604": {
          "model_module": "@jupyter-widgets/controls",
          "model_name": "ProgressStyleModel",
          "state": {
            "_view_name": "StyleView",
            "_model_name": "ProgressStyleModel",
            "description_width": "initial",
            "_view_module": "@jupyter-widgets/base",
            "_model_module_version": "1.5.0",
            "_view_count": null,
            "_view_module_version": "1.2.0",
            "bar_color": null,
            "_model_module": "@jupyter-widgets/controls"
          }
        },
        "ca339da4b3b64a1c97920e13962faea4": {
          "model_module": "@jupyter-widgets/base",
          "model_name": "LayoutModel",
          "state": {
            "_view_name": "LayoutView",
            "grid_template_rows": null,
            "right": null,
            "justify_content": null,
            "_view_module": "@jupyter-widgets/base",
            "overflow": null,
            "_model_module_version": "1.2.0",
            "_view_count": null,
            "flex_flow": null,
            "width": null,
            "min_width": null,
            "border": null,
            "align_items": null,
            "bottom": null,
            "_model_module": "@jupyter-widgets/base",
            "top": null,
            "grid_column": null,
            "overflow_y": null,
            "overflow_x": null,
            "grid_auto_flow": null,
            "grid_area": null,
            "grid_template_columns": null,
            "flex": null,
            "_model_name": "LayoutModel",
            "justify_items": null,
            "grid_row": null,
            "max_height": null,
            "align_content": null,
            "visibility": null,
            "align_self": null,
            "height": null,
            "min_height": null,
            "padding": null,
            "grid_auto_rows": null,
            "grid_gap": null,
            "max_width": null,
            "order": null,
            "_view_module_version": "1.2.0",
            "grid_template_areas": null,
            "object_position": null,
            "object_fit": null,
            "grid_auto_columns": null,
            "margin": null,
            "display": null,
            "left": null
          }
        },
        "f24ab7a07863440f95e08d0f73dbe604": {
          "model_module": "@jupyter-widgets/controls",
          "model_name": "DescriptionStyleModel",
          "state": {
            "_view_name": "StyleView",
            "_model_name": "DescriptionStyleModel",
            "description_width": "",
            "_view_module": "@jupyter-widgets/base",
            "_model_module_version": "1.5.0",
            "_view_count": null,
            "_view_module_version": "1.2.0",
            "_model_module": "@jupyter-widgets/controls"
          }
        },
        "668af3c0be62481c9d0011beed1a03b0": {
          "model_module": "@jupyter-widgets/base",
          "model_name": "LayoutModel",
          "state": {
            "_view_name": "LayoutView",
            "grid_template_rows": null,
            "right": null,
            "justify_content": null,
            "_view_module": "@jupyter-widgets/base",
            "overflow": null,
            "_model_module_version": "1.2.0",
            "_view_count": null,
            "flex_flow": null,
            "width": null,
            "min_width": null,
            "border": null,
            "align_items": null,
            "bottom": null,
            "_model_module": "@jupyter-widgets/base",
            "top": null,
            "grid_column": null,
            "overflow_y": null,
            "overflow_x": null,
            "grid_auto_flow": null,
            "grid_area": null,
            "grid_template_columns": null,
            "flex": null,
            "_model_name": "LayoutModel",
            "justify_items": null,
            "grid_row": null,
            "max_height": null,
            "align_content": null,
            "visibility": null,
            "align_self": null,
            "height": null,
            "min_height": null,
            "padding": null,
            "grid_auto_rows": null,
            "grid_gap": null,
            "max_width": null,
            "order": null,
            "_view_module_version": "1.2.0",
            "grid_template_areas": null,
            "object_position": null,
            "object_fit": null,
            "grid_auto_columns": null,
            "margin": null,
            "display": null,
            "left": null
          }
        },
        "7a5e10af13d84a24809835212449a805": {
          "model_module": "@jupyter-widgets/controls",
          "model_name": "HBoxModel",
          "state": {
            "_view_name": "HBoxView",
            "_dom_classes": [],
            "_model_name": "HBoxModel",
            "_view_module": "@jupyter-widgets/controls",
            "_model_module_version": "1.5.0",
            "_view_count": null,
            "_view_module_version": "1.5.0",
            "box_style": "",
            "layout": "IPY_MODEL_6c32ea9cae63412ba79e24f33622e5ad",
            "_model_module": "@jupyter-widgets/controls",
            "children": [
              "IPY_MODEL_6dba76e79b0841d49b73ebedd3d8d60c",
              "IPY_MODEL_9f831e24f45e413ca9b6e8b7e9867e43"
            ]
          }
        },
        "6c32ea9cae63412ba79e24f33622e5ad": {
          "model_module": "@jupyter-widgets/base",
          "model_name": "LayoutModel",
          "state": {
            "_view_name": "LayoutView",
            "grid_template_rows": null,
            "right": null,
            "justify_content": null,
            "_view_module": "@jupyter-widgets/base",
            "overflow": null,
            "_model_module_version": "1.2.0",
            "_view_count": null,
            "flex_flow": null,
            "width": null,
            "min_width": null,
            "border": null,
            "align_items": null,
            "bottom": null,
            "_model_module": "@jupyter-widgets/base",
            "top": null,
            "grid_column": null,
            "overflow_y": null,
            "overflow_x": null,
            "grid_auto_flow": null,
            "grid_area": null,
            "grid_template_columns": null,
            "flex": null,
            "_model_name": "LayoutModel",
            "justify_items": null,
            "grid_row": null,
            "max_height": null,
            "align_content": null,
            "visibility": null,
            "align_self": null,
            "height": null,
            "min_height": null,
            "padding": null,
            "grid_auto_rows": null,
            "grid_gap": null,
            "max_width": null,
            "order": null,
            "_view_module_version": "1.2.0",
            "grid_template_areas": null,
            "object_position": null,
            "object_fit": null,
            "grid_auto_columns": null,
            "margin": null,
            "display": null,
            "left": null
          }
        },
        "6dba76e79b0841d49b73ebedd3d8d60c": {
          "model_module": "@jupyter-widgets/controls",
          "model_name": "FloatProgressModel",
          "state": {
            "_view_name": "ProgressView",
            "style": "IPY_MODEL_feb5f659269144e0946d8bd4e9e80e7f",
            "_dom_classes": [],
            "description": "100%",
            "_model_name": "FloatProgressModel",
            "bar_style": "success",
            "max": 19,
            "_view_module": "@jupyter-widgets/controls",
            "_model_module_version": "1.5.0",
            "value": 19,
            "_view_count": null,
            "_view_module_version": "1.5.0",
            "orientation": "horizontal",
            "min": 0,
            "description_tooltip": null,
            "_model_module": "@jupyter-widgets/controls",
            "layout": "IPY_MODEL_2ee5a5ccde044637853ee013fa5cdb37"
          }
        },
        "9f831e24f45e413ca9b6e8b7e9867e43": {
          "model_module": "@jupyter-widgets/controls",
          "model_name": "HTMLModel",
          "state": {
            "_view_name": "HTMLView",
            "style": "IPY_MODEL_9e39bee9ce6a4c86bbd9ee47700b42cb",
            "_dom_classes": [],
            "description": "",
            "_model_name": "HTMLModel",
            "placeholder": "​",
            "_view_module": "@jupyter-widgets/controls",
            "_model_module_version": "1.5.0",
            "value": " 19/19 [00:28&lt;00:00,  1.49s/it]",
            "_view_count": null,
            "_view_module_version": "1.5.0",
            "description_tooltip": null,
            "_model_module": "@jupyter-widgets/controls",
            "layout": "IPY_MODEL_2483afefddb84a3cb452f96631221483"
          }
        },
        "feb5f659269144e0946d8bd4e9e80e7f": {
          "model_module": "@jupyter-widgets/controls",
          "model_name": "ProgressStyleModel",
          "state": {
            "_view_name": "StyleView",
            "_model_name": "ProgressStyleModel",
            "description_width": "initial",
            "_view_module": "@jupyter-widgets/base",
            "_model_module_version": "1.5.0",
            "_view_count": null,
            "_view_module_version": "1.2.0",
            "bar_color": null,
            "_model_module": "@jupyter-widgets/controls"
          }
        },
        "2ee5a5ccde044637853ee013fa5cdb37": {
          "model_module": "@jupyter-widgets/base",
          "model_name": "LayoutModel",
          "state": {
            "_view_name": "LayoutView",
            "grid_template_rows": null,
            "right": null,
            "justify_content": null,
            "_view_module": "@jupyter-widgets/base",
            "overflow": null,
            "_model_module_version": "1.2.0",
            "_view_count": null,
            "flex_flow": null,
            "width": null,
            "min_width": null,
            "border": null,
            "align_items": null,
            "bottom": null,
            "_model_module": "@jupyter-widgets/base",
            "top": null,
            "grid_column": null,
            "overflow_y": null,
            "overflow_x": null,
            "grid_auto_flow": null,
            "grid_area": null,
            "grid_template_columns": null,
            "flex": null,
            "_model_name": "LayoutModel",
            "justify_items": null,
            "grid_row": null,
            "max_height": null,
            "align_content": null,
            "visibility": null,
            "align_self": null,
            "height": null,
            "min_height": null,
            "padding": null,
            "grid_auto_rows": null,
            "grid_gap": null,
            "max_width": null,
            "order": null,
            "_view_module_version": "1.2.0",
            "grid_template_areas": null,
            "object_position": null,
            "object_fit": null,
            "grid_auto_columns": null,
            "margin": null,
            "display": null,
            "left": null
          }
        },
        "9e39bee9ce6a4c86bbd9ee47700b42cb": {
          "model_module": "@jupyter-widgets/controls",
          "model_name": "DescriptionStyleModel",
          "state": {
            "_view_name": "StyleView",
            "_model_name": "DescriptionStyleModel",
            "description_width": "",
            "_view_module": "@jupyter-widgets/base",
            "_model_module_version": "1.5.0",
            "_view_count": null,
            "_view_module_version": "1.2.0",
            "_model_module": "@jupyter-widgets/controls"
          }
        },
        "2483afefddb84a3cb452f96631221483": {
          "model_module": "@jupyter-widgets/base",
          "model_name": "LayoutModel",
          "state": {
            "_view_name": "LayoutView",
            "grid_template_rows": null,
            "right": null,
            "justify_content": null,
            "_view_module": "@jupyter-widgets/base",
            "overflow": null,
            "_model_module_version": "1.2.0",
            "_view_count": null,
            "flex_flow": null,
            "width": null,
            "min_width": null,
            "border": null,
            "align_items": null,
            "bottom": null,
            "_model_module": "@jupyter-widgets/base",
            "top": null,
            "grid_column": null,
            "overflow_y": null,
            "overflow_x": null,
            "grid_auto_flow": null,
            "grid_area": null,
            "grid_template_columns": null,
            "flex": null,
            "_model_name": "LayoutModel",
            "justify_items": null,
            "grid_row": null,
            "max_height": null,
            "align_content": null,
            "visibility": null,
            "align_self": null,
            "height": null,
            "min_height": null,
            "padding": null,
            "grid_auto_rows": null,
            "grid_gap": null,
            "max_width": null,
            "order": null,
            "_view_module_version": "1.2.0",
            "grid_template_areas": null,
            "object_position": null,
            "object_fit": null,
            "grid_auto_columns": null,
            "margin": null,
            "display": null,
            "left": null
          }
        },
        "a9a8f989322b4cbcb2f0ebb7175c4976": {
          "model_module": "@jupyter-widgets/controls",
          "model_name": "HBoxModel",
          "state": {
            "_view_name": "HBoxView",
            "_dom_classes": [],
            "_model_name": "HBoxModel",
            "_view_module": "@jupyter-widgets/controls",
            "_model_module_version": "1.5.0",
            "_view_count": null,
            "_view_module_version": "1.5.0",
            "box_style": "",
            "layout": "IPY_MODEL_50142d5bd1d04ea19c3048227717408f",
            "_model_module": "@jupyter-widgets/controls",
            "children": [
              "IPY_MODEL_1a98518385244ca89873a5fb0ee9d0c8",
              "IPY_MODEL_448b43638e41420e950c84302fdb4b05"
            ]
          }
        },
        "50142d5bd1d04ea19c3048227717408f": {
          "model_module": "@jupyter-widgets/base",
          "model_name": "LayoutModel",
          "state": {
            "_view_name": "LayoutView",
            "grid_template_rows": null,
            "right": null,
            "justify_content": null,
            "_view_module": "@jupyter-widgets/base",
            "overflow": null,
            "_model_module_version": "1.2.0",
            "_view_count": null,
            "flex_flow": null,
            "width": null,
            "min_width": null,
            "border": null,
            "align_items": null,
            "bottom": null,
            "_model_module": "@jupyter-widgets/base",
            "top": null,
            "grid_column": null,
            "overflow_y": null,
            "overflow_x": null,
            "grid_auto_flow": null,
            "grid_area": null,
            "grid_template_columns": null,
            "flex": null,
            "_model_name": "LayoutModel",
            "justify_items": null,
            "grid_row": null,
            "max_height": null,
            "align_content": null,
            "visibility": null,
            "align_self": null,
            "height": null,
            "min_height": null,
            "padding": null,
            "grid_auto_rows": null,
            "grid_gap": null,
            "max_width": null,
            "order": null,
            "_view_module_version": "1.2.0",
            "grid_template_areas": null,
            "object_position": null,
            "object_fit": null,
            "grid_auto_columns": null,
            "margin": null,
            "display": null,
            "left": null
          }
        },
        "1a98518385244ca89873a5fb0ee9d0c8": {
          "model_module": "@jupyter-widgets/controls",
          "model_name": "FloatProgressModel",
          "state": {
            "_view_name": "ProgressView",
            "style": "IPY_MODEL_3182b60c44ba4234825051463d869ca5",
            "_dom_classes": [],
            "description": "100%",
            "_model_name": "FloatProgressModel",
            "bar_style": "success",
            "max": 19,
            "_view_module": "@jupyter-widgets/controls",
            "_model_module_version": "1.5.0",
            "value": 19,
            "_view_count": null,
            "_view_module_version": "1.5.0",
            "orientation": "horizontal",
            "min": 0,
            "description_tooltip": null,
            "_model_module": "@jupyter-widgets/controls",
            "layout": "IPY_MODEL_50bb0b433aa94e538da92cdb627d5687"
          }
        },
        "448b43638e41420e950c84302fdb4b05": {
          "model_module": "@jupyter-widgets/controls",
          "model_name": "HTMLModel",
          "state": {
            "_view_name": "HTMLView",
            "style": "IPY_MODEL_49d7357897b64173b7c5caa4a28f68de",
            "_dom_classes": [],
            "description": "",
            "_model_name": "HTMLModel",
            "placeholder": "​",
            "_view_module": "@jupyter-widgets/controls",
            "_model_module_version": "1.5.0",
            "value": " 19/19 [00:24&lt;00:00,  1.30s/it]",
            "_view_count": null,
            "_view_module_version": "1.5.0",
            "description_tooltip": null,
            "_model_module": "@jupyter-widgets/controls",
            "layout": "IPY_MODEL_83f27f5e0917490185f2dc1dda6d48d1"
          }
        },
        "3182b60c44ba4234825051463d869ca5": {
          "model_module": "@jupyter-widgets/controls",
          "model_name": "ProgressStyleModel",
          "state": {
            "_view_name": "StyleView",
            "_model_name": "ProgressStyleModel",
            "description_width": "initial",
            "_view_module": "@jupyter-widgets/base",
            "_model_module_version": "1.5.0",
            "_view_count": null,
            "_view_module_version": "1.2.0",
            "bar_color": null,
            "_model_module": "@jupyter-widgets/controls"
          }
        },
        "50bb0b433aa94e538da92cdb627d5687": {
          "model_module": "@jupyter-widgets/base",
          "model_name": "LayoutModel",
          "state": {
            "_view_name": "LayoutView",
            "grid_template_rows": null,
            "right": null,
            "justify_content": null,
            "_view_module": "@jupyter-widgets/base",
            "overflow": null,
            "_model_module_version": "1.2.0",
            "_view_count": null,
            "flex_flow": null,
            "width": null,
            "min_width": null,
            "border": null,
            "align_items": null,
            "bottom": null,
            "_model_module": "@jupyter-widgets/base",
            "top": null,
            "grid_column": null,
            "overflow_y": null,
            "overflow_x": null,
            "grid_auto_flow": null,
            "grid_area": null,
            "grid_template_columns": null,
            "flex": null,
            "_model_name": "LayoutModel",
            "justify_items": null,
            "grid_row": null,
            "max_height": null,
            "align_content": null,
            "visibility": null,
            "align_self": null,
            "height": null,
            "min_height": null,
            "padding": null,
            "grid_auto_rows": null,
            "grid_gap": null,
            "max_width": null,
            "order": null,
            "_view_module_version": "1.2.0",
            "grid_template_areas": null,
            "object_position": null,
            "object_fit": null,
            "grid_auto_columns": null,
            "margin": null,
            "display": null,
            "left": null
          }
        },
        "49d7357897b64173b7c5caa4a28f68de": {
          "model_module": "@jupyter-widgets/controls",
          "model_name": "DescriptionStyleModel",
          "state": {
            "_view_name": "StyleView",
            "_model_name": "DescriptionStyleModel",
            "description_width": "",
            "_view_module": "@jupyter-widgets/base",
            "_model_module_version": "1.5.0",
            "_view_count": null,
            "_view_module_version": "1.2.0",
            "_model_module": "@jupyter-widgets/controls"
          }
        },
        "83f27f5e0917490185f2dc1dda6d48d1": {
          "model_module": "@jupyter-widgets/base",
          "model_name": "LayoutModel",
          "state": {
            "_view_name": "LayoutView",
            "grid_template_rows": null,
            "right": null,
            "justify_content": null,
            "_view_module": "@jupyter-widgets/base",
            "overflow": null,
            "_model_module_version": "1.2.0",
            "_view_count": null,
            "flex_flow": null,
            "width": null,
            "min_width": null,
            "border": null,
            "align_items": null,
            "bottom": null,
            "_model_module": "@jupyter-widgets/base",
            "top": null,
            "grid_column": null,
            "overflow_y": null,
            "overflow_x": null,
            "grid_auto_flow": null,
            "grid_area": null,
            "grid_template_columns": null,
            "flex": null,
            "_model_name": "LayoutModel",
            "justify_items": null,
            "grid_row": null,
            "max_height": null,
            "align_content": null,
            "visibility": null,
            "align_self": null,
            "height": null,
            "min_height": null,
            "padding": null,
            "grid_auto_rows": null,
            "grid_gap": null,
            "max_width": null,
            "order": null,
            "_view_module_version": "1.2.0",
            "grid_template_areas": null,
            "object_position": null,
            "object_fit": null,
            "grid_auto_columns": null,
            "margin": null,
            "display": null,
            "left": null
          }
        },
        "7d431e02327e44968f876090d5605cb0": {
          "model_module": "@jupyter-widgets/controls",
          "model_name": "HBoxModel",
          "state": {
            "_view_name": "HBoxView",
            "_dom_classes": [],
            "_model_name": "HBoxModel",
            "_view_module": "@jupyter-widgets/controls",
            "_model_module_version": "1.5.0",
            "_view_count": null,
            "_view_module_version": "1.5.0",
            "box_style": "",
            "layout": "IPY_MODEL_1e9a59cc63d540c0988ab96e8d4583e9",
            "_model_module": "@jupyter-widgets/controls",
            "children": [
              "IPY_MODEL_88fbca3d43654eabaa40b4356aecce70",
              "IPY_MODEL_f3de7dd62ed5420e852a1f66c21bc470"
            ]
          }
        },
        "1e9a59cc63d540c0988ab96e8d4583e9": {
          "model_module": "@jupyter-widgets/base",
          "model_name": "LayoutModel",
          "state": {
            "_view_name": "LayoutView",
            "grid_template_rows": null,
            "right": null,
            "justify_content": null,
            "_view_module": "@jupyter-widgets/base",
            "overflow": null,
            "_model_module_version": "1.2.0",
            "_view_count": null,
            "flex_flow": null,
            "width": null,
            "min_width": null,
            "border": null,
            "align_items": null,
            "bottom": null,
            "_model_module": "@jupyter-widgets/base",
            "top": null,
            "grid_column": null,
            "overflow_y": null,
            "overflow_x": null,
            "grid_auto_flow": null,
            "grid_area": null,
            "grid_template_columns": null,
            "flex": null,
            "_model_name": "LayoutModel",
            "justify_items": null,
            "grid_row": null,
            "max_height": null,
            "align_content": null,
            "visibility": null,
            "align_self": null,
            "height": null,
            "min_height": null,
            "padding": null,
            "grid_auto_rows": null,
            "grid_gap": null,
            "max_width": null,
            "order": null,
            "_view_module_version": "1.2.0",
            "grid_template_areas": null,
            "object_position": null,
            "object_fit": null,
            "grid_auto_columns": null,
            "margin": null,
            "display": null,
            "left": null
          }
        },
        "88fbca3d43654eabaa40b4356aecce70": {
          "model_module": "@jupyter-widgets/controls",
          "model_name": "FloatProgressModel",
          "state": {
            "_view_name": "ProgressView",
            "style": "IPY_MODEL_e7822496b94745bfbb0dd131c253c6b8",
            "_dom_classes": [],
            "description": "100%",
            "_model_name": "FloatProgressModel",
            "bar_style": "success",
            "max": 9,
            "_view_module": "@jupyter-widgets/controls",
            "_model_module_version": "1.5.0",
            "value": 9,
            "_view_count": null,
            "_view_module_version": "1.5.0",
            "orientation": "horizontal",
            "min": 0,
            "description_tooltip": null,
            "_model_module": "@jupyter-widgets/controls",
            "layout": "IPY_MODEL_ea14e05e31654d94b81dec829e8cd4f9"
          }
        },
        "f3de7dd62ed5420e852a1f66c21bc470": {
          "model_module": "@jupyter-widgets/controls",
          "model_name": "HTMLModel",
          "state": {
            "_view_name": "HTMLView",
            "style": "IPY_MODEL_fb32bf5b86474514ba25512cf11331ae",
            "_dom_classes": [],
            "description": "",
            "_model_name": "HTMLModel",
            "placeholder": "​",
            "_view_module": "@jupyter-widgets/controls",
            "_model_module_version": "1.5.0",
            "value": " 9/9 [00:25&lt;00:00,  2.83s/it]",
            "_view_count": null,
            "_view_module_version": "1.5.0",
            "description_tooltip": null,
            "_model_module": "@jupyter-widgets/controls",
            "layout": "IPY_MODEL_d61fba6c9db34dbea60aa350972dea14"
          }
        },
        "e7822496b94745bfbb0dd131c253c6b8": {
          "model_module": "@jupyter-widgets/controls",
          "model_name": "ProgressStyleModel",
          "state": {
            "_view_name": "StyleView",
            "_model_name": "ProgressStyleModel",
            "description_width": "initial",
            "_view_module": "@jupyter-widgets/base",
            "_model_module_version": "1.5.0",
            "_view_count": null,
            "_view_module_version": "1.2.0",
            "bar_color": null,
            "_model_module": "@jupyter-widgets/controls"
          }
        },
        "ea14e05e31654d94b81dec829e8cd4f9": {
          "model_module": "@jupyter-widgets/base",
          "model_name": "LayoutModel",
          "state": {
            "_view_name": "LayoutView",
            "grid_template_rows": null,
            "right": null,
            "justify_content": null,
            "_view_module": "@jupyter-widgets/base",
            "overflow": null,
            "_model_module_version": "1.2.0",
            "_view_count": null,
            "flex_flow": null,
            "width": null,
            "min_width": null,
            "border": null,
            "align_items": null,
            "bottom": null,
            "_model_module": "@jupyter-widgets/base",
            "top": null,
            "grid_column": null,
            "overflow_y": null,
            "overflow_x": null,
            "grid_auto_flow": null,
            "grid_area": null,
            "grid_template_columns": null,
            "flex": null,
            "_model_name": "LayoutModel",
            "justify_items": null,
            "grid_row": null,
            "max_height": null,
            "align_content": null,
            "visibility": null,
            "align_self": null,
            "height": null,
            "min_height": null,
            "padding": null,
            "grid_auto_rows": null,
            "grid_gap": null,
            "max_width": null,
            "order": null,
            "_view_module_version": "1.2.0",
            "grid_template_areas": null,
            "object_position": null,
            "object_fit": null,
            "grid_auto_columns": null,
            "margin": null,
            "display": null,
            "left": null
          }
        },
        "fb32bf5b86474514ba25512cf11331ae": {
          "model_module": "@jupyter-widgets/controls",
          "model_name": "DescriptionStyleModel",
          "state": {
            "_view_name": "StyleView",
            "_model_name": "DescriptionStyleModel",
            "description_width": "",
            "_view_module": "@jupyter-widgets/base",
            "_model_module_version": "1.5.0",
            "_view_count": null,
            "_view_module_version": "1.2.0",
            "_model_module": "@jupyter-widgets/controls"
          }
        },
        "d61fba6c9db34dbea60aa350972dea14": {
          "model_module": "@jupyter-widgets/base",
          "model_name": "LayoutModel",
          "state": {
            "_view_name": "LayoutView",
            "grid_template_rows": null,
            "right": null,
            "justify_content": null,
            "_view_module": "@jupyter-widgets/base",
            "overflow": null,
            "_model_module_version": "1.2.0",
            "_view_count": null,
            "flex_flow": null,
            "width": null,
            "min_width": null,
            "border": null,
            "align_items": null,
            "bottom": null,
            "_model_module": "@jupyter-widgets/base",
            "top": null,
            "grid_column": null,
            "overflow_y": null,
            "overflow_x": null,
            "grid_auto_flow": null,
            "grid_area": null,
            "grid_template_columns": null,
            "flex": null,
            "_model_name": "LayoutModel",
            "justify_items": null,
            "grid_row": null,
            "max_height": null,
            "align_content": null,
            "visibility": null,
            "align_self": null,
            "height": null,
            "min_height": null,
            "padding": null,
            "grid_auto_rows": null,
            "grid_gap": null,
            "max_width": null,
            "order": null,
            "_view_module_version": "1.2.0",
            "grid_template_areas": null,
            "object_position": null,
            "object_fit": null,
            "grid_auto_columns": null,
            "margin": null,
            "display": null,
            "left": null
          }
        },
        "c9a555b66f3149659345d7254ddc07c4": {
          "model_module": "@jupyter-widgets/controls",
          "model_name": "HBoxModel",
          "state": {
            "_view_name": "HBoxView",
            "_dom_classes": [],
            "_model_name": "HBoxModel",
            "_view_module": "@jupyter-widgets/controls",
            "_model_module_version": "1.5.0",
            "_view_count": null,
            "_view_module_version": "1.5.0",
            "box_style": "",
            "layout": "IPY_MODEL_6dbfd05fbd1e43ebae78f7ed76ef7914",
            "_model_module": "@jupyter-widgets/controls",
            "children": [
              "IPY_MODEL_deea17b1959549e898c44fca22720b7a",
              "IPY_MODEL_f72a75de42c144a6823e70301e4490d0"
            ]
          }
        },
        "6dbfd05fbd1e43ebae78f7ed76ef7914": {
          "model_module": "@jupyter-widgets/base",
          "model_name": "LayoutModel",
          "state": {
            "_view_name": "LayoutView",
            "grid_template_rows": null,
            "right": null,
            "justify_content": null,
            "_view_module": "@jupyter-widgets/base",
            "overflow": null,
            "_model_module_version": "1.2.0",
            "_view_count": null,
            "flex_flow": null,
            "width": null,
            "min_width": null,
            "border": null,
            "align_items": null,
            "bottom": null,
            "_model_module": "@jupyter-widgets/base",
            "top": null,
            "grid_column": null,
            "overflow_y": null,
            "overflow_x": null,
            "grid_auto_flow": null,
            "grid_area": null,
            "grid_template_columns": null,
            "flex": null,
            "_model_name": "LayoutModel",
            "justify_items": null,
            "grid_row": null,
            "max_height": null,
            "align_content": null,
            "visibility": null,
            "align_self": null,
            "height": null,
            "min_height": null,
            "padding": null,
            "grid_auto_rows": null,
            "grid_gap": null,
            "max_width": null,
            "order": null,
            "_view_module_version": "1.2.0",
            "grid_template_areas": null,
            "object_position": null,
            "object_fit": null,
            "grid_auto_columns": null,
            "margin": null,
            "display": null,
            "left": null
          }
        },
        "deea17b1959549e898c44fca22720b7a": {
          "model_module": "@jupyter-widgets/controls",
          "model_name": "FloatProgressModel",
          "state": {
            "_view_name": "ProgressView",
            "style": "IPY_MODEL_9d5de3633afc4fca92974613ffdb4d59",
            "_dom_classes": [],
            "description": "100%",
            "_model_name": "FloatProgressModel",
            "bar_style": "success",
            "max": 4,
            "_view_module": "@jupyter-widgets/controls",
            "_model_module_version": "1.5.0",
            "value": 4,
            "_view_count": null,
            "_view_module_version": "1.5.0",
            "orientation": "horizontal",
            "min": 0,
            "description_tooltip": null,
            "_model_module": "@jupyter-widgets/controls",
            "layout": "IPY_MODEL_4c0ce6922db646e0b18ea9e63255597d"
          }
        },
        "f72a75de42c144a6823e70301e4490d0": {
          "model_module": "@jupyter-widgets/controls",
          "model_name": "HTMLModel",
          "state": {
            "_view_name": "HTMLView",
            "style": "IPY_MODEL_b8edb5a15d1a401eb12202a039f89c3e",
            "_dom_classes": [],
            "description": "",
            "_model_name": "HTMLModel",
            "placeholder": "​",
            "_view_module": "@jupyter-widgets/controls",
            "_model_module_version": "1.5.0",
            "value": " 4/4 [00:20&lt;00:00,  5.03s/it]",
            "_view_count": null,
            "_view_module_version": "1.5.0",
            "description_tooltip": null,
            "_model_module": "@jupyter-widgets/controls",
            "layout": "IPY_MODEL_560b36ab766e4bbe90aead9c57704cf0"
          }
        },
        "9d5de3633afc4fca92974613ffdb4d59": {
          "model_module": "@jupyter-widgets/controls",
          "model_name": "ProgressStyleModel",
          "state": {
            "_view_name": "StyleView",
            "_model_name": "ProgressStyleModel",
            "description_width": "initial",
            "_view_module": "@jupyter-widgets/base",
            "_model_module_version": "1.5.0",
            "_view_count": null,
            "_view_module_version": "1.2.0",
            "bar_color": null,
            "_model_module": "@jupyter-widgets/controls"
          }
        },
        "4c0ce6922db646e0b18ea9e63255597d": {
          "model_module": "@jupyter-widgets/base",
          "model_name": "LayoutModel",
          "state": {
            "_view_name": "LayoutView",
            "grid_template_rows": null,
            "right": null,
            "justify_content": null,
            "_view_module": "@jupyter-widgets/base",
            "overflow": null,
            "_model_module_version": "1.2.0",
            "_view_count": null,
            "flex_flow": null,
            "width": null,
            "min_width": null,
            "border": null,
            "align_items": null,
            "bottom": null,
            "_model_module": "@jupyter-widgets/base",
            "top": null,
            "grid_column": null,
            "overflow_y": null,
            "overflow_x": null,
            "grid_auto_flow": null,
            "grid_area": null,
            "grid_template_columns": null,
            "flex": null,
            "_model_name": "LayoutModel",
            "justify_items": null,
            "grid_row": null,
            "max_height": null,
            "align_content": null,
            "visibility": null,
            "align_self": null,
            "height": null,
            "min_height": null,
            "padding": null,
            "grid_auto_rows": null,
            "grid_gap": null,
            "max_width": null,
            "order": null,
            "_view_module_version": "1.2.0",
            "grid_template_areas": null,
            "object_position": null,
            "object_fit": null,
            "grid_auto_columns": null,
            "margin": null,
            "display": null,
            "left": null
          }
        },
        "b8edb5a15d1a401eb12202a039f89c3e": {
          "model_module": "@jupyter-widgets/controls",
          "model_name": "DescriptionStyleModel",
          "state": {
            "_view_name": "StyleView",
            "_model_name": "DescriptionStyleModel",
            "description_width": "",
            "_view_module": "@jupyter-widgets/base",
            "_model_module_version": "1.5.0",
            "_view_count": null,
            "_view_module_version": "1.2.0",
            "_model_module": "@jupyter-widgets/controls"
          }
        },
        "560b36ab766e4bbe90aead9c57704cf0": {
          "model_module": "@jupyter-widgets/base",
          "model_name": "LayoutModel",
          "state": {
            "_view_name": "LayoutView",
            "grid_template_rows": null,
            "right": null,
            "justify_content": null,
            "_view_module": "@jupyter-widgets/base",
            "overflow": null,
            "_model_module_version": "1.2.0",
            "_view_count": null,
            "flex_flow": null,
            "width": null,
            "min_width": null,
            "border": null,
            "align_items": null,
            "bottom": null,
            "_model_module": "@jupyter-widgets/base",
            "top": null,
            "grid_column": null,
            "overflow_y": null,
            "overflow_x": null,
            "grid_auto_flow": null,
            "grid_area": null,
            "grid_template_columns": null,
            "flex": null,
            "_model_name": "LayoutModel",
            "justify_items": null,
            "grid_row": null,
            "max_height": null,
            "align_content": null,
            "visibility": null,
            "align_self": null,
            "height": null,
            "min_height": null,
            "padding": null,
            "grid_auto_rows": null,
            "grid_gap": null,
            "max_width": null,
            "order": null,
            "_view_module_version": "1.2.0",
            "grid_template_areas": null,
            "object_position": null,
            "object_fit": null,
            "grid_auto_columns": null,
            "margin": null,
            "display": null,
            "left": null
          }
        },
        "9962dee7e65d4ae98d7a96330e37553d": {
          "model_module": "@jupyter-widgets/controls",
          "model_name": "HBoxModel",
          "state": {
            "_view_name": "HBoxView",
            "_dom_classes": [],
            "_model_name": "HBoxModel",
            "_view_module": "@jupyter-widgets/controls",
            "_model_module_version": "1.5.0",
            "_view_count": null,
            "_view_module_version": "1.5.0",
            "box_style": "",
            "layout": "IPY_MODEL_619c4ed3ae484a34b7e1bb9571a42a25",
            "_model_module": "@jupyter-widgets/controls",
            "children": [
              "IPY_MODEL_5cecfb3c7b4a44b1a64ce39350ec188f",
              "IPY_MODEL_5d594b005be340dab6ece2ee4f8c997c"
            ]
          }
        },
        "619c4ed3ae484a34b7e1bb9571a42a25": {
          "model_module": "@jupyter-widgets/base",
          "model_name": "LayoutModel",
          "state": {
            "_view_name": "LayoutView",
            "grid_template_rows": null,
            "right": null,
            "justify_content": null,
            "_view_module": "@jupyter-widgets/base",
            "overflow": null,
            "_model_module_version": "1.2.0",
            "_view_count": null,
            "flex_flow": null,
            "width": null,
            "min_width": null,
            "border": null,
            "align_items": null,
            "bottom": null,
            "_model_module": "@jupyter-widgets/base",
            "top": null,
            "grid_column": null,
            "overflow_y": null,
            "overflow_x": null,
            "grid_auto_flow": null,
            "grid_area": null,
            "grid_template_columns": null,
            "flex": null,
            "_model_name": "LayoutModel",
            "justify_items": null,
            "grid_row": null,
            "max_height": null,
            "align_content": null,
            "visibility": null,
            "align_self": null,
            "height": null,
            "min_height": null,
            "padding": null,
            "grid_auto_rows": null,
            "grid_gap": null,
            "max_width": null,
            "order": null,
            "_view_module_version": "1.2.0",
            "grid_template_areas": null,
            "object_position": null,
            "object_fit": null,
            "grid_auto_columns": null,
            "margin": null,
            "display": null,
            "left": null
          }
        },
        "5cecfb3c7b4a44b1a64ce39350ec188f": {
          "model_module": "@jupyter-widgets/controls",
          "model_name": "FloatProgressModel",
          "state": {
            "_view_name": "ProgressView",
            "style": "IPY_MODEL_f4bce1dbe2d74e8185a45e57f800f76c",
            "_dom_classes": [],
            "description": "100%",
            "_model_name": "FloatProgressModel",
            "bar_style": "success",
            "max": 4,
            "_view_module": "@jupyter-widgets/controls",
            "_model_module_version": "1.5.0",
            "value": 4,
            "_view_count": null,
            "_view_module_version": "1.5.0",
            "orientation": "horizontal",
            "min": 0,
            "description_tooltip": null,
            "_model_module": "@jupyter-widgets/controls",
            "layout": "IPY_MODEL_e1f544691cff4eed9416f4073877cf01"
          }
        },
        "5d594b005be340dab6ece2ee4f8c997c": {
          "model_module": "@jupyter-widgets/controls",
          "model_name": "HTMLModel",
          "state": {
            "_view_name": "HTMLView",
            "style": "IPY_MODEL_cb9f19403f084c9bade1f3adeac88ea7",
            "_dom_classes": [],
            "description": "",
            "_model_name": "HTMLModel",
            "placeholder": "​",
            "_view_module": "@jupyter-widgets/controls",
            "_model_module_version": "1.5.0",
            "value": " 4/4 [06:43&lt;00:00, 100.89s/it]",
            "_view_count": null,
            "_view_module_version": "1.5.0",
            "description_tooltip": null,
            "_model_module": "@jupyter-widgets/controls",
            "layout": "IPY_MODEL_110ecf70f4d348e188f525622a3784ad"
          }
        },
        "f4bce1dbe2d74e8185a45e57f800f76c": {
          "model_module": "@jupyter-widgets/controls",
          "model_name": "ProgressStyleModel",
          "state": {
            "_view_name": "StyleView",
            "_model_name": "ProgressStyleModel",
            "description_width": "initial",
            "_view_module": "@jupyter-widgets/base",
            "_model_module_version": "1.5.0",
            "_view_count": null,
            "_view_module_version": "1.2.0",
            "bar_color": null,
            "_model_module": "@jupyter-widgets/controls"
          }
        },
        "e1f544691cff4eed9416f4073877cf01": {
          "model_module": "@jupyter-widgets/base",
          "model_name": "LayoutModel",
          "state": {
            "_view_name": "LayoutView",
            "grid_template_rows": null,
            "right": null,
            "justify_content": null,
            "_view_module": "@jupyter-widgets/base",
            "overflow": null,
            "_model_module_version": "1.2.0",
            "_view_count": null,
            "flex_flow": null,
            "width": null,
            "min_width": null,
            "border": null,
            "align_items": null,
            "bottom": null,
            "_model_module": "@jupyter-widgets/base",
            "top": null,
            "grid_column": null,
            "overflow_y": null,
            "overflow_x": null,
            "grid_auto_flow": null,
            "grid_area": null,
            "grid_template_columns": null,
            "flex": null,
            "_model_name": "LayoutModel",
            "justify_items": null,
            "grid_row": null,
            "max_height": null,
            "align_content": null,
            "visibility": null,
            "align_self": null,
            "height": null,
            "min_height": null,
            "padding": null,
            "grid_auto_rows": null,
            "grid_gap": null,
            "max_width": null,
            "order": null,
            "_view_module_version": "1.2.0",
            "grid_template_areas": null,
            "object_position": null,
            "object_fit": null,
            "grid_auto_columns": null,
            "margin": null,
            "display": null,
            "left": null
          }
        },
        "cb9f19403f084c9bade1f3adeac88ea7": {
          "model_module": "@jupyter-widgets/controls",
          "model_name": "DescriptionStyleModel",
          "state": {
            "_view_name": "StyleView",
            "_model_name": "DescriptionStyleModel",
            "description_width": "",
            "_view_module": "@jupyter-widgets/base",
            "_model_module_version": "1.5.0",
            "_view_count": null,
            "_view_module_version": "1.2.0",
            "_model_module": "@jupyter-widgets/controls"
          }
        },
        "110ecf70f4d348e188f525622a3784ad": {
          "model_module": "@jupyter-widgets/base",
          "model_name": "LayoutModel",
          "state": {
            "_view_name": "LayoutView",
            "grid_template_rows": null,
            "right": null,
            "justify_content": null,
            "_view_module": "@jupyter-widgets/base",
            "overflow": null,
            "_model_module_version": "1.2.0",
            "_view_count": null,
            "flex_flow": null,
            "width": null,
            "min_width": null,
            "border": null,
            "align_items": null,
            "bottom": null,
            "_model_module": "@jupyter-widgets/base",
            "top": null,
            "grid_column": null,
            "overflow_y": null,
            "overflow_x": null,
            "grid_auto_flow": null,
            "grid_area": null,
            "grid_template_columns": null,
            "flex": null,
            "_model_name": "LayoutModel",
            "justify_items": null,
            "grid_row": null,
            "max_height": null,
            "align_content": null,
            "visibility": null,
            "align_self": null,
            "height": null,
            "min_height": null,
            "padding": null,
            "grid_auto_rows": null,
            "grid_gap": null,
            "max_width": null,
            "order": null,
            "_view_module_version": "1.2.0",
            "grid_template_areas": null,
            "object_position": null,
            "object_fit": null,
            "grid_auto_columns": null,
            "margin": null,
            "display": null,
            "left": null
          }
        },
        "cb6560cab79f4a48a31ec23e398f7fa6": {
          "model_module": "@jupyter-widgets/controls",
          "model_name": "HBoxModel",
          "state": {
            "_view_name": "HBoxView",
            "_dom_classes": [],
            "_model_name": "HBoxModel",
            "_view_module": "@jupyter-widgets/controls",
            "_model_module_version": "1.5.0",
            "_view_count": null,
            "_view_module_version": "1.5.0",
            "box_style": "",
            "layout": "IPY_MODEL_d37a4abe2ab7469ea1e827d40aedfcf8",
            "_model_module": "@jupyter-widgets/controls",
            "children": [
              "IPY_MODEL_a7af0003d72d4274965a807284f9407f",
              "IPY_MODEL_dcc5dbbe67ef467ea785b959fb985ae6"
            ]
          }
        },
        "d37a4abe2ab7469ea1e827d40aedfcf8": {
          "model_module": "@jupyter-widgets/base",
          "model_name": "LayoutModel",
          "state": {
            "_view_name": "LayoutView",
            "grid_template_rows": null,
            "right": null,
            "justify_content": null,
            "_view_module": "@jupyter-widgets/base",
            "overflow": null,
            "_model_module_version": "1.2.0",
            "_view_count": null,
            "flex_flow": null,
            "width": null,
            "min_width": null,
            "border": null,
            "align_items": null,
            "bottom": null,
            "_model_module": "@jupyter-widgets/base",
            "top": null,
            "grid_column": null,
            "overflow_y": null,
            "overflow_x": null,
            "grid_auto_flow": null,
            "grid_area": null,
            "grid_template_columns": null,
            "flex": null,
            "_model_name": "LayoutModel",
            "justify_items": null,
            "grid_row": null,
            "max_height": null,
            "align_content": null,
            "visibility": null,
            "align_self": null,
            "height": null,
            "min_height": null,
            "padding": null,
            "grid_auto_rows": null,
            "grid_gap": null,
            "max_width": null,
            "order": null,
            "_view_module_version": "1.2.0",
            "grid_template_areas": null,
            "object_position": null,
            "object_fit": null,
            "grid_auto_columns": null,
            "margin": null,
            "display": null,
            "left": null
          }
        },
        "a7af0003d72d4274965a807284f9407f": {
          "model_module": "@jupyter-widgets/controls",
          "model_name": "FloatProgressModel",
          "state": {
            "_view_name": "ProgressView",
            "style": "IPY_MODEL_096d8fb8cb0c4ab0ba3cd3c20fccea27",
            "_dom_classes": [],
            "description": "100%",
            "_model_name": "FloatProgressModel",
            "bar_style": "success",
            "max": 5,
            "_view_module": "@jupyter-widgets/controls",
            "_model_module_version": "1.5.0",
            "value": 5,
            "_view_count": null,
            "_view_module_version": "1.5.0",
            "orientation": "horizontal",
            "min": 0,
            "description_tooltip": null,
            "_model_module": "@jupyter-widgets/controls",
            "layout": "IPY_MODEL_effdfef4b0af42daa7079aab86a37f8b"
          }
        },
        "dcc5dbbe67ef467ea785b959fb985ae6": {
          "model_module": "@jupyter-widgets/controls",
          "model_name": "HTMLModel",
          "state": {
            "_view_name": "HTMLView",
            "style": "IPY_MODEL_66009ef414fc4eec8974a8dd5a157927",
            "_dom_classes": [],
            "description": "",
            "_model_name": "HTMLModel",
            "placeholder": "​",
            "_view_module": "@jupyter-widgets/controls",
            "_model_module_version": "1.5.0",
            "value": " 5/5 [06:20&lt;00:00, 76.15s/it]",
            "_view_count": null,
            "_view_module_version": "1.5.0",
            "description_tooltip": null,
            "_model_module": "@jupyter-widgets/controls",
            "layout": "IPY_MODEL_7a35a5778bea4bf8b809652d9965f8ba"
          }
        },
        "096d8fb8cb0c4ab0ba3cd3c20fccea27": {
          "model_module": "@jupyter-widgets/controls",
          "model_name": "ProgressStyleModel",
          "state": {
            "_view_name": "StyleView",
            "_model_name": "ProgressStyleModel",
            "description_width": "initial",
            "_view_module": "@jupyter-widgets/base",
            "_model_module_version": "1.5.0",
            "_view_count": null,
            "_view_module_version": "1.2.0",
            "bar_color": null,
            "_model_module": "@jupyter-widgets/controls"
          }
        },
        "effdfef4b0af42daa7079aab86a37f8b": {
          "model_module": "@jupyter-widgets/base",
          "model_name": "LayoutModel",
          "state": {
            "_view_name": "LayoutView",
            "grid_template_rows": null,
            "right": null,
            "justify_content": null,
            "_view_module": "@jupyter-widgets/base",
            "overflow": null,
            "_model_module_version": "1.2.0",
            "_view_count": null,
            "flex_flow": null,
            "width": null,
            "min_width": null,
            "border": null,
            "align_items": null,
            "bottom": null,
            "_model_module": "@jupyter-widgets/base",
            "top": null,
            "grid_column": null,
            "overflow_y": null,
            "overflow_x": null,
            "grid_auto_flow": null,
            "grid_area": null,
            "grid_template_columns": null,
            "flex": null,
            "_model_name": "LayoutModel",
            "justify_items": null,
            "grid_row": null,
            "max_height": null,
            "align_content": null,
            "visibility": null,
            "align_self": null,
            "height": null,
            "min_height": null,
            "padding": null,
            "grid_auto_rows": null,
            "grid_gap": null,
            "max_width": null,
            "order": null,
            "_view_module_version": "1.2.0",
            "grid_template_areas": null,
            "object_position": null,
            "object_fit": null,
            "grid_auto_columns": null,
            "margin": null,
            "display": null,
            "left": null
          }
        },
        "66009ef414fc4eec8974a8dd5a157927": {
          "model_module": "@jupyter-widgets/controls",
          "model_name": "DescriptionStyleModel",
          "state": {
            "_view_name": "StyleView",
            "_model_name": "DescriptionStyleModel",
            "description_width": "",
            "_view_module": "@jupyter-widgets/base",
            "_model_module_version": "1.5.0",
            "_view_count": null,
            "_view_module_version": "1.2.0",
            "_model_module": "@jupyter-widgets/controls"
          }
        },
        "7a35a5778bea4bf8b809652d9965f8ba": {
          "model_module": "@jupyter-widgets/base",
          "model_name": "LayoutModel",
          "state": {
            "_view_name": "LayoutView",
            "grid_template_rows": null,
            "right": null,
            "justify_content": null,
            "_view_module": "@jupyter-widgets/base",
            "overflow": null,
            "_model_module_version": "1.2.0",
            "_view_count": null,
            "flex_flow": null,
            "width": null,
            "min_width": null,
            "border": null,
            "align_items": null,
            "bottom": null,
            "_model_module": "@jupyter-widgets/base",
            "top": null,
            "grid_column": null,
            "overflow_y": null,
            "overflow_x": null,
            "grid_auto_flow": null,
            "grid_area": null,
            "grid_template_columns": null,
            "flex": null,
            "_model_name": "LayoutModel",
            "justify_items": null,
            "grid_row": null,
            "max_height": null,
            "align_content": null,
            "visibility": null,
            "align_self": null,
            "height": null,
            "min_height": null,
            "padding": null,
            "grid_auto_rows": null,
            "grid_gap": null,
            "max_width": null,
            "order": null,
            "_view_module_version": "1.2.0",
            "grid_template_areas": null,
            "object_position": null,
            "object_fit": null,
            "grid_auto_columns": null,
            "margin": null,
            "display": null,
            "left": null
          }
        },
        "3ced429ef21f44879b18037a0f1cd853": {
          "model_module": "@jupyter-widgets/controls",
          "model_name": "HBoxModel",
          "state": {
            "_view_name": "HBoxView",
            "_dom_classes": [],
            "_model_name": "HBoxModel",
            "_view_module": "@jupyter-widgets/controls",
            "_model_module_version": "1.5.0",
            "_view_count": null,
            "_view_module_version": "1.5.0",
            "box_style": "",
            "layout": "IPY_MODEL_66303cde5dae4cc2a1060e06afa6af78",
            "_model_module": "@jupyter-widgets/controls",
            "children": [
              "IPY_MODEL_c7a23e8bbc3e4b5cb11ab5a66b87167b",
              "IPY_MODEL_8877432874044e65b48df5cb4b8834d6"
            ]
          }
        },
        "66303cde5dae4cc2a1060e06afa6af78": {
          "model_module": "@jupyter-widgets/base",
          "model_name": "LayoutModel",
          "state": {
            "_view_name": "LayoutView",
            "grid_template_rows": null,
            "right": null,
            "justify_content": null,
            "_view_module": "@jupyter-widgets/base",
            "overflow": null,
            "_model_module_version": "1.2.0",
            "_view_count": null,
            "flex_flow": null,
            "width": null,
            "min_width": null,
            "border": null,
            "align_items": null,
            "bottom": null,
            "_model_module": "@jupyter-widgets/base",
            "top": null,
            "grid_column": null,
            "overflow_y": null,
            "overflow_x": null,
            "grid_auto_flow": null,
            "grid_area": null,
            "grid_template_columns": null,
            "flex": null,
            "_model_name": "LayoutModel",
            "justify_items": null,
            "grid_row": null,
            "max_height": null,
            "align_content": null,
            "visibility": null,
            "align_self": null,
            "height": null,
            "min_height": null,
            "padding": null,
            "grid_auto_rows": null,
            "grid_gap": null,
            "max_width": null,
            "order": null,
            "_view_module_version": "1.2.0",
            "grid_template_areas": null,
            "object_position": null,
            "object_fit": null,
            "grid_auto_columns": null,
            "margin": null,
            "display": null,
            "left": null
          }
        },
        "c7a23e8bbc3e4b5cb11ab5a66b87167b": {
          "model_module": "@jupyter-widgets/controls",
          "model_name": "FloatProgressModel",
          "state": {
            "_view_name": "ProgressView",
            "style": "IPY_MODEL_424f39af3e1c442c8b618126dad7c270",
            "_dom_classes": [],
            "description": "100%",
            "_model_name": "FloatProgressModel",
            "bar_style": "success",
            "max": 10,
            "_view_module": "@jupyter-widgets/controls",
            "_model_module_version": "1.5.0",
            "value": 10,
            "_view_count": null,
            "_view_module_version": "1.5.0",
            "orientation": "horizontal",
            "min": 0,
            "description_tooltip": null,
            "_model_module": "@jupyter-widgets/controls",
            "layout": "IPY_MODEL_cd54313446b54c5cac84794834607514"
          }
        },
        "8877432874044e65b48df5cb4b8834d6": {
          "model_module": "@jupyter-widgets/controls",
          "model_name": "HTMLModel",
          "state": {
            "_view_name": "HTMLView",
            "style": "IPY_MODEL_9b352341b5fe49e4a8dfb7c4b499f3e9",
            "_dom_classes": [],
            "description": "",
            "_model_name": "HTMLModel",
            "placeholder": "​",
            "_view_module": "@jupyter-widgets/controls",
            "_model_module_version": "1.5.0",
            "value": " 10/10 [00:26&lt;00:00,  2.62s/it]",
            "_view_count": null,
            "_view_module_version": "1.5.0",
            "description_tooltip": null,
            "_model_module": "@jupyter-widgets/controls",
            "layout": "IPY_MODEL_fa2137b8548d4a5f8585153f458563cd"
          }
        },
        "424f39af3e1c442c8b618126dad7c270": {
          "model_module": "@jupyter-widgets/controls",
          "model_name": "ProgressStyleModel",
          "state": {
            "_view_name": "StyleView",
            "_model_name": "ProgressStyleModel",
            "description_width": "initial",
            "_view_module": "@jupyter-widgets/base",
            "_model_module_version": "1.5.0",
            "_view_count": null,
            "_view_module_version": "1.2.0",
            "bar_color": null,
            "_model_module": "@jupyter-widgets/controls"
          }
        },
        "cd54313446b54c5cac84794834607514": {
          "model_module": "@jupyter-widgets/base",
          "model_name": "LayoutModel",
          "state": {
            "_view_name": "LayoutView",
            "grid_template_rows": null,
            "right": null,
            "justify_content": null,
            "_view_module": "@jupyter-widgets/base",
            "overflow": null,
            "_model_module_version": "1.2.0",
            "_view_count": null,
            "flex_flow": null,
            "width": null,
            "min_width": null,
            "border": null,
            "align_items": null,
            "bottom": null,
            "_model_module": "@jupyter-widgets/base",
            "top": null,
            "grid_column": null,
            "overflow_y": null,
            "overflow_x": null,
            "grid_auto_flow": null,
            "grid_area": null,
            "grid_template_columns": null,
            "flex": null,
            "_model_name": "LayoutModel",
            "justify_items": null,
            "grid_row": null,
            "max_height": null,
            "align_content": null,
            "visibility": null,
            "align_self": null,
            "height": null,
            "min_height": null,
            "padding": null,
            "grid_auto_rows": null,
            "grid_gap": null,
            "max_width": null,
            "order": null,
            "_view_module_version": "1.2.0",
            "grid_template_areas": null,
            "object_position": null,
            "object_fit": null,
            "grid_auto_columns": null,
            "margin": null,
            "display": null,
            "left": null
          }
        },
        "9b352341b5fe49e4a8dfb7c4b499f3e9": {
          "model_module": "@jupyter-widgets/controls",
          "model_name": "DescriptionStyleModel",
          "state": {
            "_view_name": "StyleView",
            "_model_name": "DescriptionStyleModel",
            "description_width": "",
            "_view_module": "@jupyter-widgets/base",
            "_model_module_version": "1.5.0",
            "_view_count": null,
            "_view_module_version": "1.2.0",
            "_model_module": "@jupyter-widgets/controls"
          }
        },
        "fa2137b8548d4a5f8585153f458563cd": {
          "model_module": "@jupyter-widgets/base",
          "model_name": "LayoutModel",
          "state": {
            "_view_name": "LayoutView",
            "grid_template_rows": null,
            "right": null,
            "justify_content": null,
            "_view_module": "@jupyter-widgets/base",
            "overflow": null,
            "_model_module_version": "1.2.0",
            "_view_count": null,
            "flex_flow": null,
            "width": null,
            "min_width": null,
            "border": null,
            "align_items": null,
            "bottom": null,
            "_model_module": "@jupyter-widgets/base",
            "top": null,
            "grid_column": null,
            "overflow_y": null,
            "overflow_x": null,
            "grid_auto_flow": null,
            "grid_area": null,
            "grid_template_columns": null,
            "flex": null,
            "_model_name": "LayoutModel",
            "justify_items": null,
            "grid_row": null,
            "max_height": null,
            "align_content": null,
            "visibility": null,
            "align_self": null,
            "height": null,
            "min_height": null,
            "padding": null,
            "grid_auto_rows": null,
            "grid_gap": null,
            "max_width": null,
            "order": null,
            "_view_module_version": "1.2.0",
            "grid_template_areas": null,
            "object_position": null,
            "object_fit": null,
            "grid_auto_columns": null,
            "margin": null,
            "display": null,
            "left": null
          }
        }
      }
    }
  },
  "cells": [
    {
      "cell_type": "code",
      "metadata": {
        "id": "SjYU9batNOPK"
      },
      "source": [
        "import numpy as np\n",
        "from scipy.sparse import hstack, issparse\n",
        "import scipy.linalg as sla\n",
        "from scipy.sparse.linalg import expm\n",
        "from sklearn.datasets import load_svmlight_file\n",
        "from sklearn.metrics import roc_auc_score\n",
        "from scipy.optimize.linesearch import scalar_search_wolfe2\n",
        "from scipy.optimize import brent, golden\n",
        "from tqdm.notebook import tqdm\n",
        "from tabulate import tabulate\n",
        "import matplotlib.pyplot as plt\n",
        "import time\n",
        "import scipy\n",
        "from collections import deque\n",
        "\n",
        "import warnings\n",
        "warnings.filterwarnings(\"ignore\")"
      ],
      "execution_count": 28,
      "outputs": []
    },
    {
      "cell_type": "markdown",
      "metadata": {
        "id": "izksbF8LQvxS"
      },
      "source": [
        "$$\n",
        "\\begin{gathered}\n",
        "loss(w) = - \\frac{1}{N} (y * \\log(\\sigma(X w^T)) + (1 - y) * \\log (\\sigma (X w^T)) \\\\\n",
        "\\nabla loss(w) = \\frac{1}{N} X^T * (\\sigma(w^T X) - y) \\\\\n",
        "\\nabla^2 loss(w) = X (\\sigma(w^T X)(1 - \\sigma(w^T X))) X^T\n",
        "\\end{gathered}\n",
        "$$"
      ]
    },
    {
      "cell_type": "markdown",
      "metadata": {
        "id": "ma5C3cPU1LaV"
      },
      "source": [
        "## Оракул"
      ]
    },
    {
      "cell_type": "code",
      "metadata": {
        "id": "RL5JY8d4MBQq"
      },
      "source": [
        "class Oracle:\n",
        "\n",
        "    def __init__(self, X, y):\n",
        "        self.X = self.__extend_X(X)\n",
        "        self.y = y\n",
        "        self.__n_calls = 0\n",
        "        self.eps = 1e-08\n",
        "        self.N = self.y.shape[0]\n",
        "\n",
        "    \n",
        "    def start_count(self, W_init):\n",
        "        self.__opt_score = self.__get_optimum_score(W_init)\n",
        "        self.__init_grad = self.grad(W_init)\n",
        "        self.__n_calls = 0\n",
        "        self.__n_iter = 0\n",
        "        self.__time = time.time()\n",
        "\n",
        "        self.iter_array = []\n",
        "        self.time_array = []\n",
        "        self.calls_array = []\n",
        "        self.scores_1 = []\n",
        "        self.scores_2 = []\n",
        "        self.entropy = []\n",
        "\n",
        "    \n",
        "    def __get_optimum_score(self, W_init):\n",
        "        result = scipy.optimize.minimize(self.value, x0 = W_init, method='Newton-CG', \n",
        "                             jac=self.grad, hess=self.hessian)\n",
        "        return self.value(result.x)\n",
        "\n",
        "\n",
        "    def next_iteration(self, x):\n",
        "        self.iter_array.append(self.__n_iter)\n",
        "        self.calls_array.append(self.__n_calls)\n",
        "\n",
        "        self.time_array.append(time.time() - self.__time)\n",
        "        self.__n_iter += 1\n",
        "        entropy = self.value(x) \n",
        "\n",
        "        score_1 = abs(entropy - self.__opt_score)\n",
        "        score_2 = np.linalg.norm(self.grad(x)) ** 2 / np.linalg.norm(self.__init_grad) ** 2 \n",
        "        self.scores_1.append(score_1)\n",
        "        self.scores_2.append(score_2)\n",
        "        self.entropy.append(entropy)\n",
        "\n",
        "\n",
        "    def get_n_calls(self):\n",
        "        return self.__n_calls\n",
        "\n",
        "\n",
        "    def __extend_X(self, X):\n",
        "        intercept = np.ones((X.shape[0], 1))\n",
        "        if issparse(X):\n",
        "            return hstack([intercept, X])\n",
        "        else:\n",
        "            return np.hstack([intercept, X])\n",
        "\n",
        "\n",
        "    def __sigmoid(self, z):\n",
        "        return 1 / (1 + np.exp(-z))\n",
        "\n",
        "\n",
        "    def get_prob(self, w):\n",
        "        p = self.__sigmoid(self.X @ w.T)\n",
        "        return np.clip(p, 1e-10, 1 - 1e-10)\n",
        "\n",
        "\n",
        "    def value(self, w):\n",
        "        p = self.get_prob(w)\n",
        "        self.__n_calls += 1\n",
        "\n",
        "        return -(self.y * np.log(p + self.eps) + (1 - self.y) * np.log(1 - p + self.eps)).mean()\n",
        "\n",
        "\n",
        "    def grad(self, w):\n",
        "        p = self.get_prob(w)\n",
        "        self.__n_calls += 1\n",
        "\n",
        "        return self.X.T @ (p - self.y) / self.N\n",
        "\n",
        "    def hessian(self, w):\n",
        "        p = self.get_prob(w)\n",
        "        self.__n_calls += 1\n",
        "\n",
        "        return self.X.T @ np.diag(p * (1 - p)) @ self.X / self.N\n",
        "\n",
        "    def hessian_vec_product(self, w, d):\n",
        "        p = self.get_prob(w)\n",
        "        self.__n_calls += 1\n",
        "        result = (self.X @ d)\n",
        "        result = np.diag(p * (1 - p)) @ result\n",
        "        result = self.X.T @ result\n",
        "\n",
        "        return result / self.N\n",
        "\n",
        "\n",
        "    def fuse_value_grad(self, x):\n",
        "        return self.value(x), self.grad(x)\n",
        "\n",
        "\n",
        "    def fuse_value_grad_hessian(self, x):\n",
        "        return self.value(x), self.grad(x), self.hessian(x)\n",
        "\n",
        "\n",
        "    def fuse_value_grad_hessian_vec_product(self, x, d):\n",
        "        return self.value(x), self.grad(x), self.hessian_vec_product(x, d)"
      ],
      "execution_count": 29,
      "outputs": []
    },
    {
      "cell_type": "markdown",
      "metadata": {
        "id": "_Bhd4tyU1N9D"
      },
      "source": [
        "## Загрузка датасетов"
      ]
    },
    {
      "cell_type": "code",
      "metadata": {
        "id": "iwD5Cd7TMLWe"
      },
      "source": [
        "def make_oracle(data_path) :\n",
        "    if not data_path == 'random':\n",
        "        X, y = load_svmlight_file(data_path)\n",
        "        \n",
        "        nums = list(set(y))\n",
        "        for i in range(len(nums)):\n",
        "            y[y == nums[i]] = i\n",
        "\n",
        "        print('Dataset shape: ', X.shape, y.shape)        \n",
        "\n",
        "        return Oracle(X, y)\n",
        "     \n",
        "    a, b = np.random.uniform(-1, 1, 2)\n",
        "    X = (a * np.random.normal(0, 1, 1000) + b)\n",
        "    y = np.apply_along_axis(lambda  x: (x >= 0).astype(np.int), 0, X)\n",
        "    X = X.reshape(-1, 1)\n",
        "    print('Dataset shape: ', X.shape, y.shape)\n",
        "    print('Unique:', np.unique(y))\n",
        "\n",
        "    return Oracle(X, y)"
      ],
      "execution_count": 30,
      "outputs": []
    },
    {
      "cell_type": "markdown",
      "metadata": {
        "id": "XVNuDc4C1V6e"
      },
      "source": [
        "## Реализация Line Search"
      ]
    },
    {
      "cell_type": "code",
      "metadata": {
        "id": "-TXoSZU82Vcj"
      },
      "source": [
        "class LineSearch:\n",
        "\n",
        "    def __init__(self, oracle, name = 'wolfe', \n",
        "                 c_armijo = 0.4, c1_wolfe=0.4, c2_wolfe=0.9):\n",
        "        self.c_armijo = c_armijo\n",
        "        self.c1_wolfe = c1_wolfe\n",
        "        self.c2_wolfe = c2_wolfe\n",
        "        self.oracle = oracle\n",
        "        self.__method = name\n",
        "\n",
        "    \n",
        "    def line_search(self, x, direction, a_start=100):\n",
        "        value = lambda a: self.oracle.value(x + a * direction)\n",
        "        grad = lambda a: self.oracle.grad(x + a * direction).T @ direction\n",
        "        \n",
        "        if self.__method == 'armijo':\n",
        "            return self.__armijo(value, grad, a_start)\n",
        "        elif self.__method == 'wolfe':\n",
        "            result = scalar_search_wolfe2(value, grad,\n",
        "                                          phi0=a_start, \n",
        "                                          c1=self.c1_wolfe, c2=self.c2_wolfe)[0]\n",
        "\n",
        "            if result is None:\n",
        "                return self.__armijo(value, grad, a_start)\n",
        "            return result\n",
        "        elif self.__method == 'brent':\n",
        "            return brent(value)\n",
        "        elif self.__method == 'golden':\n",
        "            return golden(value)\n",
        "        elif self.__method == 'nesterov':\n",
        "            return self.__nesterov(x, direction)\n",
        "\n",
        "\n",
        "    def __armijo(self, value, grad, a_start, maxiter=100):\n",
        "        a = a_start\n",
        "        c = self.c_armijo\n",
        "\n",
        "        for i in range(maxiter):\n",
        "            if value(a) <= value(0) + c * a * grad(0):\n",
        "                break\n",
        "\n",
        "            a = a / 2\n",
        "\n",
        "        return a\n",
        "\n",
        "    \n",
        "    def __nesterov(self, x, direction, maxiter=1000):\n",
        "        L = 0.01\n",
        "\n",
        "        for i in range(maxiter):\n",
        "            x_next = x + 1 / L * direction\n",
        "\n",
        "            if self.oracle.value(x_next) <= self.oracle.value(x) + \\\n",
        "                    self.oracle.grad(x).T @ (x_next - x) + \\\n",
        "                    L / 2 * np.linalg.norm(x_next - x) ** 2:\n",
        "                break\n",
        "\n",
        "            L = L * 2\n",
        "\n",
        "        L = L / 2\n",
        "        return 1 / L"
      ],
      "execution_count": 31,
      "outputs": []
    },
    {
      "cell_type": "markdown",
      "metadata": {
        "id": "u1-Tl0HQ6Ezf"
      },
      "source": [
        "## Начальное значение"
      ]
    },
    {
      "cell_type": "code",
      "metadata": {
        "id": "4aIW6FSA6Mb0"
      },
      "source": [
        "def init_weights(shape, start_type='zeros'):\n",
        "    if start_type == 'zeros':\n",
        "        return np.zeros(shape)\n",
        "    if start_type == 'ones':\n",
        "        return np.ones(shape)\n",
        "    if start_type == 'random':\n",
        "        return np.random.uniform(0, 1, shape)"
      ],
      "execution_count": 32,
      "outputs": []
    },
    {
      "cell_type": "markdown",
      "metadata": {
        "id": "Vd8dflAvYv4B"
      },
      "source": [
        "## Анализ методов"
      ]
    },
    {
      "cell_type": "code",
      "metadata": {
        "id": "k4fRkponEvQH"
      },
      "source": [
        "def analyze(data_path, opt_method, start_type='zeros', nesterov=True, graph=True):\n",
        "    oracle = make_oracle(data_path)\n",
        "    start_point = init_weights(oracle.X.shape[1], start_type)\n",
        "\n",
        "    line_search_methods = ['golden', 'wolfe', 'brent', 'armijo']\n",
        "    if nesterov:\n",
        "        line_search_methods.append('nesterov')\n",
        "\n",
        "    dict_time = {}\n",
        "    dict_iters = {}\n",
        "    dict_calls = {}\n",
        "    dict_scores_1 = {}\n",
        "    dict_scores_2 = {}\n",
        "    dict_entropy = {}\n",
        "\n",
        "    for line_search in tqdm(line_search_methods):\n",
        "        ls = LineSearch(oracle, line_search)\n",
        "        _ = opt_method(oracle, start_point, ls)\n",
        "\n",
        "        dict_time[line_search] = oracle.time_array\n",
        "        dict_iters[line_search] = oracle.iter_array\n",
        "        dict_calls[line_search] = oracle.calls_array\n",
        "        dict_scores_1[line_search] = oracle.scores_1\n",
        "        dict_scores_2[line_search] = oracle.scores_2\n",
        "        dict_entropy[line_search] = oracle.entropy\n",
        "\n",
        "    table = []\n",
        "    for line_search in line_search_methods:\n",
        "        row = {}\n",
        "        row['Method'] = line_search\n",
        "        row['Entropy'] = dict_entropy[line_search][-1]\n",
        "        row['Num Iter'] = dict_iters[line_search][-1]\n",
        "        row['Oracle Calls'] = dict_calls[line_search][-1]\n",
        "        row['Time'] = int(dict_time[line_search][-1] * 100) / 100\n",
        "        table.append(row)\n",
        "\n",
        "    print(tabulate(table, headers=\"keys\", tablefmt=\"github\"))\n",
        "\n",
        "    if graph:\n",
        "        for line_dict, name in [(dict_time, 'Time'), (dict_iters, 'Iterations'), (dict_calls, 'Calls')]:\n",
        "            _, axes = plt.subplots(nrows=1, ncols=2, figsize=(22,4))\n",
        "\n",
        "            for line_search in line_search_methods:\n",
        "                axes[0].plot(line_dict[line_search], np.log(dict_scores_1[line_search]), label=line_search);\n",
        "                axes[1].plot(line_dict[line_search], np.log(dict_scores_2[line_search]), label=line_search);\n",
        "\n",
        "            axes[0].legend()\n",
        "            axes[0].set_xlabel(name)\n",
        "            axes[0].set_ylabel('log|F(w) - F(w*)|')\n",
        "            axes[1].legend()\n",
        "            axes[1].set_xlabel(name)\n",
        "            axes[1].set_ylabel('log(|grad F(w)|^2 / |grad F(w_0)|^2)')\n",
        "\n",
        "            plt.suptitle(name)\n",
        "            plt.show()"
      ],
      "execution_count": 33,
      "outputs": []
    },
    {
      "cell_type": "markdown",
      "metadata": {
        "id": "yKgcFLd81cyZ"
      },
      "source": [
        "## Градиентный спуск"
      ]
    },
    {
      "cell_type": "code",
      "metadata": {
        "id": "llmfpkrp7Ues"
      },
      "source": [
        "def optimize(f, start_point, line_search, tol=1e-08, max_iter=10000):\n",
        "\n",
        "    W_init = start_point\n",
        "    W_init_grad = f.grad(W_init)\n",
        "\n",
        "    W = W_init.copy()\n",
        "    W_grad = W_init_grad.copy()\n",
        "\n",
        "    f.start_count(W_init)\n",
        "\n",
        "    for k in range(max_iter + 1):\n",
        "        if np.linalg.norm(W_grad) ** 2 / np.linalg.norm(W_init_grad) ** 2 < tol:\n",
        "            break\n",
        "\n",
        "        direction = -W_grad\n",
        "        a = line_search.line_search(W, direction)\n",
        "        W += a * direction\n",
        "\n",
        "        W_loss, W_grad = f.fuse_value_grad(W)\n",
        "\n",
        "        f.next_iteration(W)\n",
        "\n",
        "    return W"
      ],
      "execution_count": 34,
      "outputs": []
    },
    {
      "cell_type": "markdown",
      "metadata": {
        "id": "_CU87XxcY4A8"
      },
      "source": [
        "## Метод Ньютона"
      ]
    },
    {
      "cell_type": "code",
      "metadata": {
        "id": "X_IIzO4RQQ00"
      },
      "source": [
        "def cholesky(A, b, tol):\n",
        "    A_k = A.copy()\n",
        "    is_fine = False\n",
        "    tk = tol\n",
        "\n",
        "    while not is_fine:\n",
        "        try:\n",
        "            L = np.linalg.cholesky(A_k)\n",
        "\n",
        "            is_fine = True\n",
        "        except np.linalg.LinAlgError:\n",
        "            is_fine = False\n",
        "        \n",
        "        A_k = A_k + np.eye(A_k.shape[0]) * tk\n",
        "        tk *= 2\n",
        "\n",
        "    y = sla.solve(L, b)\n",
        "    x = sla.solve(L.T.conj(), y)\n",
        "\n",
        "    return x"
      ],
      "execution_count": 35,
      "outputs": []
    },
    {
      "cell_type": "code",
      "metadata": {
        "id": "X83ZrHH3qL2a"
      },
      "source": [
        "def optimize_newton(f, start_point, line_search, tol=1e-08, max_iter=10000):\n",
        "\n",
        "    W_init = start_point\n",
        "    W_init_grad = f.grad(W_init)\n",
        "\n",
        "    W = W_init.copy()\n",
        "\n",
        "    f.start_count(W_init)\n",
        "    \n",
        "    W_grad = f.grad(W)\n",
        "    W_hessian = f.hessian(W)\n",
        "\n",
        "    for k in range(max_iter + 1):\n",
        "        if np.linalg.norm(W_grad) ** 2 / np.linalg.norm(W_init_grad) ** 2 < tol:\n",
        "            break\n",
        "\n",
        "        direction = cholesky(W_hessian, -W_grad, tol)\n",
        "        direction_norm = np.linalg.norm(direction)\n",
        "\n",
        "        if direction_norm > 1000:\n",
        "            direction = direction / direction_norm\n",
        "\n",
        "        a = line_search.line_search(W, direction, 1)\n",
        "        W += a * direction\n",
        "\n",
        "        W_loss, W_grad, W_hessian = f.fuse_value_grad_hessian(W)\n",
        "        \n",
        "        f.next_iteration(W)\n",
        "\n",
        "    return W"
      ],
      "execution_count": 36,
      "outputs": []
    },
    {
      "cell_type": "markdown",
      "metadata": {
        "id": "85_wwHARZZZu"
      },
      "source": [
        "## Hessian-Free Newton"
      ]
    },
    {
      "cell_type": "code",
      "metadata": {
        "id": "D8hyMnrTfzFN"
      },
      "source": [
        "def conj_grad(oracle, W, W_grad, tol, start_point):\n",
        "    x = start_point\n",
        "    g = oracle.hessian_vec_product(W, x) + W_grad\n",
        "    d = -g\n",
        "    stopping_crit = tol * np.linalg.norm(W_grad)\n",
        "    g_norm = g.T @ g\n",
        "\n",
        "    n = len(W)\n",
        "\n",
        "    for i in range(2 * n):\n",
        "        if np.linalg.norm(g) <= stopping_crit:\n",
        "            break\n",
        "            \n",
        "        prod = oracle.hessian_vec_product(W, d)\n",
        "        alpha = g_norm / (d @ prod)\n",
        "        x += alpha * d\n",
        "        g += alpha * prod\n",
        "\n",
        "        g_norm_2 = g.T @ g\n",
        "        beta = g_norm_2 / g_norm\n",
        "        d = beta * d - g\n",
        "        g_norm = g_norm_2\n",
        "\n",
        "    return x"
      ],
      "execution_count": 37,
      "outputs": []
    },
    {
      "cell_type": "code",
      "metadata": {
        "id": "pIjEI_yV4gIj"
      },
      "source": [
        "def hfn_optimize(f, start_point, line_search, tol=1e-08, max_iter=10000):\n",
        "\n",
        "    W_init = start_point\n",
        "    W_init_grad = f.grad(W_init)\n",
        "\n",
        "    W = W_init.copy()\n",
        "    W_grad = W_init_grad.copy()\n",
        "\n",
        "    f.start_count(W_init)\n",
        "\n",
        "    for k in range(max_iter + 1):\n",
        "        \n",
        "        if np.linalg.norm(W_grad) ** 2 / np.linalg.norm(W_init_grad) ** 2 < tol:\n",
        "            break\n",
        "\n",
        "        tol_eta = min(0.5, np.sqrt(np.linalg.norm(W_grad)))\n",
        "        direction = conj_grad(f, W, W_grad, tol_eta, -W_grad)\n",
        "\n",
        "        while direction.T @ W_grad >= 0:\n",
        "            tol_eta /= 10\n",
        "            direction = conj_grad(f, W, W_grad, tol_eta, direction)\n",
        "\n",
        "        a = line_search.line_search(W, direction, 1)\n",
        "        W += a * direction\n",
        "\n",
        "        W_loss, W_grad = f.fuse_value_grad(W)\n",
        "\n",
        "        f.next_iteration(W)\n",
        "\n",
        "\n",
        "    return W"
      ],
      "execution_count": 38,
      "outputs": []
    },
    {
      "cell_type": "markdown",
      "metadata": {
        "id": "XhGONvIK4pyW"
      },
      "source": [
        "# L-BFGS"
      ]
    },
    {
      "cell_type": "code",
      "metadata": {
        "id": "C7WyI2oq-50U"
      },
      "source": [
        "def count_bfgs_direction(H, W_grad):\n",
        "    d = -W_grad\n",
        "\n",
        "    if len(H) > 0:\n",
        "        mu = np.zeros(len(H))\n",
        "        for i in range(len(H) - 1, -1, -1):\n",
        "            s, y = H[i]\n",
        "            mu[i] = (s.T @ d) / (s.T @ y)\n",
        "            d -= mu[i] * y\n",
        "\n",
        "      \n",
        "        s, y = H[-1]\n",
        "        d = (s.T @ y) / (y.T @ y) * d\n",
        "\n",
        "        for i in range(0, len(H)):\n",
        "            s, y = H[i]\n",
        "            b = (y @ d) / (s.T @ y)\n",
        "            d += (mu[i] - b) * s\n",
        "\n",
        "    return d"
      ],
      "execution_count": 39,
      "outputs": []
    },
    {
      "cell_type": "code",
      "metadata": {
        "id": "AGSwiKfI4uS8"
      },
      "source": [
        "def lbfgs_optimize(f, start_point, tol=1e-08, max_iter=10000, l=100):\n",
        "\n",
        "    W_init = start_point\n",
        "    W_init_grad = f.grad(W_init)\n",
        "\n",
        "    line_search = LineSearch(f, 'wolfe')\n",
        "\n",
        "    W = W_init.copy()\n",
        "    W_grad = W_init_grad.copy()\n",
        "\n",
        "    W_priv, W_grad_priv = W, W_grad\n",
        "    \n",
        "    H = deque([]) \n",
        "\n",
        "    f.start_count(W_init)\n",
        "\n",
        "    for k in range(max_iter + 1):\n",
        "        if np.linalg.norm(W_grad) ** 2 / np.linalg.norm(W_init_grad) ** 2 < tol:\n",
        "            break\n",
        "\n",
        "        direction = count_bfgs_direction(H, W_grad)\n",
        "        a = line_search.line_search(W, direction)\n",
        "\n",
        "        W_priv, W_grad_priv = W.copy(), W_grad.copy()\n",
        "\n",
        "        W += a * direction\n",
        "        W_loss, W_grad = f.fuse_value_grad(W)\n",
        "  \n",
        "        f.next_iteration(W)\n",
        "\n",
        "        H.append((W - W_priv, W_grad - W_grad_priv))\n",
        "        if len(H) > l:\n",
        "            H.popleft()\n",
        "\n",
        "    return W"
      ],
      "execution_count": 40,
      "outputs": []
    },
    {
      "cell_type": "markdown",
      "metadata": {
        "id": "3fCXQyq0JxWs"
      },
      "source": [
        "# Анализ L-BFGS"
      ]
    },
    {
      "cell_type": "code",
      "metadata": {
        "id": "fC3yP8ThIxtS"
      },
      "source": [
        "def analyze_bfgs(data_path, start_type='zeros', graph=True, ls=np.arange(10, 100, 10)):\n",
        "    oracle = make_oracle(data_path)\n",
        "    start_point = init_weights(oracle.X.shape[1], start_type)\n",
        "\n",
        "    dict_time = {}\n",
        "    dict_iters = {}\n",
        "    dict_calls = {}\n",
        "    dict_scores_1 = {}\n",
        "    dict_scores_2 = {}\n",
        "    dict_entropy = {}\n",
        "\n",
        "    for l in tqdm(ls):\n",
        "        _ = lbfgs_optimize(oracle, start_point, l=l)\n",
        "\n",
        "        dict_time[l] = oracle.time_array\n",
        "        dict_iters[l] = oracle.iter_array\n",
        "        dict_calls[l] = oracle.calls_array\n",
        "        dict_scores_1[l] = oracle.scores_1\n",
        "        dict_scores_2[l] = oracle.scores_2\n",
        "        dict_entropy[l] = oracle.entropy\n",
        "\n",
        "    table = []\n",
        "    for l in ls:\n",
        "        row = {}\n",
        "        row['History Size'] = l\n",
        "        row['Entropy'] = dict_entropy[l][-1]\n",
        "        row['Num Iter'] = dict_iters[l][-1]\n",
        "        row['Oracle Calls'] = dict_calls[l][-1]\n",
        "        row['Time'] = int(dict_time[l][-1] * 100) / 100\n",
        "        table.append(row)\n",
        "\n",
        "    print(tabulate(table, headers=\"keys\", tablefmt=\"github\"))\n",
        "\n",
        "    if graph:\n",
        "        for line_dict, name in [(dict_time, 'Time'), (dict_iters, 'Iterations'), (dict_calls, 'Calls')]:\n",
        "            _, axes = plt.subplots(nrows=1, ncols=2, figsize=(22,4))\n",
        "\n",
        "            for l in ls:\n",
        "                axes[0].plot(line_dict[l], np.log(dict_scores_1[l]), label=l);\n",
        "                axes[1].plot(line_dict[l], np.log(dict_scores_2[l]), label=l);\n",
        "\n",
        "            axes[0].legend()\n",
        "            axes[0].set_xlabel(name)\n",
        "            axes[0].set_ylabel('log|F(w) - F(w*)|')\n",
        "            axes[1].legend()\n",
        "            axes[1].set_xlabel(name)\n",
        "            axes[1].set_ylabel('log(|grad F(w)|^2 / |grad F(w_0)|^2)')\n",
        "\n",
        "            plt.suptitle(name)\n",
        "            plt.show()"
      ],
      "execution_count": 41,
      "outputs": []
    },
    {
      "cell_type": "code",
      "metadata": {
        "colab": {
          "base_uri": "https://localhost:8080/",
          "height": 440,
          "referenced_widgets": [
            "01ea001d9fb541eeb63c0419193afcd8",
            "4c44269cbb1c47819fc3a4368461cb42",
            "bda32d3c0e654d4581233d7dc9b35857",
            "95cd55fd94484fce9a3d98f141cdc9e5",
            "e4923c334f264c33b31d2a25964c5516",
            "6a93af659e854b849c6e6f10f0db0f31",
            "8da2fc433f904b3d9eed5949ea442206",
            "dbc7d7ef798242dcb84df66f0d3a1e2a"
          ]
        },
        "id": "RSpA57OKHv0t",
        "outputId": "3b2ab643-d671-42df-dbfe-c755adc4beab"
      },
      "source": [
        "analyze_bfgs('a1a.txt', 'zeros', graph=False, ls=np.arange(10, 200, 10))"
      ],
      "execution_count": 42,
      "outputs": [
        {
          "output_type": "stream",
          "text": [
            "Dataset shape:  (1605, 119) (1605,)\n"
          ],
          "name": "stdout"
        },
        {
          "output_type": "display_data",
          "data": {
            "application/vnd.jupyter.widget-view+json": {
              "model_id": "01ea001d9fb541eeb63c0419193afcd8",
              "version_minor": 0,
              "version_major": 2
            },
            "text/plain": [
              "HBox(children=(FloatProgress(value=0.0, max=19.0), HTML(value='')))"
            ]
          },
          "metadata": {
            "tags": []
          }
        },
        {
          "output_type": "stream",
          "text": [
            "\n",
            "|   History Size |   Entropy |   Num Iter |   Oracle Calls |   Time |\n",
            "|----------------|-----------|------------|----------------|--------|\n",
            "|             10 |  0.297892 |        239 |           3425 |   1.16 |\n",
            "|             20 |  0.297881 |        163 |           1972 |   0.71 |\n",
            "|             30 |  0.297881 |        139 |           1584 |   0.6  |\n",
            "|             40 |  0.297882 |        116 |           1377 |   0.53 |\n",
            "|             50 |  0.297881 |        108 |           1116 |   0.45 |\n",
            "|             60 |  0.297885 |         99 |            851 |   0.37 |\n",
            "|             70 |  0.297879 |         98 |            844 |   0.37 |\n",
            "|             80 |  0.297881 |         90 |            742 |   0.33 |\n",
            "|             90 |  0.297884 |         85 |            649 |   0.3  |\n",
            "|            100 |  0.297884 |         85 |            649 |   0.3  |\n",
            "|            110 |  0.297884 |         85 |            649 |   0.31 |\n",
            "|            120 |  0.297884 |         85 |            649 |   0.3  |\n",
            "|            130 |  0.297884 |         85 |            649 |   0.32 |\n",
            "|            140 |  0.297884 |         85 |            649 |   0.3  |\n",
            "|            150 |  0.297884 |         85 |            649 |   0.3  |\n",
            "|            160 |  0.297884 |         85 |            649 |   0.29 |\n",
            "|            170 |  0.297884 |         85 |            649 |   0.31 |\n",
            "|            180 |  0.297884 |         85 |            649 |   0.29 |\n",
            "|            190 |  0.297884 |         85 |            649 |   0.3  |\n"
          ],
          "name": "stdout"
        }
      ]
    },
    {
      "cell_type": "markdown",
      "metadata": {
        "id": "rzja5GoOLrHD"
      },
      "source": [
        "Видим, что после значения 100 не происходит улучшения на этом датасете. Проверим из другой стартовой точки."
      ]
    },
    {
      "cell_type": "code",
      "metadata": {
        "colab": {
          "base_uri": "https://localhost:8080/",
          "height": 440,
          "referenced_widgets": [
            "4c16ad201ee745749001b6662f762171",
            "d6a0ff784e3740c780ed589b6e52eb4e",
            "b3a5e4384a9c474097c797c615ab0495",
            "27b392deeb214b0ead1c179c71fa815d",
            "fe8e8f7380d24709b9de902886924c13",
            "88e61b00b0214b3da709659b316558ab",
            "26e4b45abb974ea1b10e659b135458c2",
            "57a50f4075ef47c0997a4ef8813fbeb0"
          ]
        },
        "id": "WwlpTT6GL6v9",
        "outputId": "0b8fc1b6-115e-4f72-ce2f-a48def3a241d"
      },
      "source": [
        "analyze_bfgs('a1a.txt', 'ones', graph=False, ls=np.arange(10, 200, 10))"
      ],
      "execution_count": 43,
      "outputs": [
        {
          "output_type": "stream",
          "text": [
            "Dataset shape:  (1605, 119) (1605,)\n"
          ],
          "name": "stdout"
        },
        {
          "output_type": "display_data",
          "data": {
            "application/vnd.jupyter.widget-view+json": {
              "model_id": "4c16ad201ee745749001b6662f762171",
              "version_minor": 0,
              "version_major": 2
            },
            "text/plain": [
              "HBox(children=(FloatProgress(value=0.0, max=19.0), HTML(value='')))"
            ]
          },
          "metadata": {
            "tags": []
          }
        },
        {
          "output_type": "stream",
          "text": [
            "\n",
            "|   History Size |   Entropy |   Num Iter |   Oracle Calls |   Time |\n",
            "|----------------|-----------|------------|----------------|--------|\n",
            "|             10 |  0.297893 |        242 |           3262 |   1.12 |\n",
            "|             20 |  0.297878 |        185 |           2328 |   0.83 |\n",
            "|             30 |  0.297898 |        123 |           1435 |   0.56 |\n",
            "|             40 |  0.297881 |        143 |           1468 |   0.61 |\n",
            "|             50 |  0.297888 |        113 |           1166 |   0.47 |\n",
            "|             60 |  0.297888 |        111 |           1155 |   0.48 |\n",
            "|             70 |  0.297887 |        110 |           1105 |   0.46 |\n",
            "|             80 |  0.297891 |         93 |            876 |   0.4  |\n",
            "|             90 |  0.297889 |         91 |            706 |   0.34 |\n",
            "|            100 |  0.297889 |         91 |            706 |   0.32 |\n",
            "|            110 |  0.297889 |         91 |            706 |   0.31 |\n",
            "|            120 |  0.297889 |         91 |            706 |   0.32 |\n",
            "|            130 |  0.297889 |         91 |            706 |   0.32 |\n",
            "|            140 |  0.297889 |         91 |            706 |   0.32 |\n",
            "|            150 |  0.297889 |         91 |            706 |   0.32 |\n",
            "|            160 |  0.297889 |         91 |            706 |   0.32 |\n",
            "|            170 |  0.297889 |         91 |            706 |   0.31 |\n",
            "|            180 |  0.297889 |         91 |            706 |   0.33 |\n",
            "|            190 |  0.297889 |         91 |            706 |   0.32 |\n"
          ],
          "name": "stdout"
        }
      ]
    },
    {
      "cell_type": "code",
      "metadata": {
        "colab": {
          "base_uri": "https://localhost:8080/",
          "height": 440,
          "referenced_widgets": [
            "b5545b0b44c64f7099afcbb4db207636",
            "5fc38946f848402698b15faa38cc348c",
            "8eeb534c1ee24967bac946c1841512c2",
            "7457c780bdec4378a03e01bc61887a77",
            "4ded3c6905ef4f729518cecc00181604",
            "ca339da4b3b64a1c97920e13962faea4",
            "f24ab7a07863440f95e08d0f73dbe604",
            "668af3c0be62481c9d0011beed1a03b0"
          ]
        },
        "id": "u0l_d5vuL8uf",
        "outputId": "7d32705c-1913-409e-e8d2-441628a32edc"
      },
      "source": [
        "analyze_bfgs('a1a.txt', 'random', graph=False, ls=np.arange(10, 200, 10))"
      ],
      "execution_count": 44,
      "outputs": [
        {
          "output_type": "stream",
          "text": [
            "Dataset shape:  (1605, 119) (1605,)\n"
          ],
          "name": "stdout"
        },
        {
          "output_type": "display_data",
          "data": {
            "application/vnd.jupyter.widget-view+json": {
              "model_id": "b5545b0b44c64f7099afcbb4db207636",
              "version_minor": 0,
              "version_major": 2
            },
            "text/plain": [
              "HBox(children=(FloatProgress(value=0.0, max=19.0), HTML(value='')))"
            ]
          },
          "metadata": {
            "tags": []
          }
        },
        {
          "output_type": "stream",
          "text": [
            "\n",
            "|   History Size |   Entropy |   Num Iter |   Oracle Calls |   Time |\n",
            "|----------------|-----------|------------|----------------|--------|\n",
            "|             10 |  0.2979   |        207 |           2720 |   0.95 |\n",
            "|             20 |  0.297881 |        186 |           2108 |   0.76 |\n",
            "|             30 |  0.297878 |        143 |           1434 |   0.55 |\n",
            "|             40 |  0.29788  |        121 |           1069 |   0.44 |\n",
            "|             50 |  0.29788  |        100 |            922 |   0.39 |\n",
            "|             60 |  0.297879 |         97 |            956 |   0.43 |\n",
            "|             70 |  0.297878 |         95 |            737 |   0.33 |\n",
            "|             80 |  0.297879 |         90 |            754 |   0.33 |\n",
            "|             90 |  0.297878 |         89 |            695 |   0.32 |\n",
            "|            100 |  0.297878 |         89 |            695 |   0.31 |\n",
            "|            110 |  0.297878 |         89 |            695 |   0.31 |\n",
            "|            120 |  0.297878 |         89 |            695 |   0.31 |\n",
            "|            130 |  0.297878 |         89 |            695 |   0.31 |\n",
            "|            140 |  0.297878 |         89 |            695 |   0.32 |\n",
            "|            150 |  0.297878 |         89 |            695 |   0.33 |\n",
            "|            160 |  0.297878 |         89 |            695 |   0.31 |\n",
            "|            170 |  0.297878 |         89 |            695 |   0.31 |\n",
            "|            180 |  0.297878 |         89 |            695 |   0.33 |\n",
            "|            190 |  0.297878 |         89 |            695 |   0.31 |\n"
          ],
          "name": "stdout"
        }
      ]
    },
    {
      "cell_type": "markdown",
      "metadata": {
        "id": "QGfV6A1wMaYG"
      },
      "source": [
        "Видим, что пороговое значение остановки улучшения изменяется для разной стартовой точки."
      ]
    },
    {
      "cell_type": "markdown",
      "metadata": {
        "id": "4D9lHAXzL-O1"
      },
      "source": [
        "Проверим на другом датасете"
      ]
    },
    {
      "cell_type": "code",
      "metadata": {
        "colab": {
          "base_uri": "https://localhost:8080/",
          "height": 440,
          "referenced_widgets": [
            "7a5e10af13d84a24809835212449a805",
            "6c32ea9cae63412ba79e24f33622e5ad",
            "6dba76e79b0841d49b73ebedd3d8d60c",
            "9f831e24f45e413ca9b6e8b7e9867e43",
            "feb5f659269144e0946d8bd4e9e80e7f",
            "2ee5a5ccde044637853ee013fa5cdb37",
            "9e39bee9ce6a4c86bbd9ee47700b42cb",
            "2483afefddb84a3cb452f96631221483"
          ]
        },
        "id": "rZ4p7J9BLy_D",
        "outputId": "0fb63a28-be81-481f-f788-ae3ed27966b6"
      },
      "source": [
        "analyze_bfgs('breast-cancer_scale.txt', 'zeros', graph=False, ls=np.arange(10, 200, 10))"
      ],
      "execution_count": 45,
      "outputs": [
        {
          "output_type": "stream",
          "text": [
            "Dataset shape:  (683, 10) (683,)\n"
          ],
          "name": "stdout"
        },
        {
          "output_type": "display_data",
          "data": {
            "application/vnd.jupyter.widget-view+json": {
              "model_id": "7a5e10af13d84a24809835212449a805",
              "version_minor": 0,
              "version_major": 2
            },
            "text/plain": [
              "HBox(children=(FloatProgress(value=0.0, max=19.0), HTML(value='')))"
            ]
          },
          "metadata": {
            "tags": []
          }
        },
        {
          "output_type": "stream",
          "text": [
            "\n",
            "|   History Size |   Entropy |   Num Iter |   Oracle Calls |   Time |\n",
            "|----------------|-----------|------------|----------------|--------|\n",
            "|             10 | 0.0753188 |         32 |            281 |   0.05 |\n",
            "|             20 | 0.0753191 |         25 |            180 |   0.04 |\n",
            "|             30 | 0.075319  |         25 |            180 |   0.04 |\n",
            "|             40 | 0.075319  |         25 |            180 |   0.03 |\n",
            "|             50 | 0.075319  |         25 |            180 |   0.03 |\n",
            "|             60 | 0.075319  |         25 |            180 |   0.04 |\n",
            "|             70 | 0.075319  |         25 |            180 |   0.03 |\n",
            "|             80 | 0.075319  |         25 |            180 |   0.03 |\n",
            "|             90 | 0.075319  |         25 |            180 |   0.04 |\n",
            "|            100 | 0.075319  |         25 |            180 |   0.03 |\n",
            "|            110 | 0.075319  |         25 |            180 |   0.03 |\n",
            "|            120 | 0.075319  |         25 |            180 |   0.03 |\n",
            "|            130 | 0.075319  |         25 |            180 |   0.03 |\n",
            "|            140 | 0.075319  |         25 |            180 |   0.03 |\n",
            "|            150 | 0.075319  |         25 |            180 |   0.03 |\n",
            "|            160 | 0.075319  |         25 |            180 |   0.03 |\n",
            "|            170 | 0.075319  |         25 |            180 |   0.03 |\n",
            "|            180 | 0.075319  |         25 |            180 |   0.03 |\n",
            "|            190 | 0.075319  |         25 |            180 |   0.03 |\n"
          ],
          "name": "stdout"
        }
      ]
    },
    {
      "cell_type": "code",
      "metadata": {
        "colab": {
          "base_uri": "https://localhost:8080/",
          "height": 457,
          "referenced_widgets": [
            "a9a8f989322b4cbcb2f0ebb7175c4976",
            "50142d5bd1d04ea19c3048227717408f",
            "1a98518385244ca89873a5fb0ee9d0c8",
            "448b43638e41420e950c84302fdb4b05",
            "3182b60c44ba4234825051463d869ca5",
            "50bb0b433aa94e538da92cdb627d5687",
            "49d7357897b64173b7c5caa4a28f68de",
            "83f27f5e0917490185f2dc1dda6d48d1"
          ]
        },
        "id": "N8XL-eFvMrhU",
        "outputId": "8ceb6693-63d3-40aa-a5ef-ea927540ae1f"
      },
      "source": [
        "analyze_bfgs('random', 'zeros', graph=False, ls=np.arange(10, 200, 10))"
      ],
      "execution_count": 46,
      "outputs": [
        {
          "output_type": "stream",
          "text": [
            "Dataset shape:  (1000, 1) (1000,)\n",
            "Unique: [0]\n"
          ],
          "name": "stdout"
        },
        {
          "output_type": "display_data",
          "data": {
            "application/vnd.jupyter.widget-view+json": {
              "model_id": "a9a8f989322b4cbcb2f0ebb7175c4976",
              "version_minor": 0,
              "version_major": 2
            },
            "text/plain": [
              "HBox(children=(FloatProgress(value=0.0, max=19.0), HTML(value='')))"
            ]
          },
          "metadata": {
            "tags": []
          }
        },
        {
          "output_type": "stream",
          "text": [
            "\n",
            "|   History Size |     Entropy |   Num Iter |   Oracle Calls |   Time |\n",
            "|----------------|-------------|------------|----------------|--------|\n",
            "|             10 | 2.81787e-05 |         13 |             96 |   0.01 |\n",
            "|             20 | 2.81787e-05 |         13 |             96 |   0.01 |\n",
            "|             30 | 2.81787e-05 |         13 |             96 |   0.02 |\n",
            "|             40 | 2.81787e-05 |         13 |             96 |   0.01 |\n",
            "|             50 | 2.81787e-05 |         13 |             96 |   0.01 |\n",
            "|             60 | 2.81787e-05 |         13 |             96 |   0.01 |\n",
            "|             70 | 2.81787e-05 |         13 |             96 |   0.01 |\n",
            "|             80 | 2.81787e-05 |         13 |             96 |   0.01 |\n",
            "|             90 | 2.81787e-05 |         13 |             96 |   0.01 |\n",
            "|            100 | 2.81787e-05 |         13 |             96 |   0.02 |\n",
            "|            110 | 2.81787e-05 |         13 |             96 |   0.01 |\n",
            "|            120 | 2.81787e-05 |         13 |             96 |   0.01 |\n",
            "|            130 | 2.81787e-05 |         13 |             96 |   0.01 |\n",
            "|            140 | 2.81787e-05 |         13 |             96 |   0.01 |\n",
            "|            150 | 2.81787e-05 |         13 |             96 |   0.01 |\n",
            "|            160 | 2.81787e-05 |         13 |             96 |   0.01 |\n",
            "|            170 | 2.81787e-05 |         13 |             96 |   0.01 |\n",
            "|            180 | 2.81787e-05 |         13 |             96 |   0.01 |\n",
            "|            190 | 2.81787e-05 |         13 |             96 |   0.01 |\n"
          ],
          "name": "stdout"
        }
      ]
    },
    {
      "cell_type": "markdown",
      "metadata": {
        "id": "msDATKNsM6_W"
      },
      "source": [
        "Есть тенденция, что значение *history_size* зависит от датасета преимущественно. Но чем больше его значение, тем быстрее сходимость и лучше результат. Поэтому надо выбирать его значение такое, чтобы оно было максимальным, но при этом алгоритм бы не выходил за рамки по значению памяти."
      ]
    },
    {
      "cell_type": "code",
      "metadata": {
        "colab": {
          "base_uri": "https://localhost:8080/",
          "height": 1000,
          "referenced_widgets": [
            "7d431e02327e44968f876090d5605cb0",
            "1e9a59cc63d540c0988ab96e8d4583e9",
            "88fbca3d43654eabaa40b4356aecce70",
            "f3de7dd62ed5420e852a1f66c21bc470",
            "e7822496b94745bfbb0dd131c253c6b8",
            "ea14e05e31654d94b81dec829e8cd4f9",
            "fb32bf5b86474514ba25512cf11331ae",
            "d61fba6c9db34dbea60aa350972dea14"
          ]
        },
        "id": "9-HZiZcLP-23",
        "outputId": "3e76f656-81a4-40a1-eaed-dfa19ba1b9df"
      },
      "source": [
        "analyze_bfgs('a1a.txt', 'zeros', graph=True, ls=np.arange(10, 100, 10))"
      ],
      "execution_count": 47,
      "outputs": [
        {
          "output_type": "stream",
          "text": [
            "Dataset shape:  (1605, 119) (1605,)\n"
          ],
          "name": "stdout"
        },
        {
          "output_type": "display_data",
          "data": {
            "application/vnd.jupyter.widget-view+json": {
              "model_id": "7d431e02327e44968f876090d5605cb0",
              "version_minor": 0,
              "version_major": 2
            },
            "text/plain": [
              "HBox(children=(FloatProgress(value=0.0, max=9.0), HTML(value='')))"
            ]
          },
          "metadata": {
            "tags": []
          }
        },
        {
          "output_type": "stream",
          "text": [
            "\n",
            "|   History Size |   Entropy |   Num Iter |   Oracle Calls |   Time |\n",
            "|----------------|-----------|------------|----------------|--------|\n",
            "|             10 |  0.297892 |        239 |           3425 |   1.16 |\n",
            "|             20 |  0.297881 |        163 |           1972 |   0.71 |\n",
            "|             30 |  0.297881 |        139 |           1584 |   0.6  |\n",
            "|             40 |  0.297882 |        116 |           1377 |   0.53 |\n",
            "|             50 |  0.297881 |        108 |           1116 |   0.45 |\n",
            "|             60 |  0.297885 |         99 |            851 |   0.37 |\n",
            "|             70 |  0.297879 |         98 |            844 |   0.37 |\n",
            "|             80 |  0.297881 |         90 |            742 |   0.34 |\n",
            "|             90 |  0.297884 |         85 |            649 |   0.29 |\n"
          ],
          "name": "stdout"
        },
        {
          "output_type": "display_data",
          "data": {
            "image/png": "[encoded data removed]",
            "text/plain": [
              "<Figure size 1584x288 with 2 Axes>"
            ]
          },
          "metadata": {
            "tags": [],
            "needs_background": "light"
          }
        },
        {
          "output_type": "display_data",
          "data": {
            "image/png": "[encoded data removed]",
            "text/plain": [
              "<Figure size 1584x288 with 2 Axes>"
            ]
          },
          "metadata": {
            "tags": [],
            "needs_background": "light"
          }
        },
        {
          "output_type": "display_data",
          "data": {
            "image/png": "[encoded data removed]",
            "text/plain": [
              "<Figure size 1584x288 with 2 Axes>"
            ]
          },
          "metadata": {
            "tags": [],
            "needs_background": "light"
          }
        }
      ]
    },
    {
      "cell_type": "markdown",
      "metadata": {
        "id": "QYqW5PmrAggs"
      },
      "source": [
        "## Сравнение"
      ]
    },
    {
      "cell_type": "code",
      "metadata": {
        "colab": {
          "base_uri": "https://localhost:8080/",
          "height": 185,
          "referenced_widgets": [
            "c9a555b66f3149659345d7254ddc07c4",
            "6dbfd05fbd1e43ebae78f7ed76ef7914",
            "deea17b1959549e898c44fca22720b7a",
            "f72a75de42c144a6823e70301e4490d0",
            "9d5de3633afc4fca92974613ffdb4d59",
            "4c0ce6922db646e0b18ea9e63255597d",
            "b8edb5a15d1a401eb12202a039f89c3e",
            "560b36ab766e4bbe90aead9c57704cf0"
          ]
        },
        "id": "hUrfQpGEAijg",
        "outputId": "c4dd65bb-e468-4224-e4b7-e76f05076684"
      },
      "source": [
        "analyze('a1a.txt', hfn_optimize, 'zeros', nesterov=False, graph=False)"
      ],
      "execution_count": 48,
      "outputs": [
        {
          "output_type": "stream",
          "text": [
            "Dataset shape:  (1605, 119) (1605,)\n"
          ],
          "name": "stdout"
        },
        {
          "output_type": "display_data",
          "data": {
            "application/vnd.jupyter.widget-view+json": {
              "model_id": "c9a555b66f3149659345d7254ddc07c4",
              "version_minor": 0,
              "version_major": 2
            },
            "text/plain": [
              "HBox(children=(FloatProgress(value=0.0, max=4.0), HTML(value='')))"
            ]
          },
          "metadata": {
            "tags": []
          }
        },
        {
          "output_type": "stream",
          "text": [
            "\n",
            "| Method   |   Entropy |   Num Iter |   Oracle Calls |   Time |\n",
            "|----------|-----------|------------|----------------|--------|\n",
            "| golden   |  0.297879 |          9 |            850 |   2.74 |\n",
            "| wolfe    |  0.297909 |          9 |            479 |   2.72 |\n",
            "| brent    |  0.297879 |          9 |            601 |   2.6  |\n",
            "| armijo   |  0.297909 |          9 |            479 |   2.75 |\n"
          ],
          "name": "stdout"
        }
      ]
    },
    {
      "cell_type": "code",
      "metadata": {
        "colab": {
          "base_uri": "https://localhost:8080/",
          "height": 185,
          "referenced_widgets": [
            "9962dee7e65d4ae98d7a96330e37553d",
            "619c4ed3ae484a34b7e1bb9571a42a25",
            "5cecfb3c7b4a44b1a64ce39350ec188f",
            "5d594b005be340dab6ece2ee4f8c997c",
            "f4bce1dbe2d74e8185a45e57f800f76c",
            "e1f544691cff4eed9416f4073877cf01",
            "cb9f19403f084c9bade1f3adeac88ea7",
            "110ecf70f4d348e188f525622a3784ad"
          ]
        },
        "id": "K3Qd-bNwAnzy",
        "outputId": "f653a199-4797-4ce9-cd15-14d6744973f8"
      },
      "source": [
        "analyze('a1a.txt', optimize_newton, 'zeros', nesterov=False, graph=False)"
      ],
      "execution_count": 49,
      "outputs": [
        {
          "output_type": "stream",
          "text": [
            "Dataset shape:  (1605, 119) (1605,)\n"
          ],
          "name": "stdout"
        },
        {
          "output_type": "display_data",
          "data": {
            "application/vnd.jupyter.widget-view+json": {
              "model_id": "9962dee7e65d4ae98d7a96330e37553d",
              "version_minor": 0,
              "version_major": 2
            },
            "text/plain": [
              "HBox(children=(FloatProgress(value=0.0, max=4.0), HTML(value='')))"
            ]
          },
          "metadata": {
            "tags": []
          }
        },
        {
          "output_type": "stream",
          "text": [
            "\n",
            "| Method   |   Entropy |   Num Iter |   Oracle Calls |   Time |\n",
            "|----------|-----------|------------|----------------|--------|\n",
            "| golden   |  0.297875 |         10 |            526 |   1.68 |\n",
            "| wolfe    |  0.297902 |          7 |             64 |   1.15 |\n",
            "| brent    |  0.297875 |         10 |            285 |   1.58 |\n",
            "| armijo   |  0.297902 |          7 |             64 |   1.15 |\n"
          ],
          "name": "stdout"
        }
      ]
    },
    {
      "cell_type": "code",
      "metadata": {
        "colab": {
          "base_uri": "https://localhost:8080/",
          "height": 202,
          "referenced_widgets": [
            "cb6560cab79f4a48a31ec23e398f7fa6",
            "d37a4abe2ab7469ea1e827d40aedfcf8",
            "a7af0003d72d4274965a807284f9407f",
            "dcc5dbbe67ef467ea785b959fb985ae6",
            "096d8fb8cb0c4ab0ba3cd3c20fccea27",
            "effdfef4b0af42daa7079aab86a37f8b",
            "66009ef414fc4eec8974a8dd5a157927",
            "7a35a5778bea4bf8b809652d9965f8ba"
          ]
        },
        "id": "m0q3O_vmAqB9",
        "outputId": "1cec62b2-07e1-4f24-8325-c34eec0a01b4"
      },
      "source": [
        "analyze('a1a.txt', optimize, 'zeros', nesterov=True, graph=False)"
      ],
      "execution_count": 50,
      "outputs": [
        {
          "output_type": "stream",
          "text": [
            "Dataset shape:  (1605, 119) (1605,)\n"
          ],
          "name": "stdout"
        },
        {
          "output_type": "display_data",
          "data": {
            "application/vnd.jupyter.widget-view+json": {
              "model_id": "cb6560cab79f4a48a31ec23e398f7fa6",
              "version_minor": 0,
              "version_major": 2
            },
            "text/plain": [
              "HBox(children=(FloatProgress(value=0.0, max=5.0), HTML(value='')))"
            ]
          },
          "metadata": {
            "tags": []
          }
        },
        {
          "output_type": "stream",
          "text": [
            "\n",
            "| Method   |   Entropy |   Num Iter |   Oracle Calls |   Time |\n",
            "|----------|-----------|------------|----------------|--------|\n",
            "| golden   |  0.298791 |      10000 |         466398 | 127.5  |\n",
            "| wolfe    |  0.298402 |      10000 |          99437 |  31.3  |\n",
            "| brent    |  0.298804 |      10000 |         251263 |  71.19 |\n",
            "| armijo   |  0.298442 |      10000 |         217065 |  64.15 |\n",
            "| nesterov |  0.298586 |      10000 |         250302 |  75.08 |\n"
          ],
          "name": "stdout"
        }
      ]
    },
    {
      "cell_type": "code",
      "metadata": {
        "colab": {
          "base_uri": "https://localhost:8080/",
          "height": 287,
          "referenced_widgets": [
            "3ced429ef21f44879b18037a0f1cd853",
            "66303cde5dae4cc2a1060e06afa6af78",
            "c7a23e8bbc3e4b5cb11ab5a66b87167b",
            "8877432874044e65b48df5cb4b8834d6",
            "424f39af3e1c442c8b618126dad7c270",
            "cd54313446b54c5cac84794834607514",
            "9b352341b5fe49e4a8dfb7c4b499f3e9",
            "fa2137b8548d4a5f8585153f458563cd"
          ]
        },
        "id": "8m2BqeV6PWVG",
        "outputId": "06d53928-a8c8-44d2-9b3a-69b4e74d54d3"
      },
      "source": [
        "analyze_bfgs('a1a.txt', 'zeros', graph=False, ls=np.arange(50, 150, 10))"
      ],
      "execution_count": 51,
      "outputs": [
        {
          "output_type": "stream",
          "text": [
            "Dataset shape:  (1605, 119) (1605,)\n"
          ],
          "name": "stdout"
        },
        {
          "output_type": "display_data",
          "data": {
            "application/vnd.jupyter.widget-view+json": {
              "model_id": "3ced429ef21f44879b18037a0f1cd853",
              "version_minor": 0,
              "version_major": 2
            },
            "text/plain": [
              "HBox(children=(FloatProgress(value=0.0, max=10.0), HTML(value='')))"
            ]
          },
          "metadata": {
            "tags": []
          }
        },
        {
          "output_type": "stream",
          "text": [
            "\n",
            "|   History Size |   Entropy |   Num Iter |   Oracle Calls |   Time |\n",
            "|----------------|-----------|------------|----------------|--------|\n",
            "|             50 |  0.297881 |        108 |           1116 |   0.46 |\n",
            "|             60 |  0.297885 |         99 |            851 |   0.36 |\n",
            "|             70 |  0.297879 |         98 |            844 |   0.38 |\n",
            "|             80 |  0.297881 |         90 |            742 |   0.33 |\n",
            "|             90 |  0.297884 |         85 |            649 |   0.29 |\n",
            "|            100 |  0.297884 |         85 |            649 |   0.3  |\n",
            "|            110 |  0.297884 |         85 |            649 |   0.29 |\n",
            "|            120 |  0.297884 |         85 |            649 |   0.3  |\n",
            "|            130 |  0.297884 |         85 |            649 |   0.29 |\n",
            "|            140 |  0.297884 |         85 |            649 |   0.3  |\n"
          ],
          "name": "stdout"
        }
      ]
    },
    {
      "cell_type": "markdown",
      "metadata": {
        "id": "fWVAUvRVsUdC"
      },
      "source": [
        "L-BFGS превосходит все остальные методы по скорости сходимости. Но при этом проигрывает по числу итераций и вызовам оракула HF-Newton и Newton. По энтропии методы примерно близки. А градиентный спуск проигрывает по всем параметрам."
      ]
    }
  ]
}