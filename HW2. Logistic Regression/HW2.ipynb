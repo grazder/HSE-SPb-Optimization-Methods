{
  "nbformat": 4,
  "nbformat_minor": 0,
  "metadata": {
    "colab": {
      "name": "Методы Оптимизации. ДЗ 2.ipynb",
      "provenance": [],
      "collapsed_sections": [],
      "toc_visible": true
    },
    "kernelspec": {
      "name": "python3",
      "display_name": "Python 3"
    },
    "widgets": {
      "application/vnd.jupyter.widget-state+json": {
        "fa1adc81eb7d4a1fba31e8a628f89e04": {
          "model_module": "@jupyter-widgets/controls",
          "model_name": "HBoxModel",
          "state": {
            "_view_name": "HBoxView",
            "_dom_classes": [],
            "_model_name": "HBoxModel",
            "_view_module": "@jupyter-widgets/controls",
            "_model_module_version": "1.5.0",
            "_view_count": null,
            "_view_module_version": "1.5.0",
            "box_style": "",
            "layout": "IPY_MODEL_1c3fd775527c40d28aec918e700844f2",
            "_model_module": "@jupyter-widgets/controls",
            "children": [
              "IPY_MODEL_749c931305b944fdb08bce6b23a1cefd",
              "IPY_MODEL_a4b3220794b94aff96346c81a38ba86e"
            ]
          }
        },
        "1c3fd775527c40d28aec918e700844f2": {
          "model_module": "@jupyter-widgets/base",
          "model_name": "LayoutModel",
          "state": {
            "_view_name": "LayoutView",
            "grid_template_rows": null,
            "right": null,
            "justify_content": null,
            "_view_module": "@jupyter-widgets/base",
            "overflow": null,
            "_model_module_version": "1.2.0",
            "_view_count": null,
            "flex_flow": null,
            "width": null,
            "min_width": null,
            "border": null,
            "align_items": null,
            "bottom": null,
            "_model_module": "@jupyter-widgets/base",
            "top": null,
            "grid_column": null,
            "overflow_y": null,
            "overflow_x": null,
            "grid_auto_flow": null,
            "grid_area": null,
            "grid_template_columns": null,
            "flex": null,
            "_model_name": "LayoutModel",
            "justify_items": null,
            "grid_row": null,
            "max_height": null,
            "align_content": null,
            "visibility": null,
            "align_self": null,
            "height": null,
            "min_height": null,
            "padding": null,
            "grid_auto_rows": null,
            "grid_gap": null,
            "max_width": null,
            "order": null,
            "_view_module_version": "1.2.0",
            "grid_template_areas": null,
            "object_position": null,
            "object_fit": null,
            "grid_auto_columns": null,
            "margin": null,
            "display": null,
            "left": null
          }
        },
        "749c931305b944fdb08bce6b23a1cefd": {
          "model_module": "@jupyter-widgets/controls",
          "model_name": "FloatProgressModel",
          "state": {
            "_view_name": "ProgressView",
            "style": "IPY_MODEL_69726ed8f38e476684f03ef13948f63c",
            "_dom_classes": [],
            "description": "100%",
            "_model_name": "FloatProgressModel",
            "bar_style": "success",
            "max": 4,
            "_view_module": "@jupyter-widgets/controls",
            "_model_module_version": "1.5.0",
            "value": 4,
            "_view_count": null,
            "_view_module_version": "1.5.0",
            "orientation": "horizontal",
            "min": 0,
            "description_tooltip": null,
            "_model_module": "@jupyter-widgets/controls",
            "layout": "IPY_MODEL_0899dccfea784313a9625a63b70c53a4"
          }
        },
        "a4b3220794b94aff96346c81a38ba86e": {
          "model_module": "@jupyter-widgets/controls",
          "model_name": "HTMLModel",
          "state": {
            "_view_name": "HTMLView",
            "style": "IPY_MODEL_14f8ddb5fe514696b474f0b616ea6855",
            "_dom_classes": [],
            "description": "",
            "_model_name": "HTMLModel",
            "placeholder": "​",
            "_view_module": "@jupyter-widgets/controls",
            "_model_module_version": "1.5.0",
            "value": " 4/4 [13:03&lt;00:00, 195.91s/it]",
            "_view_count": null,
            "_view_module_version": "1.5.0",
            "description_tooltip": null,
            "_model_module": "@jupyter-widgets/controls",
            "layout": "IPY_MODEL_572474b0d0f54240ba5957389ac250fa"
          }
        },
        "69726ed8f38e476684f03ef13948f63c": {
          "model_module": "@jupyter-widgets/controls",
          "model_name": "ProgressStyleModel",
          "state": {
            "_view_name": "StyleView",
            "_model_name": "ProgressStyleModel",
            "description_width": "initial",
            "_view_module": "@jupyter-widgets/base",
            "_model_module_version": "1.5.0",
            "_view_count": null,
            "_view_module_version": "1.2.0",
            "bar_color": null,
            "_model_module": "@jupyter-widgets/controls"
          }
        },
        "0899dccfea784313a9625a63b70c53a4": {
          "model_module": "@jupyter-widgets/base",
          "model_name": "LayoutModel",
          "state": {
            "_view_name": "LayoutView",
            "grid_template_rows": null,
            "right": null,
            "justify_content": null,
            "_view_module": "@jupyter-widgets/base",
            "overflow": null,
            "_model_module_version": "1.2.0",
            "_view_count": null,
            "flex_flow": null,
            "width": null,
            "min_width": null,
            "border": null,
            "align_items": null,
            "bottom": null,
            "_model_module": "@jupyter-widgets/base",
            "top": null,
            "grid_column": null,
            "overflow_y": null,
            "overflow_x": null,
            "grid_auto_flow": null,
            "grid_area": null,
            "grid_template_columns": null,
            "flex": null,
            "_model_name": "LayoutModel",
            "justify_items": null,
            "grid_row": null,
            "max_height": null,
            "align_content": null,
            "visibility": null,
            "align_self": null,
            "height": null,
            "min_height": null,
            "padding": null,
            "grid_auto_rows": null,
            "grid_gap": null,
            "max_width": null,
            "order": null,
            "_view_module_version": "1.2.0",
            "grid_template_areas": null,
            "object_position": null,
            "object_fit": null,
            "grid_auto_columns": null,
            "margin": null,
            "display": null,
            "left": null
          }
        },
        "14f8ddb5fe514696b474f0b616ea6855": {
          "model_module": "@jupyter-widgets/controls",
          "model_name": "DescriptionStyleModel",
          "state": {
            "_view_name": "StyleView",
            "_model_name": "DescriptionStyleModel",
            "description_width": "",
            "_view_module": "@jupyter-widgets/base",
            "_model_module_version": "1.5.0",
            "_view_count": null,
            "_view_module_version": "1.2.0",
            "_model_module": "@jupyter-widgets/controls"
          }
        },
        "572474b0d0f54240ba5957389ac250fa": {
          "model_module": "@jupyter-widgets/base",
          "model_name": "LayoutModel",
          "state": {
            "_view_name": "LayoutView",
            "grid_template_rows": null,
            "right": null,
            "justify_content": null,
            "_view_module": "@jupyter-widgets/base",
            "overflow": null,
            "_model_module_version": "1.2.0",
            "_view_count": null,
            "flex_flow": null,
            "width": null,
            "min_width": null,
            "border": null,
            "align_items": null,
            "bottom": null,
            "_model_module": "@jupyter-widgets/base",
            "top": null,
            "grid_column": null,
            "overflow_y": null,
            "overflow_x": null,
            "grid_auto_flow": null,
            "grid_area": null,
            "grid_template_columns": null,
            "flex": null,
            "_model_name": "LayoutModel",
            "justify_items": null,
            "grid_row": null,
            "max_height": null,
            "align_content": null,
            "visibility": null,
            "align_self": null,
            "height": null,
            "min_height": null,
            "padding": null,
            "grid_auto_rows": null,
            "grid_gap": null,
            "max_width": null,
            "order": null,
            "_view_module_version": "1.2.0",
            "grid_template_areas": null,
            "object_position": null,
            "object_fit": null,
            "grid_auto_columns": null,
            "margin": null,
            "display": null,
            "left": null
          }
        },
        "5946483c43f44bfda180a38e49ed0b75": {
          "model_module": "@jupyter-widgets/controls",
          "model_name": "HBoxModel",
          "state": {
            "_view_name": "HBoxView",
            "_dom_classes": [],
            "_model_name": "HBoxModel",
            "_view_module": "@jupyter-widgets/controls",
            "_model_module_version": "1.5.0",
            "_view_count": null,
            "_view_module_version": "1.5.0",
            "box_style": "",
            "layout": "IPY_MODEL_8859464a48d24b84a7b25cd58b1673ac",
            "_model_module": "@jupyter-widgets/controls",
            "children": [
              "IPY_MODEL_854eed77dce242a6afbb198fd2c6bd8c",
              "IPY_MODEL_38718638560e44d28566f489740df9a6"
            ]
          }
        },
        "8859464a48d24b84a7b25cd58b1673ac": {
          "model_module": "@jupyter-widgets/base",
          "model_name": "LayoutModel",
          "state": {
            "_view_name": "LayoutView",
            "grid_template_rows": null,
            "right": null,
            "justify_content": null,
            "_view_module": "@jupyter-widgets/base",
            "overflow": null,
            "_model_module_version": "1.2.0",
            "_view_count": null,
            "flex_flow": null,
            "width": null,
            "min_width": null,
            "border": null,
            "align_items": null,
            "bottom": null,
            "_model_module": "@jupyter-widgets/base",
            "top": null,
            "grid_column": null,
            "overflow_y": null,
            "overflow_x": null,
            "grid_auto_flow": null,
            "grid_area": null,
            "grid_template_columns": null,
            "flex": null,
            "_model_name": "LayoutModel",
            "justify_items": null,
            "grid_row": null,
            "max_height": null,
            "align_content": null,
            "visibility": null,
            "align_self": null,
            "height": null,
            "min_height": null,
            "padding": null,
            "grid_auto_rows": null,
            "grid_gap": null,
            "max_width": null,
            "order": null,
            "_view_module_version": "1.2.0",
            "grid_template_areas": null,
            "object_position": null,
            "object_fit": null,
            "grid_auto_columns": null,
            "margin": null,
            "display": null,
            "left": null
          }
        },
        "854eed77dce242a6afbb198fd2c6bd8c": {
          "model_module": "@jupyter-widgets/controls",
          "model_name": "FloatProgressModel",
          "state": {
            "_view_name": "ProgressView",
            "style": "IPY_MODEL_43b5fb21880d4b60a5893030a74e3141",
            "_dom_classes": [],
            "description": "100%",
            "_model_name": "FloatProgressModel",
            "bar_style": "success",
            "max": 5,
            "_view_module": "@jupyter-widgets/controls",
            "_model_module_version": "1.5.0",
            "value": 5,
            "_view_count": null,
            "_view_module_version": "1.5.0",
            "orientation": "horizontal",
            "min": 0,
            "description_tooltip": null,
            "_model_module": "@jupyter-widgets/controls",
            "layout": "IPY_MODEL_5936bb7ffd104e7981b16f961036f4e3"
          }
        },
        "38718638560e44d28566f489740df9a6": {
          "model_module": "@jupyter-widgets/controls",
          "model_name": "HTMLModel",
          "state": {
            "_view_name": "HTMLView",
            "style": "IPY_MODEL_319f4625d1df41a7b8081908d5c491da",
            "_dom_classes": [],
            "description": "",
            "_model_name": "HTMLModel",
            "placeholder": "​",
            "_view_module": "@jupyter-widgets/controls",
            "_model_module_version": "1.5.0",
            "value": " 5/5 [06:17&lt;00:00, 75.52s/it]",
            "_view_count": null,
            "_view_module_version": "1.5.0",
            "description_tooltip": null,
            "_model_module": "@jupyter-widgets/controls",
            "layout": "IPY_MODEL_bf7be2ae10164cbba15c145e62d80fe1"
          }
        },
        "43b5fb21880d4b60a5893030a74e3141": {
          "model_module": "@jupyter-widgets/controls",
          "model_name": "ProgressStyleModel",
          "state": {
            "_view_name": "StyleView",
            "_model_name": "ProgressStyleModel",
            "description_width": "initial",
            "_view_module": "@jupyter-widgets/base",
            "_model_module_version": "1.5.0",
            "_view_count": null,
            "_view_module_version": "1.2.0",
            "bar_color": null,
            "_model_module": "@jupyter-widgets/controls"
          }
        },
        "5936bb7ffd104e7981b16f961036f4e3": {
          "model_module": "@jupyter-widgets/base",
          "model_name": "LayoutModel",
          "state": {
            "_view_name": "LayoutView",
            "grid_template_rows": null,
            "right": null,
            "justify_content": null,
            "_view_module": "@jupyter-widgets/base",
            "overflow": null,
            "_model_module_version": "1.2.0",
            "_view_count": null,
            "flex_flow": null,
            "width": null,
            "min_width": null,
            "border": null,
            "align_items": null,
            "bottom": null,
            "_model_module": "@jupyter-widgets/base",
            "top": null,
            "grid_column": null,
            "overflow_y": null,
            "overflow_x": null,
            "grid_auto_flow": null,
            "grid_area": null,
            "grid_template_columns": null,
            "flex": null,
            "_model_name": "LayoutModel",
            "justify_items": null,
            "grid_row": null,
            "max_height": null,
            "align_content": null,
            "visibility": null,
            "align_self": null,
            "height": null,
            "min_height": null,
            "padding": null,
            "grid_auto_rows": null,
            "grid_gap": null,
            "max_width": null,
            "order": null,
            "_view_module_version": "1.2.0",
            "grid_template_areas": null,
            "object_position": null,
            "object_fit": null,
            "grid_auto_columns": null,
            "margin": null,
            "display": null,
            "left": null
          }
        },
        "319f4625d1df41a7b8081908d5c491da": {
          "model_module": "@jupyter-widgets/controls",
          "model_name": "DescriptionStyleModel",
          "state": {
            "_view_name": "StyleView",
            "_model_name": "DescriptionStyleModel",
            "description_width": "",
            "_view_module": "@jupyter-widgets/base",
            "_model_module_version": "1.5.0",
            "_view_count": null,
            "_view_module_version": "1.2.0",
            "_model_module": "@jupyter-widgets/controls"
          }
        },
        "bf7be2ae10164cbba15c145e62d80fe1": {
          "model_module": "@jupyter-widgets/base",
          "model_name": "LayoutModel",
          "state": {
            "_view_name": "LayoutView",
            "grid_template_rows": null,
            "right": null,
            "justify_content": null,
            "_view_module": "@jupyter-widgets/base",
            "overflow": null,
            "_model_module_version": "1.2.0",
            "_view_count": null,
            "flex_flow": null,
            "width": null,
            "min_width": null,
            "border": null,
            "align_items": null,
            "bottom": null,
            "_model_module": "@jupyter-widgets/base",
            "top": null,
            "grid_column": null,
            "overflow_y": null,
            "overflow_x": null,
            "grid_auto_flow": null,
            "grid_area": null,
            "grid_template_columns": null,
            "flex": null,
            "_model_name": "LayoutModel",
            "justify_items": null,
            "grid_row": null,
            "max_height": null,
            "align_content": null,
            "visibility": null,
            "align_self": null,
            "height": null,
            "min_height": null,
            "padding": null,
            "grid_auto_rows": null,
            "grid_gap": null,
            "max_width": null,
            "order": null,
            "_view_module_version": "1.2.0",
            "grid_template_areas": null,
            "object_position": null,
            "object_fit": null,
            "grid_auto_columns": null,
            "margin": null,
            "display": null,
            "left": null
          }
        },
        "ec2fa648713446a9a891537a988f50d5": {
          "model_module": "@jupyter-widgets/controls",
          "model_name": "HBoxModel",
          "state": {
            "_view_name": "HBoxView",
            "_dom_classes": [],
            "_model_name": "HBoxModel",
            "_view_module": "@jupyter-widgets/controls",
            "_model_module_version": "1.5.0",
            "_view_count": null,
            "_view_module_version": "1.5.0",
            "box_style": "",
            "layout": "IPY_MODEL_321bcc96cead4a44a05279d35160fdf9",
            "_model_module": "@jupyter-widgets/controls",
            "children": [
              "IPY_MODEL_654adfa919824bc5a10757425c6c8e73",
              "IPY_MODEL_cdabce3487d54e6b998fc3565f039e5f"
            ]
          }
        },
        "321bcc96cead4a44a05279d35160fdf9": {
          "model_module": "@jupyter-widgets/base",
          "model_name": "LayoutModel",
          "state": {
            "_view_name": "LayoutView",
            "grid_template_rows": null,
            "right": null,
            "justify_content": null,
            "_view_module": "@jupyter-widgets/base",
            "overflow": null,
            "_model_module_version": "1.2.0",
            "_view_count": null,
            "flex_flow": null,
            "width": null,
            "min_width": null,
            "border": null,
            "align_items": null,
            "bottom": null,
            "_model_module": "@jupyter-widgets/base",
            "top": null,
            "grid_column": null,
            "overflow_y": null,
            "overflow_x": null,
            "grid_auto_flow": null,
            "grid_area": null,
            "grid_template_columns": null,
            "flex": null,
            "_model_name": "LayoutModel",
            "justify_items": null,
            "grid_row": null,
            "max_height": null,
            "align_content": null,
            "visibility": null,
            "align_self": null,
            "height": null,
            "min_height": null,
            "padding": null,
            "grid_auto_rows": null,
            "grid_gap": null,
            "max_width": null,
            "order": null,
            "_view_module_version": "1.2.0",
            "grid_template_areas": null,
            "object_position": null,
            "object_fit": null,
            "grid_auto_columns": null,
            "margin": null,
            "display": null,
            "left": null
          }
        },
        "654adfa919824bc5a10757425c6c8e73": {
          "model_module": "@jupyter-widgets/controls",
          "model_name": "FloatProgressModel",
          "state": {
            "_view_name": "ProgressView",
            "style": "IPY_MODEL_0e8d21b4fa1048fb94b5ab4081831596",
            "_dom_classes": [],
            "description": "100%",
            "_model_name": "FloatProgressModel",
            "bar_style": "success",
            "max": 5,
            "_view_module": "@jupyter-widgets/controls",
            "_model_module_version": "1.5.0",
            "value": 5,
            "_view_count": null,
            "_view_module_version": "1.5.0",
            "orientation": "horizontal",
            "min": 0,
            "description_tooltip": null,
            "_model_module": "@jupyter-widgets/controls",
            "layout": "IPY_MODEL_1b837d41913a401d8cc489ed715423cf"
          }
        },
        "cdabce3487d54e6b998fc3565f039e5f": {
          "model_module": "@jupyter-widgets/controls",
          "model_name": "HTMLModel",
          "state": {
            "_view_name": "HTMLView",
            "style": "IPY_MODEL_a440d1c03ea44feaaf84284f55bcdf2f",
            "_dom_classes": [],
            "description": "",
            "_model_name": "HTMLModel",
            "placeholder": "​",
            "_view_module": "@jupyter-widgets/controls",
            "_model_module_version": "1.5.0",
            "value": " 5/5 [11:03&lt;00:00, 132.79s/it]",
            "_view_count": null,
            "_view_module_version": "1.5.0",
            "description_tooltip": null,
            "_model_module": "@jupyter-widgets/controls",
            "layout": "IPY_MODEL_b43e847924044ac99c3dfe1c0bcb5891"
          }
        },
        "0e8d21b4fa1048fb94b5ab4081831596": {
          "model_module": "@jupyter-widgets/controls",
          "model_name": "ProgressStyleModel",
          "state": {
            "_view_name": "StyleView",
            "_model_name": "ProgressStyleModel",
            "description_width": "initial",
            "_view_module": "@jupyter-widgets/base",
            "_model_module_version": "1.5.0",
            "_view_count": null,
            "_view_module_version": "1.2.0",
            "bar_color": null,
            "_model_module": "@jupyter-widgets/controls"
          }
        },
        "1b837d41913a401d8cc489ed715423cf": {
          "model_module": "@jupyter-widgets/base",
          "model_name": "LayoutModel",
          "state": {
            "_view_name": "LayoutView",
            "grid_template_rows": null,
            "right": null,
            "justify_content": null,
            "_view_module": "@jupyter-widgets/base",
            "overflow": null,
            "_model_module_version": "1.2.0",
            "_view_count": null,
            "flex_flow": null,
            "width": null,
            "min_width": null,
            "border": null,
            "align_items": null,
            "bottom": null,
            "_model_module": "@jupyter-widgets/base",
            "top": null,
            "grid_column": null,
            "overflow_y": null,
            "overflow_x": null,
            "grid_auto_flow": null,
            "grid_area": null,
            "grid_template_columns": null,
            "flex": null,
            "_model_name": "LayoutModel",
            "justify_items": null,
            "grid_row": null,
            "max_height": null,
            "align_content": null,
            "visibility": null,
            "align_self": null,
            "height": null,
            "min_height": null,
            "padding": null,
            "grid_auto_rows": null,
            "grid_gap": null,
            "max_width": null,
            "order": null,
            "_view_module_version": "1.2.0",
            "grid_template_areas": null,
            "object_position": null,
            "object_fit": null,
            "grid_auto_columns": null,
            "margin": null,
            "display": null,
            "left": null
          }
        },
        "a440d1c03ea44feaaf84284f55bcdf2f": {
          "model_module": "@jupyter-widgets/controls",
          "model_name": "DescriptionStyleModel",
          "state": {
            "_view_name": "StyleView",
            "_model_name": "DescriptionStyleModel",
            "description_width": "",
            "_view_module": "@jupyter-widgets/base",
            "_model_module_version": "1.5.0",
            "_view_count": null,
            "_view_module_version": "1.2.0",
            "_model_module": "@jupyter-widgets/controls"
          }
        },
        "b43e847924044ac99c3dfe1c0bcb5891": {
          "model_module": "@jupyter-widgets/base",
          "model_name": "LayoutModel",
          "state": {
            "_view_name": "LayoutView",
            "grid_template_rows": null,
            "right": null,
            "justify_content": null,
            "_view_module": "@jupyter-widgets/base",
            "overflow": null,
            "_model_module_version": "1.2.0",
            "_view_count": null,
            "flex_flow": null,
            "width": null,
            "min_width": null,
            "border": null,
            "align_items": null,
            "bottom": null,
            "_model_module": "@jupyter-widgets/base",
            "top": null,
            "grid_column": null,
            "overflow_y": null,
            "overflow_x": null,
            "grid_auto_flow": null,
            "grid_area": null,
            "grid_template_columns": null,
            "flex": null,
            "_model_name": "LayoutModel",
            "justify_items": null,
            "grid_row": null,
            "max_height": null,
            "align_content": null,
            "visibility": null,
            "align_self": null,
            "height": null,
            "min_height": null,
            "padding": null,
            "grid_auto_rows": null,
            "grid_gap": null,
            "max_width": null,
            "order": null,
            "_view_module_version": "1.2.0",
            "grid_template_areas": null,
            "object_position": null,
            "object_fit": null,
            "grid_auto_columns": null,
            "margin": null,
            "display": null,
            "left": null
          }
        },
        "5e5e462bfb1f4075bfbc3cba29d65424": {
          "model_module": "@jupyter-widgets/controls",
          "model_name": "HBoxModel",
          "state": {
            "_view_name": "HBoxView",
            "_dom_classes": [],
            "_model_name": "HBoxModel",
            "_view_module": "@jupyter-widgets/controls",
            "_model_module_version": "1.5.0",
            "_view_count": null,
            "_view_module_version": "1.5.0",
            "box_style": "",
            "layout": "IPY_MODEL_2d5f402a9ac04b2cace2c708cf3e44d4",
            "_model_module": "@jupyter-widgets/controls",
            "children": [
              "IPY_MODEL_704b4b64467e45849060da71967d507a",
              "IPY_MODEL_edb540d49b5741cf90603177aaf48073"
            ]
          }
        },
        "2d5f402a9ac04b2cace2c708cf3e44d4": {
          "model_module": "@jupyter-widgets/base",
          "model_name": "LayoutModel",
          "state": {
            "_view_name": "LayoutView",
            "grid_template_rows": null,
            "right": null,
            "justify_content": null,
            "_view_module": "@jupyter-widgets/base",
            "overflow": null,
            "_model_module_version": "1.2.0",
            "_view_count": null,
            "flex_flow": null,
            "width": null,
            "min_width": null,
            "border": null,
            "align_items": null,
            "bottom": null,
            "_model_module": "@jupyter-widgets/base",
            "top": null,
            "grid_column": null,
            "overflow_y": null,
            "overflow_x": null,
            "grid_auto_flow": null,
            "grid_area": null,
            "grid_template_columns": null,
            "flex": null,
            "_model_name": "LayoutModel",
            "justify_items": null,
            "grid_row": null,
            "max_height": null,
            "align_content": null,
            "visibility": null,
            "align_self": null,
            "height": null,
            "min_height": null,
            "padding": null,
            "grid_auto_rows": null,
            "grid_gap": null,
            "max_width": null,
            "order": null,
            "_view_module_version": "1.2.0",
            "grid_template_areas": null,
            "object_position": null,
            "object_fit": null,
            "grid_auto_columns": null,
            "margin": null,
            "display": null,
            "left": null
          }
        },
        "704b4b64467e45849060da71967d507a": {
          "model_module": "@jupyter-widgets/controls",
          "model_name": "FloatProgressModel",
          "state": {
            "_view_name": "ProgressView",
            "style": "IPY_MODEL_8e2ec9675a034c04a4273d9d9206ff4a",
            "_dom_classes": [],
            "description": "100%",
            "_model_name": "FloatProgressModel",
            "bar_style": "success",
            "max": 5,
            "_view_module": "@jupyter-widgets/controls",
            "_model_module_version": "1.5.0",
            "value": 5,
            "_view_count": null,
            "_view_module_version": "1.5.0",
            "orientation": "horizontal",
            "min": 0,
            "description_tooltip": null,
            "_model_module": "@jupyter-widgets/controls",
            "layout": "IPY_MODEL_bc70f8fdca8f41c7a8d65fd276a4d73f"
          }
        },
        "edb540d49b5741cf90603177aaf48073": {
          "model_module": "@jupyter-widgets/controls",
          "model_name": "HTMLModel",
          "state": {
            "_view_name": "HTMLView",
            "style": "IPY_MODEL_a78cffd428e34f6c82093b0ce4d216cf",
            "_dom_classes": [],
            "description": "",
            "_model_name": "HTMLModel",
            "placeholder": "​",
            "_view_module": "@jupyter-widgets/controls",
            "_model_module_version": "1.5.0",
            "value": " 5/5 [05:48&lt;00:00, 69.70s/it]",
            "_view_count": null,
            "_view_module_version": "1.5.0",
            "description_tooltip": null,
            "_model_module": "@jupyter-widgets/controls",
            "layout": "IPY_MODEL_8b09f4d517a04219abf49e848961b694"
          }
        },
        "8e2ec9675a034c04a4273d9d9206ff4a": {
          "model_module": "@jupyter-widgets/controls",
          "model_name": "ProgressStyleModel",
          "state": {
            "_view_name": "StyleView",
            "_model_name": "ProgressStyleModel",
            "description_width": "initial",
            "_view_module": "@jupyter-widgets/base",
            "_model_module_version": "1.5.0",
            "_view_count": null,
            "_view_module_version": "1.2.0",
            "bar_color": null,
            "_model_module": "@jupyter-widgets/controls"
          }
        },
        "bc70f8fdca8f41c7a8d65fd276a4d73f": {
          "model_module": "@jupyter-widgets/base",
          "model_name": "LayoutModel",
          "state": {
            "_view_name": "LayoutView",
            "grid_template_rows": null,
            "right": null,
            "justify_content": null,
            "_view_module": "@jupyter-widgets/base",
            "overflow": null,
            "_model_module_version": "1.2.0",
            "_view_count": null,
            "flex_flow": null,
            "width": null,
            "min_width": null,
            "border": null,
            "align_items": null,
            "bottom": null,
            "_model_module": "@jupyter-widgets/base",
            "top": null,
            "grid_column": null,
            "overflow_y": null,
            "overflow_x": null,
            "grid_auto_flow": null,
            "grid_area": null,
            "grid_template_columns": null,
            "flex": null,
            "_model_name": "LayoutModel",
            "justify_items": null,
            "grid_row": null,
            "max_height": null,
            "align_content": null,
            "visibility": null,
            "align_self": null,
            "height": null,
            "min_height": null,
            "padding": null,
            "grid_auto_rows": null,
            "grid_gap": null,
            "max_width": null,
            "order": null,
            "_view_module_version": "1.2.0",
            "grid_template_areas": null,
            "object_position": null,
            "object_fit": null,
            "grid_auto_columns": null,
            "margin": null,
            "display": null,
            "left": null
          }
        },
        "a78cffd428e34f6c82093b0ce4d216cf": {
          "model_module": "@jupyter-widgets/controls",
          "model_name": "DescriptionStyleModel",
          "state": {
            "_view_name": "StyleView",
            "_model_name": "DescriptionStyleModel",
            "description_width": "",
            "_view_module": "@jupyter-widgets/base",
            "_model_module_version": "1.5.0",
            "_view_count": null,
            "_view_module_version": "1.2.0",
            "_model_module": "@jupyter-widgets/controls"
          }
        },
        "8b09f4d517a04219abf49e848961b694": {
          "model_module": "@jupyter-widgets/base",
          "model_name": "LayoutModel",
          "state": {
            "_view_name": "LayoutView",
            "grid_template_rows": null,
            "right": null,
            "justify_content": null,
            "_view_module": "@jupyter-widgets/base",
            "overflow": null,
            "_model_module_version": "1.2.0",
            "_view_count": null,
            "flex_flow": null,
            "width": null,
            "min_width": null,
            "border": null,
            "align_items": null,
            "bottom": null,
            "_model_module": "@jupyter-widgets/base",
            "top": null,
            "grid_column": null,
            "overflow_y": null,
            "overflow_x": null,
            "grid_auto_flow": null,
            "grid_area": null,
            "grid_template_columns": null,
            "flex": null,
            "_model_name": "LayoutModel",
            "justify_items": null,
            "grid_row": null,
            "max_height": null,
            "align_content": null,
            "visibility": null,
            "align_self": null,
            "height": null,
            "min_height": null,
            "padding": null,
            "grid_auto_rows": null,
            "grid_gap": null,
            "max_width": null,
            "order": null,
            "_view_module_version": "1.2.0",
            "grid_template_areas": null,
            "object_position": null,
            "object_fit": null,
            "grid_auto_columns": null,
            "margin": null,
            "display": null,
            "left": null
          }
        },
        "ccf7d9ab4d374a288b478c5cb65ae3b0": {
          "model_module": "@jupyter-widgets/controls",
          "model_name": "HBoxModel",
          "state": {
            "_view_name": "HBoxView",
            "_dom_classes": [],
            "_model_name": "HBoxModel",
            "_view_module": "@jupyter-widgets/controls",
            "_model_module_version": "1.5.0",
            "_view_count": null,
            "_view_module_version": "1.5.0",
            "box_style": "",
            "layout": "IPY_MODEL_dc6310da6443409ca745afdaa052d3fb",
            "_model_module": "@jupyter-widgets/controls",
            "children": [
              "IPY_MODEL_7eb0142e5c424d1f984bab6df043db2d",
              "IPY_MODEL_788c9ca3ebe4421897dd6794a4ed3be6"
            ]
          }
        },
        "dc6310da6443409ca745afdaa052d3fb": {
          "model_module": "@jupyter-widgets/base",
          "model_name": "LayoutModel",
          "state": {
            "_view_name": "LayoutView",
            "grid_template_rows": null,
            "right": null,
            "justify_content": null,
            "_view_module": "@jupyter-widgets/base",
            "overflow": null,
            "_model_module_version": "1.2.0",
            "_view_count": null,
            "flex_flow": null,
            "width": null,
            "min_width": null,
            "border": null,
            "align_items": null,
            "bottom": null,
            "_model_module": "@jupyter-widgets/base",
            "top": null,
            "grid_column": null,
            "overflow_y": null,
            "overflow_x": null,
            "grid_auto_flow": null,
            "grid_area": null,
            "grid_template_columns": null,
            "flex": null,
            "_model_name": "LayoutModel",
            "justify_items": null,
            "grid_row": null,
            "max_height": null,
            "align_content": null,
            "visibility": null,
            "align_self": null,
            "height": null,
            "min_height": null,
            "padding": null,
            "grid_auto_rows": null,
            "grid_gap": null,
            "max_width": null,
            "order": null,
            "_view_module_version": "1.2.0",
            "grid_template_areas": null,
            "object_position": null,
            "object_fit": null,
            "grid_auto_columns": null,
            "margin": null,
            "display": null,
            "left": null
          }
        },
        "7eb0142e5c424d1f984bab6df043db2d": {
          "model_module": "@jupyter-widgets/controls",
          "model_name": "FloatProgressModel",
          "state": {
            "_view_name": "ProgressView",
            "style": "IPY_MODEL_05ffd5d869b447b3a53a53a7053204f7",
            "_dom_classes": [],
            "description": "100%",
            "_model_name": "FloatProgressModel",
            "bar_style": "success",
            "max": 5,
            "_view_module": "@jupyter-widgets/controls",
            "_model_module_version": "1.5.0",
            "value": 5,
            "_view_count": null,
            "_view_module_version": "1.5.0",
            "orientation": "horizontal",
            "min": 0,
            "description_tooltip": null,
            "_model_module": "@jupyter-widgets/controls",
            "layout": "IPY_MODEL_eb4da021c0304444942490146602cf75"
          }
        },
        "788c9ca3ebe4421897dd6794a4ed3be6": {
          "model_module": "@jupyter-widgets/controls",
          "model_name": "HTMLModel",
          "state": {
            "_view_name": "HTMLView",
            "style": "IPY_MODEL_132a8d8e725844b6844fc86c0548478b",
            "_dom_classes": [],
            "description": "",
            "_model_name": "HTMLModel",
            "placeholder": "​",
            "_view_module": "@jupyter-widgets/controls",
            "_model_module_version": "1.5.0",
            "value": " 5/5 [01:01&lt;00:00, 12.35s/it]",
            "_view_count": null,
            "_view_module_version": "1.5.0",
            "description_tooltip": null,
            "_model_module": "@jupyter-widgets/controls",
            "layout": "IPY_MODEL_050f29efcea14150ae377e5634e01b3e"
          }
        },
        "05ffd5d869b447b3a53a53a7053204f7": {
          "model_module": "@jupyter-widgets/controls",
          "model_name": "ProgressStyleModel",
          "state": {
            "_view_name": "StyleView",
            "_model_name": "ProgressStyleModel",
            "description_width": "initial",
            "_view_module": "@jupyter-widgets/base",
            "_model_module_version": "1.5.0",
            "_view_count": null,
            "_view_module_version": "1.2.0",
            "bar_color": null,
            "_model_module": "@jupyter-widgets/controls"
          }
        },
        "eb4da021c0304444942490146602cf75": {
          "model_module": "@jupyter-widgets/base",
          "model_name": "LayoutModel",
          "state": {
            "_view_name": "LayoutView",
            "grid_template_rows": null,
            "right": null,
            "justify_content": null,
            "_view_module": "@jupyter-widgets/base",
            "overflow": null,
            "_model_module_version": "1.2.0",
            "_view_count": null,
            "flex_flow": null,
            "width": null,
            "min_width": null,
            "border": null,
            "align_items": null,
            "bottom": null,
            "_model_module": "@jupyter-widgets/base",
            "top": null,
            "grid_column": null,
            "overflow_y": null,
            "overflow_x": null,
            "grid_auto_flow": null,
            "grid_area": null,
            "grid_template_columns": null,
            "flex": null,
            "_model_name": "LayoutModel",
            "justify_items": null,
            "grid_row": null,
            "max_height": null,
            "align_content": null,
            "visibility": null,
            "align_self": null,
            "height": null,
            "min_height": null,
            "padding": null,
            "grid_auto_rows": null,
            "grid_gap": null,
            "max_width": null,
            "order": null,
            "_view_module_version": "1.2.0",
            "grid_template_areas": null,
            "object_position": null,
            "object_fit": null,
            "grid_auto_columns": null,
            "margin": null,
            "display": null,
            "left": null
          }
        },
        "132a8d8e725844b6844fc86c0548478b": {
          "model_module": "@jupyter-widgets/controls",
          "model_name": "DescriptionStyleModel",
          "state": {
            "_view_name": "StyleView",
            "_model_name": "DescriptionStyleModel",
            "description_width": "",
            "_view_module": "@jupyter-widgets/base",
            "_model_module_version": "1.5.0",
            "_view_count": null,
            "_view_module_version": "1.2.0",
            "_model_module": "@jupyter-widgets/controls"
          }
        },
        "050f29efcea14150ae377e5634e01b3e": {
          "model_module": "@jupyter-widgets/base",
          "model_name": "LayoutModel",
          "state": {
            "_view_name": "LayoutView",
            "grid_template_rows": null,
            "right": null,
            "justify_content": null,
            "_view_module": "@jupyter-widgets/base",
            "overflow": null,
            "_model_module_version": "1.2.0",
            "_view_count": null,
            "flex_flow": null,
            "width": null,
            "min_width": null,
            "border": null,
            "align_items": null,
            "bottom": null,
            "_model_module": "@jupyter-widgets/base",
            "top": null,
            "grid_column": null,
            "overflow_y": null,
            "overflow_x": null,
            "grid_auto_flow": null,
            "grid_area": null,
            "grid_template_columns": null,
            "flex": null,
            "_model_name": "LayoutModel",
            "justify_items": null,
            "grid_row": null,
            "max_height": null,
            "align_content": null,
            "visibility": null,
            "align_self": null,
            "height": null,
            "min_height": null,
            "padding": null,
            "grid_auto_rows": null,
            "grid_gap": null,
            "max_width": null,
            "order": null,
            "_view_module_version": "1.2.0",
            "grid_template_areas": null,
            "object_position": null,
            "object_fit": null,
            "grid_auto_columns": null,
            "margin": null,
            "display": null,
            "left": null
          }
        },
        "50c58821cbf44adcade724649b18c304": {
          "model_module": "@jupyter-widgets/controls",
          "model_name": "HBoxModel",
          "state": {
            "_view_name": "HBoxView",
            "_dom_classes": [],
            "_model_name": "HBoxModel",
            "_view_module": "@jupyter-widgets/controls",
            "_model_module_version": "1.5.0",
            "_view_count": null,
            "_view_module_version": "1.5.0",
            "box_style": "",
            "layout": "IPY_MODEL_53439206ebfb4e0e9fbb969a2347e784",
            "_model_module": "@jupyter-widgets/controls",
            "children": [
              "IPY_MODEL_55219264105c41f7a53d8a30cf6e681a",
              "IPY_MODEL_56c3ab1e3cd94c79a1c0744dfb8cda32"
            ]
          }
        },
        "53439206ebfb4e0e9fbb969a2347e784": {
          "model_module": "@jupyter-widgets/base",
          "model_name": "LayoutModel",
          "state": {
            "_view_name": "LayoutView",
            "grid_template_rows": null,
            "right": null,
            "justify_content": null,
            "_view_module": "@jupyter-widgets/base",
            "overflow": null,
            "_model_module_version": "1.2.0",
            "_view_count": null,
            "flex_flow": null,
            "width": null,
            "min_width": null,
            "border": null,
            "align_items": null,
            "bottom": null,
            "_model_module": "@jupyter-widgets/base",
            "top": null,
            "grid_column": null,
            "overflow_y": null,
            "overflow_x": null,
            "grid_auto_flow": null,
            "grid_area": null,
            "grid_template_columns": null,
            "flex": null,
            "_model_name": "LayoutModel",
            "justify_items": null,
            "grid_row": null,
            "max_height": null,
            "align_content": null,
            "visibility": null,
            "align_self": null,
            "height": null,
            "min_height": null,
            "padding": null,
            "grid_auto_rows": null,
            "grid_gap": null,
            "max_width": null,
            "order": null,
            "_view_module_version": "1.2.0",
            "grid_template_areas": null,
            "object_position": null,
            "object_fit": null,
            "grid_auto_columns": null,
            "margin": null,
            "display": null,
            "left": null
          }
        },
        "55219264105c41f7a53d8a30cf6e681a": {
          "model_module": "@jupyter-widgets/controls",
          "model_name": "FloatProgressModel",
          "state": {
            "_view_name": "ProgressView",
            "style": "IPY_MODEL_6a0730223c2349348f0ad66c44b7e769",
            "_dom_classes": [],
            "description": "100%",
            "_model_name": "FloatProgressModel",
            "bar_style": "success",
            "max": 5,
            "_view_module": "@jupyter-widgets/controls",
            "_model_module_version": "1.5.0",
            "value": 5,
            "_view_count": null,
            "_view_module_version": "1.5.0",
            "orientation": "horizontal",
            "min": 0,
            "description_tooltip": null,
            "_model_module": "@jupyter-widgets/controls",
            "layout": "IPY_MODEL_9d4741771f3d4085b27f4469195abbfa"
          }
        },
        "56c3ab1e3cd94c79a1c0744dfb8cda32": {
          "model_module": "@jupyter-widgets/controls",
          "model_name": "HTMLModel",
          "state": {
            "_view_name": "HTMLView",
            "style": "IPY_MODEL_29bda5fc9069463881b78df97a09a97c",
            "_dom_classes": [],
            "description": "",
            "_model_name": "HTMLModel",
            "placeholder": "​",
            "_view_module": "@jupyter-widgets/controls",
            "_model_module_version": "1.5.0",
            "value": " 5/5 [01:16&lt;00:00, 15.24s/it]",
            "_view_count": null,
            "_view_module_version": "1.5.0",
            "description_tooltip": null,
            "_model_module": "@jupyter-widgets/controls",
            "layout": "IPY_MODEL_5a7e7fb3e9d54175a11db4c8298e10bf"
          }
        },
        "6a0730223c2349348f0ad66c44b7e769": {
          "model_module": "@jupyter-widgets/controls",
          "model_name": "ProgressStyleModel",
          "state": {
            "_view_name": "StyleView",
            "_model_name": "ProgressStyleModel",
            "description_width": "initial",
            "_view_module": "@jupyter-widgets/base",
            "_model_module_version": "1.5.0",
            "_view_count": null,
            "_view_module_version": "1.2.0",
            "bar_color": null,
            "_model_module": "@jupyter-widgets/controls"
          }
        },
        "9d4741771f3d4085b27f4469195abbfa": {
          "model_module": "@jupyter-widgets/base",
          "model_name": "LayoutModel",
          "state": {
            "_view_name": "LayoutView",
            "grid_template_rows": null,
            "right": null,
            "justify_content": null,
            "_view_module": "@jupyter-widgets/base",
            "overflow": null,
            "_model_module_version": "1.2.0",
            "_view_count": null,
            "flex_flow": null,
            "width": null,
            "min_width": null,
            "border": null,
            "align_items": null,
            "bottom": null,
            "_model_module": "@jupyter-widgets/base",
            "top": null,
            "grid_column": null,
            "overflow_y": null,
            "overflow_x": null,
            "grid_auto_flow": null,
            "grid_area": null,
            "grid_template_columns": null,
            "flex": null,
            "_model_name": "LayoutModel",
            "justify_items": null,
            "grid_row": null,
            "max_height": null,
            "align_content": null,
            "visibility": null,
            "align_self": null,
            "height": null,
            "min_height": null,
            "padding": null,
            "grid_auto_rows": null,
            "grid_gap": null,
            "max_width": null,
            "order": null,
            "_view_module_version": "1.2.0",
            "grid_template_areas": null,
            "object_position": null,
            "object_fit": null,
            "grid_auto_columns": null,
            "margin": null,
            "display": null,
            "left": null
          }
        },
        "29bda5fc9069463881b78df97a09a97c": {
          "model_module": "@jupyter-widgets/controls",
          "model_name": "DescriptionStyleModel",
          "state": {
            "_view_name": "StyleView",
            "_model_name": "DescriptionStyleModel",
            "description_width": "",
            "_view_module": "@jupyter-widgets/base",
            "_model_module_version": "1.5.0",
            "_view_count": null,
            "_view_module_version": "1.2.0",
            "_model_module": "@jupyter-widgets/controls"
          }
        },
        "5a7e7fb3e9d54175a11db4c8298e10bf": {
          "model_module": "@jupyter-widgets/base",
          "model_name": "LayoutModel",
          "state": {
            "_view_name": "LayoutView",
            "grid_template_rows": null,
            "right": null,
            "justify_content": null,
            "_view_module": "@jupyter-widgets/base",
            "overflow": null,
            "_model_module_version": "1.2.0",
            "_view_count": null,
            "flex_flow": null,
            "width": null,
            "min_width": null,
            "border": null,
            "align_items": null,
            "bottom": null,
            "_model_module": "@jupyter-widgets/base",
            "top": null,
            "grid_column": null,
            "overflow_y": null,
            "overflow_x": null,
            "grid_auto_flow": null,
            "grid_area": null,
            "grid_template_columns": null,
            "flex": null,
            "_model_name": "LayoutModel",
            "justify_items": null,
            "grid_row": null,
            "max_height": null,
            "align_content": null,
            "visibility": null,
            "align_self": null,
            "height": null,
            "min_height": null,
            "padding": null,
            "grid_auto_rows": null,
            "grid_gap": null,
            "max_width": null,
            "order": null,
            "_view_module_version": "1.2.0",
            "grid_template_areas": null,
            "object_position": null,
            "object_fit": null,
            "grid_auto_columns": null,
            "margin": null,
            "display": null,
            "left": null
          }
        },
        "90718e14f54041ffba7909addd8c1f7c": {
          "model_module": "@jupyter-widgets/controls",
          "model_name": "HBoxModel",
          "state": {
            "_view_name": "HBoxView",
            "_dom_classes": [],
            "_model_name": "HBoxModel",
            "_view_module": "@jupyter-widgets/controls",
            "_model_module_version": "1.5.0",
            "_view_count": null,
            "_view_module_version": "1.5.0",
            "box_style": "",
            "layout": "IPY_MODEL_ceec2bb6aa434bc0af219d4cb2d064cb",
            "_model_module": "@jupyter-widgets/controls",
            "children": [
              "IPY_MODEL_4e669934b7b34b3e8855d06e6684a878",
              "IPY_MODEL_5c0a1fd162fb483a94b73810097e1cdf"
            ]
          }
        },
        "ceec2bb6aa434bc0af219d4cb2d064cb": {
          "model_module": "@jupyter-widgets/base",
          "model_name": "LayoutModel",
          "state": {
            "_view_name": "LayoutView",
            "grid_template_rows": null,
            "right": null,
            "justify_content": null,
            "_view_module": "@jupyter-widgets/base",
            "overflow": null,
            "_model_module_version": "1.2.0",
            "_view_count": null,
            "flex_flow": null,
            "width": null,
            "min_width": null,
            "border": null,
            "align_items": null,
            "bottom": null,
            "_model_module": "@jupyter-widgets/base",
            "top": null,
            "grid_column": null,
            "overflow_y": null,
            "overflow_x": null,
            "grid_auto_flow": null,
            "grid_area": null,
            "grid_template_columns": null,
            "flex": null,
            "_model_name": "LayoutModel",
            "justify_items": null,
            "grid_row": null,
            "max_height": null,
            "align_content": null,
            "visibility": null,
            "align_self": null,
            "height": null,
            "min_height": null,
            "padding": null,
            "grid_auto_rows": null,
            "grid_gap": null,
            "max_width": null,
            "order": null,
            "_view_module_version": "1.2.0",
            "grid_template_areas": null,
            "object_position": null,
            "object_fit": null,
            "grid_auto_columns": null,
            "margin": null,
            "display": null,
            "left": null
          }
        },
        "4e669934b7b34b3e8855d06e6684a878": {
          "model_module": "@jupyter-widgets/controls",
          "model_name": "FloatProgressModel",
          "state": {
            "_view_name": "ProgressView",
            "style": "IPY_MODEL_16011c7da2ae4d62842b499812817399",
            "_dom_classes": [],
            "description": "100%",
            "_model_name": "FloatProgressModel",
            "bar_style": "success",
            "max": 4,
            "_view_module": "@jupyter-widgets/controls",
            "_model_module_version": "1.5.0",
            "value": 4,
            "_view_count": null,
            "_view_module_version": "1.5.0",
            "orientation": "horizontal",
            "min": 0,
            "description_tooltip": null,
            "_model_module": "@jupyter-widgets/controls",
            "layout": "IPY_MODEL_7703354eeec9454b81c2d87a9206b306"
          }
        },
        "5c0a1fd162fb483a94b73810097e1cdf": {
          "model_module": "@jupyter-widgets/controls",
          "model_name": "HTMLModel",
          "state": {
            "_view_name": "HTMLView",
            "style": "IPY_MODEL_1a4223d1b4564858b59687c312482d9a",
            "_dom_classes": [],
            "description": "",
            "_model_name": "HTMLModel",
            "placeholder": "​",
            "_view_module": "@jupyter-widgets/controls",
            "_model_module_version": "1.5.0",
            "value": " 4/4 [00:14&lt;00:00,  3.72s/it]",
            "_view_count": null,
            "_view_module_version": "1.5.0",
            "description_tooltip": null,
            "_model_module": "@jupyter-widgets/controls",
            "layout": "IPY_MODEL_81535021ab4b4d5c87a151257cdb7d3e"
          }
        },
        "16011c7da2ae4d62842b499812817399": {
          "model_module": "@jupyter-widgets/controls",
          "model_name": "ProgressStyleModel",
          "state": {
            "_view_name": "StyleView",
            "_model_name": "ProgressStyleModel",
            "description_width": "initial",
            "_view_module": "@jupyter-widgets/base",
            "_model_module_version": "1.5.0",
            "_view_count": null,
            "_view_module_version": "1.2.0",
            "bar_color": null,
            "_model_module": "@jupyter-widgets/controls"
          }
        },
        "7703354eeec9454b81c2d87a9206b306": {
          "model_module": "@jupyter-widgets/base",
          "model_name": "LayoutModel",
          "state": {
            "_view_name": "LayoutView",
            "grid_template_rows": null,
            "right": null,
            "justify_content": null,
            "_view_module": "@jupyter-widgets/base",
            "overflow": null,
            "_model_module_version": "1.2.0",
            "_view_count": null,
            "flex_flow": null,
            "width": null,
            "min_width": null,
            "border": null,
            "align_items": null,
            "bottom": null,
            "_model_module": "@jupyter-widgets/base",
            "top": null,
            "grid_column": null,
            "overflow_y": null,
            "overflow_x": null,
            "grid_auto_flow": null,
            "grid_area": null,
            "grid_template_columns": null,
            "flex": null,
            "_model_name": "LayoutModel",
            "justify_items": null,
            "grid_row": null,
            "max_height": null,
            "align_content": null,
            "visibility": null,
            "align_self": null,
            "height": null,
            "min_height": null,
            "padding": null,
            "grid_auto_rows": null,
            "grid_gap": null,
            "max_width": null,
            "order": null,
            "_view_module_version": "1.2.0",
            "grid_template_areas": null,
            "object_position": null,
            "object_fit": null,
            "grid_auto_columns": null,
            "margin": null,
            "display": null,
            "left": null
          }
        },
        "1a4223d1b4564858b59687c312482d9a": {
          "model_module": "@jupyter-widgets/controls",
          "model_name": "DescriptionStyleModel",
          "state": {
            "_view_name": "StyleView",
            "_model_name": "DescriptionStyleModel",
            "description_width": "",
            "_view_module": "@jupyter-widgets/base",
            "_model_module_version": "1.5.0",
            "_view_count": null,
            "_view_module_version": "1.2.0",
            "_model_module": "@jupyter-widgets/controls"
          }
        },
        "81535021ab4b4d5c87a151257cdb7d3e": {
          "model_module": "@jupyter-widgets/base",
          "model_name": "LayoutModel",
          "state": {
            "_view_name": "LayoutView",
            "grid_template_rows": null,
            "right": null,
            "justify_content": null,
            "_view_module": "@jupyter-widgets/base",
            "overflow": null,
            "_model_module_version": "1.2.0",
            "_view_count": null,
            "flex_flow": null,
            "width": null,
            "min_width": null,
            "border": null,
            "align_items": null,
            "bottom": null,
            "_model_module": "@jupyter-widgets/base",
            "top": null,
            "grid_column": null,
            "overflow_y": null,
            "overflow_x": null,
            "grid_auto_flow": null,
            "grid_area": null,
            "grid_template_columns": null,
            "flex": null,
            "_model_name": "LayoutModel",
            "justify_items": null,
            "grid_row": null,
            "max_height": null,
            "align_content": null,
            "visibility": null,
            "align_self": null,
            "height": null,
            "min_height": null,
            "padding": null,
            "grid_auto_rows": null,
            "grid_gap": null,
            "max_width": null,
            "order": null,
            "_view_module_version": "1.2.0",
            "grid_template_areas": null,
            "object_position": null,
            "object_fit": null,
            "grid_auto_columns": null,
            "margin": null,
            "display": null,
            "left": null
          }
        },
        "5ad652bf16754d19aae5b5180a53659b": {
          "model_module": "@jupyter-widgets/controls",
          "model_name": "HBoxModel",
          "state": {
            "_view_name": "HBoxView",
            "_dom_classes": [],
            "_model_name": "HBoxModel",
            "_view_module": "@jupyter-widgets/controls",
            "_model_module_version": "1.5.0",
            "_view_count": null,
            "_view_module_version": "1.5.0",
            "box_style": "",
            "layout": "IPY_MODEL_35e5bd4bab5347c48b6889b7fe5f0cdf",
            "_model_module": "@jupyter-widgets/controls",
            "children": [
              "IPY_MODEL_57e9970b432546119cac9dc6a39bc233",
              "IPY_MODEL_cd8cb920432a48a7bf5982b1c75c4b9b"
            ]
          }
        },
        "35e5bd4bab5347c48b6889b7fe5f0cdf": {
          "model_module": "@jupyter-widgets/base",
          "model_name": "LayoutModel",
          "state": {
            "_view_name": "LayoutView",
            "grid_template_rows": null,
            "right": null,
            "justify_content": null,
            "_view_module": "@jupyter-widgets/base",
            "overflow": null,
            "_model_module_version": "1.2.0",
            "_view_count": null,
            "flex_flow": null,
            "width": null,
            "min_width": null,
            "border": null,
            "align_items": null,
            "bottom": null,
            "_model_module": "@jupyter-widgets/base",
            "top": null,
            "grid_column": null,
            "overflow_y": null,
            "overflow_x": null,
            "grid_auto_flow": null,
            "grid_area": null,
            "grid_template_columns": null,
            "flex": null,
            "_model_name": "LayoutModel",
            "justify_items": null,
            "grid_row": null,
            "max_height": null,
            "align_content": null,
            "visibility": null,
            "align_self": null,
            "height": null,
            "min_height": null,
            "padding": null,
            "grid_auto_rows": null,
            "grid_gap": null,
            "max_width": null,
            "order": null,
            "_view_module_version": "1.2.0",
            "grid_template_areas": null,
            "object_position": null,
            "object_fit": null,
            "grid_auto_columns": null,
            "margin": null,
            "display": null,
            "left": null
          }
        },
        "57e9970b432546119cac9dc6a39bc233": {
          "model_module": "@jupyter-widgets/controls",
          "model_name": "FloatProgressModel",
          "state": {
            "_view_name": "ProgressView",
            "style": "IPY_MODEL_dcf3579fba6e4911b766ac50773d126f",
            "_dom_classes": [],
            "description": "100%",
            "_model_name": "FloatProgressModel",
            "bar_style": "success",
            "max": 4,
            "_view_module": "@jupyter-widgets/controls",
            "_model_module_version": "1.5.0",
            "value": 4,
            "_view_count": null,
            "_view_module_version": "1.5.0",
            "orientation": "horizontal",
            "min": 0,
            "description_tooltip": null,
            "_model_module": "@jupyter-widgets/controls",
            "layout": "IPY_MODEL_7b8526a5ca8d473ea8db170a3e77d93b"
          }
        },
        "cd8cb920432a48a7bf5982b1c75c4b9b": {
          "model_module": "@jupyter-widgets/controls",
          "model_name": "HTMLModel",
          "state": {
            "_view_name": "HTMLView",
            "style": "IPY_MODEL_7598bd5b15784a3f84b0a231b61154f0",
            "_dom_classes": [],
            "description": "",
            "_model_name": "HTMLModel",
            "placeholder": "​",
            "_view_module": "@jupyter-widgets/controls",
            "_model_module_version": "1.5.0",
            "value": " 4/4 [01:03&lt;00:00, 15.98s/it]",
            "_view_count": null,
            "_view_module_version": "1.5.0",
            "description_tooltip": null,
            "_model_module": "@jupyter-widgets/controls",
            "layout": "IPY_MODEL_e77bbf351ed24cfe9f9039919eb446a0"
          }
        },
        "dcf3579fba6e4911b766ac50773d126f": {
          "model_module": "@jupyter-widgets/controls",
          "model_name": "ProgressStyleModel",
          "state": {
            "_view_name": "StyleView",
            "_model_name": "ProgressStyleModel",
            "description_width": "initial",
            "_view_module": "@jupyter-widgets/base",
            "_model_module_version": "1.5.0",
            "_view_count": null,
            "_view_module_version": "1.2.0",
            "bar_color": null,
            "_model_module": "@jupyter-widgets/controls"
          }
        },
        "7b8526a5ca8d473ea8db170a3e77d93b": {
          "model_module": "@jupyter-widgets/base",
          "model_name": "LayoutModel",
          "state": {
            "_view_name": "LayoutView",
            "grid_template_rows": null,
            "right": null,
            "justify_content": null,
            "_view_module": "@jupyter-widgets/base",
            "overflow": null,
            "_model_module_version": "1.2.0",
            "_view_count": null,
            "flex_flow": null,
            "width": null,
            "min_width": null,
            "border": null,
            "align_items": null,
            "bottom": null,
            "_model_module": "@jupyter-widgets/base",
            "top": null,
            "grid_column": null,
            "overflow_y": null,
            "overflow_x": null,
            "grid_auto_flow": null,
            "grid_area": null,
            "grid_template_columns": null,
            "flex": null,
            "_model_name": "LayoutModel",
            "justify_items": null,
            "grid_row": null,
            "max_height": null,
            "align_content": null,
            "visibility": null,
            "align_self": null,
            "height": null,
            "min_height": null,
            "padding": null,
            "grid_auto_rows": null,
            "grid_gap": null,
            "max_width": null,
            "order": null,
            "_view_module_version": "1.2.0",
            "grid_template_areas": null,
            "object_position": null,
            "object_fit": null,
            "grid_auto_columns": null,
            "margin": null,
            "display": null,
            "left": null
          }
        },
        "7598bd5b15784a3f84b0a231b61154f0": {
          "model_module": "@jupyter-widgets/controls",
          "model_name": "DescriptionStyleModel",
          "state": {
            "_view_name": "StyleView",
            "_model_name": "DescriptionStyleModel",
            "description_width": "",
            "_view_module": "@jupyter-widgets/base",
            "_model_module_version": "1.5.0",
            "_view_count": null,
            "_view_module_version": "1.2.0",
            "_model_module": "@jupyter-widgets/controls"
          }
        },
        "e77bbf351ed24cfe9f9039919eb446a0": {
          "model_module": "@jupyter-widgets/base",
          "model_name": "LayoutModel",
          "state": {
            "_view_name": "LayoutView",
            "grid_template_rows": null,
            "right": null,
            "justify_content": null,
            "_view_module": "@jupyter-widgets/base",
            "overflow": null,
            "_model_module_version": "1.2.0",
            "_view_count": null,
            "flex_flow": null,
            "width": null,
            "min_width": null,
            "border": null,
            "align_items": null,
            "bottom": null,
            "_model_module": "@jupyter-widgets/base",
            "top": null,
            "grid_column": null,
            "overflow_y": null,
            "overflow_x": null,
            "grid_auto_flow": null,
            "grid_area": null,
            "grid_template_columns": null,
            "flex": null,
            "_model_name": "LayoutModel",
            "justify_items": null,
            "grid_row": null,
            "max_height": null,
            "align_content": null,
            "visibility": null,
            "align_self": null,
            "height": null,
            "min_height": null,
            "padding": null,
            "grid_auto_rows": null,
            "grid_gap": null,
            "max_width": null,
            "order": null,
            "_view_module_version": "1.2.0",
            "grid_template_areas": null,
            "object_position": null,
            "object_fit": null,
            "grid_auto_columns": null,
            "margin": null,
            "display": null,
            "left": null
          }
        },
        "1e544af044be483c9b3578837eb07fec": {
          "model_module": "@jupyter-widgets/controls",
          "model_name": "HBoxModel",
          "state": {
            "_view_name": "HBoxView",
            "_dom_classes": [],
            "_model_name": "HBoxModel",
            "_view_module": "@jupyter-widgets/controls",
            "_model_module_version": "1.5.0",
            "_view_count": null,
            "_view_module_version": "1.5.0",
            "box_style": "",
            "layout": "IPY_MODEL_ac252a6209764b769473135bff7c9a2b",
            "_model_module": "@jupyter-widgets/controls",
            "children": [
              "IPY_MODEL_2c8c5181227b402e97a0596db2a16cd2",
              "IPY_MODEL_c367102528cc4e959bd71d84cc3559a4"
            ]
          }
        },
        "ac252a6209764b769473135bff7c9a2b": {
          "model_module": "@jupyter-widgets/base",
          "model_name": "LayoutModel",
          "state": {
            "_view_name": "LayoutView",
            "grid_template_rows": null,
            "right": null,
            "justify_content": null,
            "_view_module": "@jupyter-widgets/base",
            "overflow": null,
            "_model_module_version": "1.2.0",
            "_view_count": null,
            "flex_flow": null,
            "width": null,
            "min_width": null,
            "border": null,
            "align_items": null,
            "bottom": null,
            "_model_module": "@jupyter-widgets/base",
            "top": null,
            "grid_column": null,
            "overflow_y": null,
            "overflow_x": null,
            "grid_auto_flow": null,
            "grid_area": null,
            "grid_template_columns": null,
            "flex": null,
            "_model_name": "LayoutModel",
            "justify_items": null,
            "grid_row": null,
            "max_height": null,
            "align_content": null,
            "visibility": null,
            "align_self": null,
            "height": null,
            "min_height": null,
            "padding": null,
            "grid_auto_rows": null,
            "grid_gap": null,
            "max_width": null,
            "order": null,
            "_view_module_version": "1.2.0",
            "grid_template_areas": null,
            "object_position": null,
            "object_fit": null,
            "grid_auto_columns": null,
            "margin": null,
            "display": null,
            "left": null
          }
        },
        "2c8c5181227b402e97a0596db2a16cd2": {
          "model_module": "@jupyter-widgets/controls",
          "model_name": "FloatProgressModel",
          "state": {
            "_view_name": "ProgressView",
            "style": "IPY_MODEL_bbcfc6e3ea8d499ab85cddc57dada684",
            "_dom_classes": [],
            "description": "100%",
            "_model_name": "FloatProgressModel",
            "bar_style": "success",
            "max": 4,
            "_view_module": "@jupyter-widgets/controls",
            "_model_module_version": "1.5.0",
            "value": 4,
            "_view_count": null,
            "_view_module_version": "1.5.0",
            "orientation": "horizontal",
            "min": 0,
            "description_tooltip": null,
            "_model_module": "@jupyter-widgets/controls",
            "layout": "IPY_MODEL_509757865e054d2aa7ef60f591a55828"
          }
        },
        "c367102528cc4e959bd71d84cc3559a4": {
          "model_module": "@jupyter-widgets/controls",
          "model_name": "HTMLModel",
          "state": {
            "_view_name": "HTMLView",
            "style": "IPY_MODEL_1f132a5be70f405da64f4185f47117e0",
            "_dom_classes": [],
            "description": "",
            "_model_name": "HTMLModel",
            "placeholder": "​",
            "_view_module": "@jupyter-widgets/controls",
            "_model_module_version": "1.5.0",
            "value": " 4/4 [00:43&lt;00:00, 10.87s/it]",
            "_view_count": null,
            "_view_module_version": "1.5.0",
            "description_tooltip": null,
            "_model_module": "@jupyter-widgets/controls",
            "layout": "IPY_MODEL_581ec2fb62144f32a6dc374ed21ef65d"
          }
        },
        "bbcfc6e3ea8d499ab85cddc57dada684": {
          "model_module": "@jupyter-widgets/controls",
          "model_name": "ProgressStyleModel",
          "state": {
            "_view_name": "StyleView",
            "_model_name": "ProgressStyleModel",
            "description_width": "initial",
            "_view_module": "@jupyter-widgets/base",
            "_model_module_version": "1.5.0",
            "_view_count": null,
            "_view_module_version": "1.2.0",
            "bar_color": null,
            "_model_module": "@jupyter-widgets/controls"
          }
        },
        "509757865e054d2aa7ef60f591a55828": {
          "model_module": "@jupyter-widgets/base",
          "model_name": "LayoutModel",
          "state": {
            "_view_name": "LayoutView",
            "grid_template_rows": null,
            "right": null,
            "justify_content": null,
            "_view_module": "@jupyter-widgets/base",
            "overflow": null,
            "_model_module_version": "1.2.0",
            "_view_count": null,
            "flex_flow": null,
            "width": null,
            "min_width": null,
            "border": null,
            "align_items": null,
            "bottom": null,
            "_model_module": "@jupyter-widgets/base",
            "top": null,
            "grid_column": null,
            "overflow_y": null,
            "overflow_x": null,
            "grid_auto_flow": null,
            "grid_area": null,
            "grid_template_columns": null,
            "flex": null,
            "_model_name": "LayoutModel",
            "justify_items": null,
            "grid_row": null,
            "max_height": null,
            "align_content": null,
            "visibility": null,
            "align_self": null,
            "height": null,
            "min_height": null,
            "padding": null,
            "grid_auto_rows": null,
            "grid_gap": null,
            "max_width": null,
            "order": null,
            "_view_module_version": "1.2.0",
            "grid_template_areas": null,
            "object_position": null,
            "object_fit": null,
            "grid_auto_columns": null,
            "margin": null,
            "display": null,
            "left": null
          }
        },
        "1f132a5be70f405da64f4185f47117e0": {
          "model_module": "@jupyter-widgets/controls",
          "model_name": "DescriptionStyleModel",
          "state": {
            "_view_name": "StyleView",
            "_model_name": "DescriptionStyleModel",
            "description_width": "",
            "_view_module": "@jupyter-widgets/base",
            "_model_module_version": "1.5.0",
            "_view_count": null,
            "_view_module_version": "1.2.0",
            "_model_module": "@jupyter-widgets/controls"
          }
        },
        "581ec2fb62144f32a6dc374ed21ef65d": {
          "model_module": "@jupyter-widgets/base",
          "model_name": "LayoutModel",
          "state": {
            "_view_name": "LayoutView",
            "grid_template_rows": null,
            "right": null,
            "justify_content": null,
            "_view_module": "@jupyter-widgets/base",
            "overflow": null,
            "_model_module_version": "1.2.0",
            "_view_count": null,
            "flex_flow": null,
            "width": null,
            "min_width": null,
            "border": null,
            "align_items": null,
            "bottom": null,
            "_model_module": "@jupyter-widgets/base",
            "top": null,
            "grid_column": null,
            "overflow_y": null,
            "overflow_x": null,
            "grid_auto_flow": null,
            "grid_area": null,
            "grid_template_columns": null,
            "flex": null,
            "_model_name": "LayoutModel",
            "justify_items": null,
            "grid_row": null,
            "max_height": null,
            "align_content": null,
            "visibility": null,
            "align_self": null,
            "height": null,
            "min_height": null,
            "padding": null,
            "grid_auto_rows": null,
            "grid_gap": null,
            "max_width": null,
            "order": null,
            "_view_module_version": "1.2.0",
            "grid_template_areas": null,
            "object_position": null,
            "object_fit": null,
            "grid_auto_columns": null,
            "margin": null,
            "display": null,
            "left": null
          }
        },
        "fff0f4eb25bb4e538e72f69448498fe9": {
          "model_module": "@jupyter-widgets/controls",
          "model_name": "HBoxModel",
          "state": {
            "_view_name": "HBoxView",
            "_dom_classes": [],
            "_model_name": "HBoxModel",
            "_view_module": "@jupyter-widgets/controls",
            "_model_module_version": "1.5.0",
            "_view_count": null,
            "_view_module_version": "1.5.0",
            "box_style": "",
            "layout": "IPY_MODEL_9ff3fb54defd4735a1f2460126c83fda",
            "_model_module": "@jupyter-widgets/controls",
            "children": [
              "IPY_MODEL_4bcab4cf278d49b299ab4b2baa7bdd54",
              "IPY_MODEL_afa5c5bbed564423b362926e451919fc"
            ]
          }
        },
        "9ff3fb54defd4735a1f2460126c83fda": {
          "model_module": "@jupyter-widgets/base",
          "model_name": "LayoutModel",
          "state": {
            "_view_name": "LayoutView",
            "grid_template_rows": null,
            "right": null,
            "justify_content": null,
            "_view_module": "@jupyter-widgets/base",
            "overflow": null,
            "_model_module_version": "1.2.0",
            "_view_count": null,
            "flex_flow": null,
            "width": null,
            "min_width": null,
            "border": null,
            "align_items": null,
            "bottom": null,
            "_model_module": "@jupyter-widgets/base",
            "top": null,
            "grid_column": null,
            "overflow_y": null,
            "overflow_x": null,
            "grid_auto_flow": null,
            "grid_area": null,
            "grid_template_columns": null,
            "flex": null,
            "_model_name": "LayoutModel",
            "justify_items": null,
            "grid_row": null,
            "max_height": null,
            "align_content": null,
            "visibility": null,
            "align_self": null,
            "height": null,
            "min_height": null,
            "padding": null,
            "grid_auto_rows": null,
            "grid_gap": null,
            "max_width": null,
            "order": null,
            "_view_module_version": "1.2.0",
            "grid_template_areas": null,
            "object_position": null,
            "object_fit": null,
            "grid_auto_columns": null,
            "margin": null,
            "display": null,
            "left": null
          }
        },
        "4bcab4cf278d49b299ab4b2baa7bdd54": {
          "model_module": "@jupyter-widgets/controls",
          "model_name": "FloatProgressModel",
          "state": {
            "_view_name": "ProgressView",
            "style": "IPY_MODEL_73beeaa33c7547c68575edf1e2ce3e9d",
            "_dom_classes": [],
            "description": "100%",
            "_model_name": "FloatProgressModel",
            "bar_style": "success",
            "max": 4,
            "_view_module": "@jupyter-widgets/controls",
            "_model_module_version": "1.5.0",
            "value": 4,
            "_view_count": null,
            "_view_module_version": "1.5.0",
            "orientation": "horizontal",
            "min": 0,
            "description_tooltip": null,
            "_model_module": "@jupyter-widgets/controls",
            "layout": "IPY_MODEL_49c89f9e9e3b420392cab0a9af78e7a6"
          }
        },
        "afa5c5bbed564423b362926e451919fc": {
          "model_module": "@jupyter-widgets/controls",
          "model_name": "HTMLModel",
          "state": {
            "_view_name": "HTMLView",
            "style": "IPY_MODEL_7a5163922e314e3a88afca2467627e9d",
            "_dom_classes": [],
            "description": "",
            "_model_name": "HTMLModel",
            "placeholder": "​",
            "_view_module": "@jupyter-widgets/controls",
            "_model_module_version": "1.5.0",
            "value": " 4/4 [00:26&lt;00:00,  6.63s/it]",
            "_view_count": null,
            "_view_module_version": "1.5.0",
            "description_tooltip": null,
            "_model_module": "@jupyter-widgets/controls",
            "layout": "IPY_MODEL_b4c04781a89f460f88711855725cbaab"
          }
        },
        "73beeaa33c7547c68575edf1e2ce3e9d": {
          "model_module": "@jupyter-widgets/controls",
          "model_name": "ProgressStyleModel",
          "state": {
            "_view_name": "StyleView",
            "_model_name": "ProgressStyleModel",
            "description_width": "initial",
            "_view_module": "@jupyter-widgets/base",
            "_model_module_version": "1.5.0",
            "_view_count": null,
            "_view_module_version": "1.2.0",
            "bar_color": null,
            "_model_module": "@jupyter-widgets/controls"
          }
        },
        "49c89f9e9e3b420392cab0a9af78e7a6": {
          "model_module": "@jupyter-widgets/base",
          "model_name": "LayoutModel",
          "state": {
            "_view_name": "LayoutView",
            "grid_template_rows": null,
            "right": null,
            "justify_content": null,
            "_view_module": "@jupyter-widgets/base",
            "overflow": null,
            "_model_module_version": "1.2.0",
            "_view_count": null,
            "flex_flow": null,
            "width": null,
            "min_width": null,
            "border": null,
            "align_items": null,
            "bottom": null,
            "_model_module": "@jupyter-widgets/base",
            "top": null,
            "grid_column": null,
            "overflow_y": null,
            "overflow_x": null,
            "grid_auto_flow": null,
            "grid_area": null,
            "grid_template_columns": null,
            "flex": null,
            "_model_name": "LayoutModel",
            "justify_items": null,
            "grid_row": null,
            "max_height": null,
            "align_content": null,
            "visibility": null,
            "align_self": null,
            "height": null,
            "min_height": null,
            "padding": null,
            "grid_auto_rows": null,
            "grid_gap": null,
            "max_width": null,
            "order": null,
            "_view_module_version": "1.2.0",
            "grid_template_areas": null,
            "object_position": null,
            "object_fit": null,
            "grid_auto_columns": null,
            "margin": null,
            "display": null,
            "left": null
          }
        },
        "7a5163922e314e3a88afca2467627e9d": {
          "model_module": "@jupyter-widgets/controls",
          "model_name": "DescriptionStyleModel",
          "state": {
            "_view_name": "StyleView",
            "_model_name": "DescriptionStyleModel",
            "description_width": "",
            "_view_module": "@jupyter-widgets/base",
            "_model_module_version": "1.5.0",
            "_view_count": null,
            "_view_module_version": "1.2.0",
            "_model_module": "@jupyter-widgets/controls"
          }
        },
        "b4c04781a89f460f88711855725cbaab": {
          "model_module": "@jupyter-widgets/base",
          "model_name": "LayoutModel",
          "state": {
            "_view_name": "LayoutView",
            "grid_template_rows": null,
            "right": null,
            "justify_content": null,
            "_view_module": "@jupyter-widgets/base",
            "overflow": null,
            "_model_module_version": "1.2.0",
            "_view_count": null,
            "flex_flow": null,
            "width": null,
            "min_width": null,
            "border": null,
            "align_items": null,
            "bottom": null,
            "_model_module": "@jupyter-widgets/base",
            "top": null,
            "grid_column": null,
            "overflow_y": null,
            "overflow_x": null,
            "grid_auto_flow": null,
            "grid_area": null,
            "grid_template_columns": null,
            "flex": null,
            "_model_name": "LayoutModel",
            "justify_items": null,
            "grid_row": null,
            "max_height": null,
            "align_content": null,
            "visibility": null,
            "align_self": null,
            "height": null,
            "min_height": null,
            "padding": null,
            "grid_auto_rows": null,
            "grid_gap": null,
            "max_width": null,
            "order": null,
            "_view_module_version": "1.2.0",
            "grid_template_areas": null,
            "object_position": null,
            "object_fit": null,
            "grid_auto_columns": null,
            "margin": null,
            "display": null,
            "left": null
          }
        },
        "e9ce9899f7564753958b510112ed43c5": {
          "model_module": "@jupyter-widgets/controls",
          "model_name": "HBoxModel",
          "state": {
            "_view_name": "HBoxView",
            "_dom_classes": [],
            "_model_name": "HBoxModel",
            "_view_module": "@jupyter-widgets/controls",
            "_model_module_version": "1.5.0",
            "_view_count": null,
            "_view_module_version": "1.5.0",
            "box_style": "",
            "layout": "IPY_MODEL_aa42c62113de4421b87e77f16214187a",
            "_model_module": "@jupyter-widgets/controls",
            "children": [
              "IPY_MODEL_3336b244cf45465cace3d54a989a6cb2",
              "IPY_MODEL_cefed77c4f884c8ca6ebc1cf7f9261ab"
            ]
          }
        },
        "aa42c62113de4421b87e77f16214187a": {
          "model_module": "@jupyter-widgets/base",
          "model_name": "LayoutModel",
          "state": {
            "_view_name": "LayoutView",
            "grid_template_rows": null,
            "right": null,
            "justify_content": null,
            "_view_module": "@jupyter-widgets/base",
            "overflow": null,
            "_model_module_version": "1.2.0",
            "_view_count": null,
            "flex_flow": null,
            "width": null,
            "min_width": null,
            "border": null,
            "align_items": null,
            "bottom": null,
            "_model_module": "@jupyter-widgets/base",
            "top": null,
            "grid_column": null,
            "overflow_y": null,
            "overflow_x": null,
            "grid_auto_flow": null,
            "grid_area": null,
            "grid_template_columns": null,
            "flex": null,
            "_model_name": "LayoutModel",
            "justify_items": null,
            "grid_row": null,
            "max_height": null,
            "align_content": null,
            "visibility": null,
            "align_self": null,
            "height": null,
            "min_height": null,
            "padding": null,
            "grid_auto_rows": null,
            "grid_gap": null,
            "max_width": null,
            "order": null,
            "_view_module_version": "1.2.0",
            "grid_template_areas": null,
            "object_position": null,
            "object_fit": null,
            "grid_auto_columns": null,
            "margin": null,
            "display": null,
            "left": null
          }
        },
        "3336b244cf45465cace3d54a989a6cb2": {
          "model_module": "@jupyter-widgets/controls",
          "model_name": "FloatProgressModel",
          "state": {
            "_view_name": "ProgressView",
            "style": "IPY_MODEL_77dec8e425714884b0608ff06bfcbf1f",
            "_dom_classes": [],
            "description": "100%",
            "_model_name": "FloatProgressModel",
            "bar_style": "success",
            "max": 4,
            "_view_module": "@jupyter-widgets/controls",
            "_model_module_version": "1.5.0",
            "value": 4,
            "_view_count": null,
            "_view_module_version": "1.5.0",
            "orientation": "horizontal",
            "min": 0,
            "description_tooltip": null,
            "_model_module": "@jupyter-widgets/controls",
            "layout": "IPY_MODEL_4ec8e836ce5e4b2eacf8eee72f1d0c96"
          }
        },
        "cefed77c4f884c8ca6ebc1cf7f9261ab": {
          "model_module": "@jupyter-widgets/controls",
          "model_name": "HTMLModel",
          "state": {
            "_view_name": "HTMLView",
            "style": "IPY_MODEL_5a2f59e84b3e449ba44712cfc614b806",
            "_dom_classes": [],
            "description": "",
            "_model_name": "HTMLModel",
            "placeholder": "​",
            "_view_module": "@jupyter-widgets/controls",
            "_model_module_version": "1.5.0",
            "value": " 4/4 [00:06&lt;00:00,  1.69s/it]",
            "_view_count": null,
            "_view_module_version": "1.5.0",
            "description_tooltip": null,
            "_model_module": "@jupyter-widgets/controls",
            "layout": "IPY_MODEL_0cd162bebdb440a091664de05e30a924"
          }
        },
        "77dec8e425714884b0608ff06bfcbf1f": {
          "model_module": "@jupyter-widgets/controls",
          "model_name": "ProgressStyleModel",
          "state": {
            "_view_name": "StyleView",
            "_model_name": "ProgressStyleModel",
            "description_width": "initial",
            "_view_module": "@jupyter-widgets/base",
            "_model_module_version": "1.5.0",
            "_view_count": null,
            "_view_module_version": "1.2.0",
            "bar_color": null,
            "_model_module": "@jupyter-widgets/controls"
          }
        },
        "4ec8e836ce5e4b2eacf8eee72f1d0c96": {
          "model_module": "@jupyter-widgets/base",
          "model_name": "LayoutModel",
          "state": {
            "_view_name": "LayoutView",
            "grid_template_rows": null,
            "right": null,
            "justify_content": null,
            "_view_module": "@jupyter-widgets/base",
            "overflow": null,
            "_model_module_version": "1.2.0",
            "_view_count": null,
            "flex_flow": null,
            "width": null,
            "min_width": null,
            "border": null,
            "align_items": null,
            "bottom": null,
            "_model_module": "@jupyter-widgets/base",
            "top": null,
            "grid_column": null,
            "overflow_y": null,
            "overflow_x": null,
            "grid_auto_flow": null,
            "grid_area": null,
            "grid_template_columns": null,
            "flex": null,
            "_model_name": "LayoutModel",
            "justify_items": null,
            "grid_row": null,
            "max_height": null,
            "align_content": null,
            "visibility": null,
            "align_self": null,
            "height": null,
            "min_height": null,
            "padding": null,
            "grid_auto_rows": null,
            "grid_gap": null,
            "max_width": null,
            "order": null,
            "_view_module_version": "1.2.0",
            "grid_template_areas": null,
            "object_position": null,
            "object_fit": null,
            "grid_auto_columns": null,
            "margin": null,
            "display": null,
            "left": null
          }
        },
        "5a2f59e84b3e449ba44712cfc614b806": {
          "model_module": "@jupyter-widgets/controls",
          "model_name": "DescriptionStyleModel",
          "state": {
            "_view_name": "StyleView",
            "_model_name": "DescriptionStyleModel",
            "description_width": "",
            "_view_module": "@jupyter-widgets/base",
            "_model_module_version": "1.5.0",
            "_view_count": null,
            "_view_module_version": "1.2.0",
            "_model_module": "@jupyter-widgets/controls"
          }
        },
        "0cd162bebdb440a091664de05e30a924": {
          "model_module": "@jupyter-widgets/base",
          "model_name": "LayoutModel",
          "state": {
            "_view_name": "LayoutView",
            "grid_template_rows": null,
            "right": null,
            "justify_content": null,
            "_view_module": "@jupyter-widgets/base",
            "overflow": null,
            "_model_module_version": "1.2.0",
            "_view_count": null,
            "flex_flow": null,
            "width": null,
            "min_width": null,
            "border": null,
            "align_items": null,
            "bottom": null,
            "_model_module": "@jupyter-widgets/base",
            "top": null,
            "grid_column": null,
            "overflow_y": null,
            "overflow_x": null,
            "grid_auto_flow": null,
            "grid_area": null,
            "grid_template_columns": null,
            "flex": null,
            "_model_name": "LayoutModel",
            "justify_items": null,
            "grid_row": null,
            "max_height": null,
            "align_content": null,
            "visibility": null,
            "align_self": null,
            "height": null,
            "min_height": null,
            "padding": null,
            "grid_auto_rows": null,
            "grid_gap": null,
            "max_width": null,
            "order": null,
            "_view_module_version": "1.2.0",
            "grid_template_areas": null,
            "object_position": null,
            "object_fit": null,
            "grid_auto_columns": null,
            "margin": null,
            "display": null,
            "left": null
          }
        },
        "324c61e8fae4426eb6e4d18ec8497c16": {
          "model_module": "@jupyter-widgets/controls",
          "model_name": "HBoxModel",
          "state": {
            "_view_name": "HBoxView",
            "_dom_classes": [],
            "_model_name": "HBoxModel",
            "_view_module": "@jupyter-widgets/controls",
            "_model_module_version": "1.5.0",
            "_view_count": null,
            "_view_module_version": "1.5.0",
            "box_style": "",
            "layout": "IPY_MODEL_38fd2c0789d34686836603a274714b84",
            "_model_module": "@jupyter-widgets/controls",
            "children": [
              "IPY_MODEL_e67dcfdfc4624c4eb813199d79ea8aec",
              "IPY_MODEL_0ccd521aef4d49f88bfba51096b7919e"
            ]
          }
        },
        "38fd2c0789d34686836603a274714b84": {
          "model_module": "@jupyter-widgets/base",
          "model_name": "LayoutModel",
          "state": {
            "_view_name": "LayoutView",
            "grid_template_rows": null,
            "right": null,
            "justify_content": null,
            "_view_module": "@jupyter-widgets/base",
            "overflow": null,
            "_model_module_version": "1.2.0",
            "_view_count": null,
            "flex_flow": null,
            "width": null,
            "min_width": null,
            "border": null,
            "align_items": null,
            "bottom": null,
            "_model_module": "@jupyter-widgets/base",
            "top": null,
            "grid_column": null,
            "overflow_y": null,
            "overflow_x": null,
            "grid_auto_flow": null,
            "grid_area": null,
            "grid_template_columns": null,
            "flex": null,
            "_model_name": "LayoutModel",
            "justify_items": null,
            "grid_row": null,
            "max_height": null,
            "align_content": null,
            "visibility": null,
            "align_self": null,
            "height": null,
            "min_height": null,
            "padding": null,
            "grid_auto_rows": null,
            "grid_gap": null,
            "max_width": null,
            "order": null,
            "_view_module_version": "1.2.0",
            "grid_template_areas": null,
            "object_position": null,
            "object_fit": null,
            "grid_auto_columns": null,
            "margin": null,
            "display": null,
            "left": null
          }
        },
        "e67dcfdfc4624c4eb813199d79ea8aec": {
          "model_module": "@jupyter-widgets/controls",
          "model_name": "FloatProgressModel",
          "state": {
            "_view_name": "ProgressView",
            "style": "IPY_MODEL_b414ad491ddd4e4a82f0804dc188ddf0",
            "_dom_classes": [],
            "description": "100%",
            "_model_name": "FloatProgressModel",
            "bar_style": "success",
            "max": 4,
            "_view_module": "@jupyter-widgets/controls",
            "_model_module_version": "1.5.0",
            "value": 4,
            "_view_count": null,
            "_view_module_version": "1.5.0",
            "orientation": "horizontal",
            "min": 0,
            "description_tooltip": null,
            "_model_module": "@jupyter-widgets/controls",
            "layout": "IPY_MODEL_d4d89ba13bea43be9bebdac35889f905"
          }
        },
        "0ccd521aef4d49f88bfba51096b7919e": {
          "model_module": "@jupyter-widgets/controls",
          "model_name": "HTMLModel",
          "state": {
            "_view_name": "HTMLView",
            "style": "IPY_MODEL_2772bcc3993049ef8875a07b770c0326",
            "_dom_classes": [],
            "description": "",
            "_model_name": "HTMLModel",
            "placeholder": "​",
            "_view_module": "@jupyter-widgets/controls",
            "_model_module_version": "1.5.0",
            "value": " 4/4 [00:18&lt;00:00,  4.69s/it]",
            "_view_count": null,
            "_view_module_version": "1.5.0",
            "description_tooltip": null,
            "_model_module": "@jupyter-widgets/controls",
            "layout": "IPY_MODEL_9cabdbc0350e46eebe148f3f0070a25b"
          }
        },
        "b414ad491ddd4e4a82f0804dc188ddf0": {
          "model_module": "@jupyter-widgets/controls",
          "model_name": "ProgressStyleModel",
          "state": {
            "_view_name": "StyleView",
            "_model_name": "ProgressStyleModel",
            "description_width": "initial",
            "_view_module": "@jupyter-widgets/base",
            "_model_module_version": "1.5.0",
            "_view_count": null,
            "_view_module_version": "1.2.0",
            "bar_color": null,
            "_model_module": "@jupyter-widgets/controls"
          }
        },
        "d4d89ba13bea43be9bebdac35889f905": {
          "model_module": "@jupyter-widgets/base",
          "model_name": "LayoutModel",
          "state": {
            "_view_name": "LayoutView",
            "grid_template_rows": null,
            "right": null,
            "justify_content": null,
            "_view_module": "@jupyter-widgets/base",
            "overflow": null,
            "_model_module_version": "1.2.0",
            "_view_count": null,
            "flex_flow": null,
            "width": null,
            "min_width": null,
            "border": null,
            "align_items": null,
            "bottom": null,
            "_model_module": "@jupyter-widgets/base",
            "top": null,
            "grid_column": null,
            "overflow_y": null,
            "overflow_x": null,
            "grid_auto_flow": null,
            "grid_area": null,
            "grid_template_columns": null,
            "flex": null,
            "_model_name": "LayoutModel",
            "justify_items": null,
            "grid_row": null,
            "max_height": null,
            "align_content": null,
            "visibility": null,
            "align_self": null,
            "height": null,
            "min_height": null,
            "padding": null,
            "grid_auto_rows": null,
            "grid_gap": null,
            "max_width": null,
            "order": null,
            "_view_module_version": "1.2.0",
            "grid_template_areas": null,
            "object_position": null,
            "object_fit": null,
            "grid_auto_columns": null,
            "margin": null,
            "display": null,
            "left": null
          }
        },
        "2772bcc3993049ef8875a07b770c0326": {
          "model_module": "@jupyter-widgets/controls",
          "model_name": "DescriptionStyleModel",
          "state": {
            "_view_name": "StyleView",
            "_model_name": "DescriptionStyleModel",
            "description_width": "",
            "_view_module": "@jupyter-widgets/base",
            "_model_module_version": "1.5.0",
            "_view_count": null,
            "_view_module_version": "1.2.0",
            "_model_module": "@jupyter-widgets/controls"
          }
        },
        "9cabdbc0350e46eebe148f3f0070a25b": {
          "model_module": "@jupyter-widgets/base",
          "model_name": "LayoutModel",
          "state": {
            "_view_name": "LayoutView",
            "grid_template_rows": null,
            "right": null,
            "justify_content": null,
            "_view_module": "@jupyter-widgets/base",
            "overflow": null,
            "_model_module_version": "1.2.0",
            "_view_count": null,
            "flex_flow": null,
            "width": null,
            "min_width": null,
            "border": null,
            "align_items": null,
            "bottom": null,
            "_model_module": "@jupyter-widgets/base",
            "top": null,
            "grid_column": null,
            "overflow_y": null,
            "overflow_x": null,
            "grid_auto_flow": null,
            "grid_area": null,
            "grid_template_columns": null,
            "flex": null,
            "_model_name": "LayoutModel",
            "justify_items": null,
            "grid_row": null,
            "max_height": null,
            "align_content": null,
            "visibility": null,
            "align_self": null,
            "height": null,
            "min_height": null,
            "padding": null,
            "grid_auto_rows": null,
            "grid_gap": null,
            "max_width": null,
            "order": null,
            "_view_module_version": "1.2.0",
            "grid_template_areas": null,
            "object_position": null,
            "object_fit": null,
            "grid_auto_columns": null,
            "margin": null,
            "display": null,
            "left": null
          }
        },
        "92e0538ac521432bbf479cafea226a36": {
          "model_module": "@jupyter-widgets/controls",
          "model_name": "HBoxModel",
          "state": {
            "_view_name": "HBoxView",
            "_dom_classes": [],
            "_model_name": "HBoxModel",
            "_view_module": "@jupyter-widgets/controls",
            "_model_module_version": "1.5.0",
            "_view_count": null,
            "_view_module_version": "1.5.0",
            "box_style": "",
            "layout": "IPY_MODEL_ade5f72d701b4b9383138821b202b141",
            "_model_module": "@jupyter-widgets/controls",
            "children": [
              "IPY_MODEL_0034cc3a05804edca50537e6ee8da600",
              "IPY_MODEL_b17c1ffc934d49c8aef798a8a0e2089e"
            ]
          }
        },
        "ade5f72d701b4b9383138821b202b141": {
          "model_module": "@jupyter-widgets/base",
          "model_name": "LayoutModel",
          "state": {
            "_view_name": "LayoutView",
            "grid_template_rows": null,
            "right": null,
            "justify_content": null,
            "_view_module": "@jupyter-widgets/base",
            "overflow": null,
            "_model_module_version": "1.2.0",
            "_view_count": null,
            "flex_flow": null,
            "width": null,
            "min_width": null,
            "border": null,
            "align_items": null,
            "bottom": null,
            "_model_module": "@jupyter-widgets/base",
            "top": null,
            "grid_column": null,
            "overflow_y": null,
            "overflow_x": null,
            "grid_auto_flow": null,
            "grid_area": null,
            "grid_template_columns": null,
            "flex": null,
            "_model_name": "LayoutModel",
            "justify_items": null,
            "grid_row": null,
            "max_height": null,
            "align_content": null,
            "visibility": null,
            "align_self": null,
            "height": null,
            "min_height": null,
            "padding": null,
            "grid_auto_rows": null,
            "grid_gap": null,
            "max_width": null,
            "order": null,
            "_view_module_version": "1.2.0",
            "grid_template_areas": null,
            "object_position": null,
            "object_fit": null,
            "grid_auto_columns": null,
            "margin": null,
            "display": null,
            "left": null
          }
        },
        "0034cc3a05804edca50537e6ee8da600": {
          "model_module": "@jupyter-widgets/controls",
          "model_name": "FloatProgressModel",
          "state": {
            "_view_name": "ProgressView",
            "style": "IPY_MODEL_71e61eb5d7334cf28180388f20d9ecb3",
            "_dom_classes": [],
            "description": "100%",
            "_model_name": "FloatProgressModel",
            "bar_style": "success",
            "max": 4,
            "_view_module": "@jupyter-widgets/controls",
            "_model_module_version": "1.5.0",
            "value": 4,
            "_view_count": null,
            "_view_module_version": "1.5.0",
            "orientation": "horizontal",
            "min": 0,
            "description_tooltip": null,
            "_model_module": "@jupyter-widgets/controls",
            "layout": "IPY_MODEL_f19a96eb2e8a434fa2917d888149a227"
          }
        },
        "b17c1ffc934d49c8aef798a8a0e2089e": {
          "model_module": "@jupyter-widgets/controls",
          "model_name": "HTMLModel",
          "state": {
            "_view_name": "HTMLView",
            "style": "IPY_MODEL_186d3591c5f744e9a32a80d0b04f9977",
            "_dom_classes": [],
            "description": "",
            "_model_name": "HTMLModel",
            "placeholder": "​",
            "_view_module": "@jupyter-widgets/controls",
            "_model_module_version": "1.5.0",
            "value": " 4/4 [00:20&lt;00:00,  5.09s/it]",
            "_view_count": null,
            "_view_module_version": "1.5.0",
            "description_tooltip": null,
            "_model_module": "@jupyter-widgets/controls",
            "layout": "IPY_MODEL_0115f219d3874b3096fa0e25a2360b44"
          }
        },
        "71e61eb5d7334cf28180388f20d9ecb3": {
          "model_module": "@jupyter-widgets/controls",
          "model_name": "ProgressStyleModel",
          "state": {
            "_view_name": "StyleView",
            "_model_name": "ProgressStyleModel",
            "description_width": "initial",
            "_view_module": "@jupyter-widgets/base",
            "_model_module_version": "1.5.0",
            "_view_count": null,
            "_view_module_version": "1.2.0",
            "bar_color": null,
            "_model_module": "@jupyter-widgets/controls"
          }
        },
        "f19a96eb2e8a434fa2917d888149a227": {
          "model_module": "@jupyter-widgets/base",
          "model_name": "LayoutModel",
          "state": {
            "_view_name": "LayoutView",
            "grid_template_rows": null,
            "right": null,
            "justify_content": null,
            "_view_module": "@jupyter-widgets/base",
            "overflow": null,
            "_model_module_version": "1.2.0",
            "_view_count": null,
            "flex_flow": null,
            "width": null,
            "min_width": null,
            "border": null,
            "align_items": null,
            "bottom": null,
            "_model_module": "@jupyter-widgets/base",
            "top": null,
            "grid_column": null,
            "overflow_y": null,
            "overflow_x": null,
            "grid_auto_flow": null,
            "grid_area": null,
            "grid_template_columns": null,
            "flex": null,
            "_model_name": "LayoutModel",
            "justify_items": null,
            "grid_row": null,
            "max_height": null,
            "align_content": null,
            "visibility": null,
            "align_self": null,
            "height": null,
            "min_height": null,
            "padding": null,
            "grid_auto_rows": null,
            "grid_gap": null,
            "max_width": null,
            "order": null,
            "_view_module_version": "1.2.0",
            "grid_template_areas": null,
            "object_position": null,
            "object_fit": null,
            "grid_auto_columns": null,
            "margin": null,
            "display": null,
            "left": null
          }
        },
        "186d3591c5f744e9a32a80d0b04f9977": {
          "model_module": "@jupyter-widgets/controls",
          "model_name": "DescriptionStyleModel",
          "state": {
            "_view_name": "StyleView",
            "_model_name": "DescriptionStyleModel",
            "description_width": "",
            "_view_module": "@jupyter-widgets/base",
            "_model_module_version": "1.5.0",
            "_view_count": null,
            "_view_module_version": "1.2.0",
            "_model_module": "@jupyter-widgets/controls"
          }
        },
        "0115f219d3874b3096fa0e25a2360b44": {
          "model_module": "@jupyter-widgets/base",
          "model_name": "LayoutModel",
          "state": {
            "_view_name": "LayoutView",
            "grid_template_rows": null,
            "right": null,
            "justify_content": null,
            "_view_module": "@jupyter-widgets/base",
            "overflow": null,
            "_model_module_version": "1.2.0",
            "_view_count": null,
            "flex_flow": null,
            "width": null,
            "min_width": null,
            "border": null,
            "align_items": null,
            "bottom": null,
            "_model_module": "@jupyter-widgets/base",
            "top": null,
            "grid_column": null,
            "overflow_y": null,
            "overflow_x": null,
            "grid_auto_flow": null,
            "grid_area": null,
            "grid_template_columns": null,
            "flex": null,
            "_model_name": "LayoutModel",
            "justify_items": null,
            "grid_row": null,
            "max_height": null,
            "align_content": null,
            "visibility": null,
            "align_self": null,
            "height": null,
            "min_height": null,
            "padding": null,
            "grid_auto_rows": null,
            "grid_gap": null,
            "max_width": null,
            "order": null,
            "_view_module_version": "1.2.0",
            "grid_template_areas": null,
            "object_position": null,
            "object_fit": null,
            "grid_auto_columns": null,
            "margin": null,
            "display": null,
            "left": null
          }
        },
        "33463623ee0f449a853029f8c9511a75": {
          "model_module": "@jupyter-widgets/controls",
          "model_name": "HBoxModel",
          "state": {
            "_view_name": "HBoxView",
            "_dom_classes": [],
            "_model_name": "HBoxModel",
            "_view_module": "@jupyter-widgets/controls",
            "_model_module_version": "1.5.0",
            "_view_count": null,
            "_view_module_version": "1.5.0",
            "box_style": "",
            "layout": "IPY_MODEL_361283e7b25b4cdaa68c4f22a35fd17b",
            "_model_module": "@jupyter-widgets/controls",
            "children": [
              "IPY_MODEL_cfa8f213bc024412ba34c35cdd1ef87c",
              "IPY_MODEL_d4a21dd529034f6e851f6d2d44c31642"
            ]
          }
        },
        "361283e7b25b4cdaa68c4f22a35fd17b": {
          "model_module": "@jupyter-widgets/base",
          "model_name": "LayoutModel",
          "state": {
            "_view_name": "LayoutView",
            "grid_template_rows": null,
            "right": null,
            "justify_content": null,
            "_view_module": "@jupyter-widgets/base",
            "overflow": null,
            "_model_module_version": "1.2.0",
            "_view_count": null,
            "flex_flow": null,
            "width": null,
            "min_width": null,
            "border": null,
            "align_items": null,
            "bottom": null,
            "_model_module": "@jupyter-widgets/base",
            "top": null,
            "grid_column": null,
            "overflow_y": null,
            "overflow_x": null,
            "grid_auto_flow": null,
            "grid_area": null,
            "grid_template_columns": null,
            "flex": null,
            "_model_name": "LayoutModel",
            "justify_items": null,
            "grid_row": null,
            "max_height": null,
            "align_content": null,
            "visibility": null,
            "align_self": null,
            "height": null,
            "min_height": null,
            "padding": null,
            "grid_auto_rows": null,
            "grid_gap": null,
            "max_width": null,
            "order": null,
            "_view_module_version": "1.2.0",
            "grid_template_areas": null,
            "object_position": null,
            "object_fit": null,
            "grid_auto_columns": null,
            "margin": null,
            "display": null,
            "left": null
          }
        },
        "cfa8f213bc024412ba34c35cdd1ef87c": {
          "model_module": "@jupyter-widgets/controls",
          "model_name": "FloatProgressModel",
          "state": {
            "_view_name": "ProgressView",
            "style": "IPY_MODEL_3e77e74260374fc48b58d7a58baed295",
            "_dom_classes": [],
            "description": "100%",
            "_model_name": "FloatProgressModel",
            "bar_style": "success",
            "max": 4,
            "_view_module": "@jupyter-widgets/controls",
            "_model_module_version": "1.5.0",
            "value": 4,
            "_view_count": null,
            "_view_module_version": "1.5.0",
            "orientation": "horizontal",
            "min": 0,
            "description_tooltip": null,
            "_model_module": "@jupyter-widgets/controls",
            "layout": "IPY_MODEL_b16d55091c0d43f980e74571e74b1410"
          }
        },
        "d4a21dd529034f6e851f6d2d44c31642": {
          "model_module": "@jupyter-widgets/controls",
          "model_name": "HTMLModel",
          "state": {
            "_view_name": "HTMLView",
            "style": "IPY_MODEL_d6568dd202684aecab507f6d365c91c7",
            "_dom_classes": [],
            "description": "",
            "_model_name": "HTMLModel",
            "placeholder": "​",
            "_view_module": "@jupyter-widgets/controls",
            "_model_module_version": "1.5.0",
            "value": " 4/4 [00:29&lt;00:00,  7.43s/it]",
            "_view_count": null,
            "_view_module_version": "1.5.0",
            "description_tooltip": null,
            "_model_module": "@jupyter-widgets/controls",
            "layout": "IPY_MODEL_26ded531cb3b4deebb184e30790c2981"
          }
        },
        "3e77e74260374fc48b58d7a58baed295": {
          "model_module": "@jupyter-widgets/controls",
          "model_name": "ProgressStyleModel",
          "state": {
            "_view_name": "StyleView",
            "_model_name": "ProgressStyleModel",
            "description_width": "initial",
            "_view_module": "@jupyter-widgets/base",
            "_model_module_version": "1.5.0",
            "_view_count": null,
            "_view_module_version": "1.2.0",
            "bar_color": null,
            "_model_module": "@jupyter-widgets/controls"
          }
        },
        "b16d55091c0d43f980e74571e74b1410": {
          "model_module": "@jupyter-widgets/base",
          "model_name": "LayoutModel",
          "state": {
            "_view_name": "LayoutView",
            "grid_template_rows": null,
            "right": null,
            "justify_content": null,
            "_view_module": "@jupyter-widgets/base",
            "overflow": null,
            "_model_module_version": "1.2.0",
            "_view_count": null,
            "flex_flow": null,
            "width": null,
            "min_width": null,
            "border": null,
            "align_items": null,
            "bottom": null,
            "_model_module": "@jupyter-widgets/base",
            "top": null,
            "grid_column": null,
            "overflow_y": null,
            "overflow_x": null,
            "grid_auto_flow": null,
            "grid_area": null,
            "grid_template_columns": null,
            "flex": null,
            "_model_name": "LayoutModel",
            "justify_items": null,
            "grid_row": null,
            "max_height": null,
            "align_content": null,
            "visibility": null,
            "align_self": null,
            "height": null,
            "min_height": null,
            "padding": null,
            "grid_auto_rows": null,
            "grid_gap": null,
            "max_width": null,
            "order": null,
            "_view_module_version": "1.2.0",
            "grid_template_areas": null,
            "object_position": null,
            "object_fit": null,
            "grid_auto_columns": null,
            "margin": null,
            "display": null,
            "left": null
          }
        },
        "d6568dd202684aecab507f6d365c91c7": {
          "model_module": "@jupyter-widgets/controls",
          "model_name": "DescriptionStyleModel",
          "state": {
            "_view_name": "StyleView",
            "_model_name": "DescriptionStyleModel",
            "description_width": "",
            "_view_module": "@jupyter-widgets/base",
            "_model_module_version": "1.5.0",
            "_view_count": null,
            "_view_module_version": "1.2.0",
            "_model_module": "@jupyter-widgets/controls"
          }
        },
        "26ded531cb3b4deebb184e30790c2981": {
          "model_module": "@jupyter-widgets/base",
          "model_name": "LayoutModel",
          "state": {
            "_view_name": "LayoutView",
            "grid_template_rows": null,
            "right": null,
            "justify_content": null,
            "_view_module": "@jupyter-widgets/base",
            "overflow": null,
            "_model_module_version": "1.2.0",
            "_view_count": null,
            "flex_flow": null,
            "width": null,
            "min_width": null,
            "border": null,
            "align_items": null,
            "bottom": null,
            "_model_module": "@jupyter-widgets/base",
            "top": null,
            "grid_column": null,
            "overflow_y": null,
            "overflow_x": null,
            "grid_auto_flow": null,
            "grid_area": null,
            "grid_template_columns": null,
            "flex": null,
            "_model_name": "LayoutModel",
            "justify_items": null,
            "grid_row": null,
            "max_height": null,
            "align_content": null,
            "visibility": null,
            "align_self": null,
            "height": null,
            "min_height": null,
            "padding": null,
            "grid_auto_rows": null,
            "grid_gap": null,
            "max_width": null,
            "order": null,
            "_view_module_version": "1.2.0",
            "grid_template_areas": null,
            "object_position": null,
            "object_fit": null,
            "grid_auto_columns": null,
            "margin": null,
            "display": null,
            "left": null
          }
        },
        "2db659d5524c4b30b8323f3752ecab5d": {
          "model_module": "@jupyter-widgets/controls",
          "model_name": "HBoxModel",
          "state": {
            "_view_name": "HBoxView",
            "_dom_classes": [],
            "_model_name": "HBoxModel",
            "_view_module": "@jupyter-widgets/controls",
            "_model_module_version": "1.5.0",
            "_view_count": null,
            "_view_module_version": "1.5.0",
            "box_style": "",
            "layout": "IPY_MODEL_22d5bbdca9d94c19bf0ba4ee6649803d",
            "_model_module": "@jupyter-widgets/controls",
            "children": [
              "IPY_MODEL_53aa06cb91714b55a943b68ea5bf8d47",
              "IPY_MODEL_fe739fc2a8c24d7f8d502c2cee2dcfd4"
            ]
          }
        },
        "22d5bbdca9d94c19bf0ba4ee6649803d": {
          "model_module": "@jupyter-widgets/base",
          "model_name": "LayoutModel",
          "state": {
            "_view_name": "LayoutView",
            "grid_template_rows": null,
            "right": null,
            "justify_content": null,
            "_view_module": "@jupyter-widgets/base",
            "overflow": null,
            "_model_module_version": "1.2.0",
            "_view_count": null,
            "flex_flow": null,
            "width": null,
            "min_width": null,
            "border": null,
            "align_items": null,
            "bottom": null,
            "_model_module": "@jupyter-widgets/base",
            "top": null,
            "grid_column": null,
            "overflow_y": null,
            "overflow_x": null,
            "grid_auto_flow": null,
            "grid_area": null,
            "grid_template_columns": null,
            "flex": null,
            "_model_name": "LayoutModel",
            "justify_items": null,
            "grid_row": null,
            "max_height": null,
            "align_content": null,
            "visibility": null,
            "align_self": null,
            "height": null,
            "min_height": null,
            "padding": null,
            "grid_auto_rows": null,
            "grid_gap": null,
            "max_width": null,
            "order": null,
            "_view_module_version": "1.2.0",
            "grid_template_areas": null,
            "object_position": null,
            "object_fit": null,
            "grid_auto_columns": null,
            "margin": null,
            "display": null,
            "left": null
          }
        },
        "53aa06cb91714b55a943b68ea5bf8d47": {
          "model_module": "@jupyter-widgets/controls",
          "model_name": "FloatProgressModel",
          "state": {
            "_view_name": "ProgressView",
            "style": "IPY_MODEL_085af966a2a94844b460f726788b47be",
            "_dom_classes": [],
            "description": "100%",
            "_model_name": "FloatProgressModel",
            "bar_style": "success",
            "max": 4,
            "_view_module": "@jupyter-widgets/controls",
            "_model_module_version": "1.5.0",
            "value": 4,
            "_view_count": null,
            "_view_module_version": "1.5.0",
            "orientation": "horizontal",
            "min": 0,
            "description_tooltip": null,
            "_model_module": "@jupyter-widgets/controls",
            "layout": "IPY_MODEL_0cbf1592ccbb43898d37b19d5647d3cb"
          }
        },
        "fe739fc2a8c24d7f8d502c2cee2dcfd4": {
          "model_module": "@jupyter-widgets/controls",
          "model_name": "HTMLModel",
          "state": {
            "_view_name": "HTMLView",
            "style": "IPY_MODEL_0a0a5ced23da4d688cde7f1f0b1a412a",
            "_dom_classes": [],
            "description": "",
            "_model_name": "HTMLModel",
            "placeholder": "​",
            "_view_module": "@jupyter-widgets/controls",
            "_model_module_version": "1.5.0",
            "value": " 4/4 [00:06&lt;00:00,  1.51s/it]",
            "_view_count": null,
            "_view_module_version": "1.5.0",
            "description_tooltip": null,
            "_model_module": "@jupyter-widgets/controls",
            "layout": "IPY_MODEL_c5969783951c438b9b79fb4262bcd7c1"
          }
        },
        "085af966a2a94844b460f726788b47be": {
          "model_module": "@jupyter-widgets/controls",
          "model_name": "ProgressStyleModel",
          "state": {
            "_view_name": "StyleView",
            "_model_name": "ProgressStyleModel",
            "description_width": "initial",
            "_view_module": "@jupyter-widgets/base",
            "_model_module_version": "1.5.0",
            "_view_count": null,
            "_view_module_version": "1.2.0",
            "bar_color": null,
            "_model_module": "@jupyter-widgets/controls"
          }
        },
        "0cbf1592ccbb43898d37b19d5647d3cb": {
          "model_module": "@jupyter-widgets/base",
          "model_name": "LayoutModel",
          "state": {
            "_view_name": "LayoutView",
            "grid_template_rows": null,
            "right": null,
            "justify_content": null,
            "_view_module": "@jupyter-widgets/base",
            "overflow": null,
            "_model_module_version": "1.2.0",
            "_view_count": null,
            "flex_flow": null,
            "width": null,
            "min_width": null,
            "border": null,
            "align_items": null,
            "bottom": null,
            "_model_module": "@jupyter-widgets/base",
            "top": null,
            "grid_column": null,
            "overflow_y": null,
            "overflow_x": null,
            "grid_auto_flow": null,
            "grid_area": null,
            "grid_template_columns": null,
            "flex": null,
            "_model_name": "LayoutModel",
            "justify_items": null,
            "grid_row": null,
            "max_height": null,
            "align_content": null,
            "visibility": null,
            "align_self": null,
            "height": null,
            "min_height": null,
            "padding": null,
            "grid_auto_rows": null,
            "grid_gap": null,
            "max_width": null,
            "order": null,
            "_view_module_version": "1.2.0",
            "grid_template_areas": null,
            "object_position": null,
            "object_fit": null,
            "grid_auto_columns": null,
            "margin": null,
            "display": null,
            "left": null
          }
        },
        "0a0a5ced23da4d688cde7f1f0b1a412a": {
          "model_module": "@jupyter-widgets/controls",
          "model_name": "DescriptionStyleModel",
          "state": {
            "_view_name": "StyleView",
            "_model_name": "DescriptionStyleModel",
            "description_width": "",
            "_view_module": "@jupyter-widgets/base",
            "_model_module_version": "1.5.0",
            "_view_count": null,
            "_view_module_version": "1.2.0",
            "_model_module": "@jupyter-widgets/controls"
          }
        },
        "c5969783951c438b9b79fb4262bcd7c1": {
          "model_module": "@jupyter-widgets/base",
          "model_name": "LayoutModel",
          "state": {
            "_view_name": "LayoutView",
            "grid_template_rows": null,
            "right": null,
            "justify_content": null,
            "_view_module": "@jupyter-widgets/base",
            "overflow": null,
            "_model_module_version": "1.2.0",
            "_view_count": null,
            "flex_flow": null,
            "width": null,
            "min_width": null,
            "border": null,
            "align_items": null,
            "bottom": null,
            "_model_module": "@jupyter-widgets/base",
            "top": null,
            "grid_column": null,
            "overflow_y": null,
            "overflow_x": null,
            "grid_auto_flow": null,
            "grid_area": null,
            "grid_template_columns": null,
            "flex": null,
            "_model_name": "LayoutModel",
            "justify_items": null,
            "grid_row": null,
            "max_height": null,
            "align_content": null,
            "visibility": null,
            "align_self": null,
            "height": null,
            "min_height": null,
            "padding": null,
            "grid_auto_rows": null,
            "grid_gap": null,
            "max_width": null,
            "order": null,
            "_view_module_version": "1.2.0",
            "grid_template_areas": null,
            "object_position": null,
            "object_fit": null,
            "grid_auto_columns": null,
            "margin": null,
            "display": null,
            "left": null
          }
        },
        "0736eeecc87b44e3b78ef70c1a4fbdf3": {
          "model_module": "@jupyter-widgets/controls",
          "model_name": "HBoxModel",
          "state": {
            "_view_name": "HBoxView",
            "_dom_classes": [],
            "_model_name": "HBoxModel",
            "_view_module": "@jupyter-widgets/controls",
            "_model_module_version": "1.5.0",
            "_view_count": null,
            "_view_module_version": "1.5.0",
            "box_style": "",
            "layout": "IPY_MODEL_b550e96eb140416f9333bad3c55834e2",
            "_model_module": "@jupyter-widgets/controls",
            "children": [
              "IPY_MODEL_432f99e3104249e4b8bdcd470801a214",
              "IPY_MODEL_4fe4568aa75347c9811f21eb947b1e81"
            ]
          }
        },
        "b550e96eb140416f9333bad3c55834e2": {
          "model_module": "@jupyter-widgets/base",
          "model_name": "LayoutModel",
          "state": {
            "_view_name": "LayoutView",
            "grid_template_rows": null,
            "right": null,
            "justify_content": null,
            "_view_module": "@jupyter-widgets/base",
            "overflow": null,
            "_model_module_version": "1.2.0",
            "_view_count": null,
            "flex_flow": null,
            "width": null,
            "min_width": null,
            "border": null,
            "align_items": null,
            "bottom": null,
            "_model_module": "@jupyter-widgets/base",
            "top": null,
            "grid_column": null,
            "overflow_y": null,
            "overflow_x": null,
            "grid_auto_flow": null,
            "grid_area": null,
            "grid_template_columns": null,
            "flex": null,
            "_model_name": "LayoutModel",
            "justify_items": null,
            "grid_row": null,
            "max_height": null,
            "align_content": null,
            "visibility": null,
            "align_self": null,
            "height": null,
            "min_height": null,
            "padding": null,
            "grid_auto_rows": null,
            "grid_gap": null,
            "max_width": null,
            "order": null,
            "_view_module_version": "1.2.0",
            "grid_template_areas": null,
            "object_position": null,
            "object_fit": null,
            "grid_auto_columns": null,
            "margin": null,
            "display": null,
            "left": null
          }
        },
        "432f99e3104249e4b8bdcd470801a214": {
          "model_module": "@jupyter-widgets/controls",
          "model_name": "FloatProgressModel",
          "state": {
            "_view_name": "ProgressView",
            "style": "IPY_MODEL_2512c381e530415eae85d0676d8b9b54",
            "_dom_classes": [],
            "description": "100%",
            "_model_name": "FloatProgressModel",
            "bar_style": "success",
            "max": 4,
            "_view_module": "@jupyter-widgets/controls",
            "_model_module_version": "1.5.0",
            "value": 4,
            "_view_count": null,
            "_view_module_version": "1.5.0",
            "orientation": "horizontal",
            "min": 0,
            "description_tooltip": null,
            "_model_module": "@jupyter-widgets/controls",
            "layout": "IPY_MODEL_8fc1a60a899944b59d46e5be1ba2b3eb"
          }
        },
        "4fe4568aa75347c9811f21eb947b1e81": {
          "model_module": "@jupyter-widgets/controls",
          "model_name": "HTMLModel",
          "state": {
            "_view_name": "HTMLView",
            "style": "IPY_MODEL_1fd3f423f3cd4793abf747a1f7ec1f27",
            "_dom_classes": [],
            "description": "",
            "_model_name": "HTMLModel",
            "placeholder": "​",
            "_view_module": "@jupyter-widgets/controls",
            "_model_module_version": "1.5.0",
            "value": " 4/4 [00:06&lt;00:00,  1.71s/it]",
            "_view_count": null,
            "_view_module_version": "1.5.0",
            "description_tooltip": null,
            "_model_module": "@jupyter-widgets/controls",
            "layout": "IPY_MODEL_215034be5aa44c318ebadb2cdef82f0d"
          }
        },
        "2512c381e530415eae85d0676d8b9b54": {
          "model_module": "@jupyter-widgets/controls",
          "model_name": "ProgressStyleModel",
          "state": {
            "_view_name": "StyleView",
            "_model_name": "ProgressStyleModel",
            "description_width": "initial",
            "_view_module": "@jupyter-widgets/base",
            "_model_module_version": "1.5.0",
            "_view_count": null,
            "_view_module_version": "1.2.0",
            "bar_color": null,
            "_model_module": "@jupyter-widgets/controls"
          }
        },
        "8fc1a60a899944b59d46e5be1ba2b3eb": {
          "model_module": "@jupyter-widgets/base",
          "model_name": "LayoutModel",
          "state": {
            "_view_name": "LayoutView",
            "grid_template_rows": null,
            "right": null,
            "justify_content": null,
            "_view_module": "@jupyter-widgets/base",
            "overflow": null,
            "_model_module_version": "1.2.0",
            "_view_count": null,
            "flex_flow": null,
            "width": null,
            "min_width": null,
            "border": null,
            "align_items": null,
            "bottom": null,
            "_model_module": "@jupyter-widgets/base",
            "top": null,
            "grid_column": null,
            "overflow_y": null,
            "overflow_x": null,
            "grid_auto_flow": null,
            "grid_area": null,
            "grid_template_columns": null,
            "flex": null,
            "_model_name": "LayoutModel",
            "justify_items": null,
            "grid_row": null,
            "max_height": null,
            "align_content": null,
            "visibility": null,
            "align_self": null,
            "height": null,
            "min_height": null,
            "padding": null,
            "grid_auto_rows": null,
            "grid_gap": null,
            "max_width": null,
            "order": null,
            "_view_module_version": "1.2.0",
            "grid_template_areas": null,
            "object_position": null,
            "object_fit": null,
            "grid_auto_columns": null,
            "margin": null,
            "display": null,
            "left": null
          }
        },
        "1fd3f423f3cd4793abf747a1f7ec1f27": {
          "model_module": "@jupyter-widgets/controls",
          "model_name": "DescriptionStyleModel",
          "state": {
            "_view_name": "StyleView",
            "_model_name": "DescriptionStyleModel",
            "description_width": "",
            "_view_module": "@jupyter-widgets/base",
            "_model_module_version": "1.5.0",
            "_view_count": null,
            "_view_module_version": "1.2.0",
            "_model_module": "@jupyter-widgets/controls"
          }
        },
        "215034be5aa44c318ebadb2cdef82f0d": {
          "model_module": "@jupyter-widgets/base",
          "model_name": "LayoutModel",
          "state": {
            "_view_name": "LayoutView",
            "grid_template_rows": null,
            "right": null,
            "justify_content": null,
            "_view_module": "@jupyter-widgets/base",
            "overflow": null,
            "_model_module_version": "1.2.0",
            "_view_count": null,
            "flex_flow": null,
            "width": null,
            "min_width": null,
            "border": null,
            "align_items": null,
            "bottom": null,
            "_model_module": "@jupyter-widgets/base",
            "top": null,
            "grid_column": null,
            "overflow_y": null,
            "overflow_x": null,
            "grid_auto_flow": null,
            "grid_area": null,
            "grid_template_columns": null,
            "flex": null,
            "_model_name": "LayoutModel",
            "justify_items": null,
            "grid_row": null,
            "max_height": null,
            "align_content": null,
            "visibility": null,
            "align_self": null,
            "height": null,
            "min_height": null,
            "padding": null,
            "grid_auto_rows": null,
            "grid_gap": null,
            "max_width": null,
            "order": null,
            "_view_module_version": "1.2.0",
            "grid_template_areas": null,
            "object_position": null,
            "object_fit": null,
            "grid_auto_columns": null,
            "margin": null,
            "display": null,
            "left": null
          }
        },
        "45c56b7da56d49f7a43a3ca60d4b2cc1": {
          "model_module": "@jupyter-widgets/controls",
          "model_name": "HBoxModel",
          "state": {
            "_view_name": "HBoxView",
            "_dom_classes": [],
            "_model_name": "HBoxModel",
            "_view_module": "@jupyter-widgets/controls",
            "_model_module_version": "1.5.0",
            "_view_count": null,
            "_view_module_version": "1.5.0",
            "box_style": "",
            "layout": "IPY_MODEL_719a4e56799b42b18d75892e37ed16dc",
            "_model_module": "@jupyter-widgets/controls",
            "children": [
              "IPY_MODEL_de3523b653ac499eb9a70f3ae24e8c3d",
              "IPY_MODEL_fb4bf4cad7844d3ea9cc049a55f0d778"
            ]
          }
        },
        "719a4e56799b42b18d75892e37ed16dc": {
          "model_module": "@jupyter-widgets/base",
          "model_name": "LayoutModel",
          "state": {
            "_view_name": "LayoutView",
            "grid_template_rows": null,
            "right": null,
            "justify_content": null,
            "_view_module": "@jupyter-widgets/base",
            "overflow": null,
            "_model_module_version": "1.2.0",
            "_view_count": null,
            "flex_flow": null,
            "width": null,
            "min_width": null,
            "border": null,
            "align_items": null,
            "bottom": null,
            "_model_module": "@jupyter-widgets/base",
            "top": null,
            "grid_column": null,
            "overflow_y": null,
            "overflow_x": null,
            "grid_auto_flow": null,
            "grid_area": null,
            "grid_template_columns": null,
            "flex": null,
            "_model_name": "LayoutModel",
            "justify_items": null,
            "grid_row": null,
            "max_height": null,
            "align_content": null,
            "visibility": null,
            "align_self": null,
            "height": null,
            "min_height": null,
            "padding": null,
            "grid_auto_rows": null,
            "grid_gap": null,
            "max_width": null,
            "order": null,
            "_view_module_version": "1.2.0",
            "grid_template_areas": null,
            "object_position": null,
            "object_fit": null,
            "grid_auto_columns": null,
            "margin": null,
            "display": null,
            "left": null
          }
        },
        "de3523b653ac499eb9a70f3ae24e8c3d": {
          "model_module": "@jupyter-widgets/controls",
          "model_name": "FloatProgressModel",
          "state": {
            "_view_name": "ProgressView",
            "style": "IPY_MODEL_a43c9d25bac347cfbeef184f331b84ab",
            "_dom_classes": [],
            "description": "100%",
            "_model_name": "FloatProgressModel",
            "bar_style": "success",
            "max": 4,
            "_view_module": "@jupyter-widgets/controls",
            "_model_module_version": "1.5.0",
            "value": 4,
            "_view_count": null,
            "_view_module_version": "1.5.0",
            "orientation": "horizontal",
            "min": 0,
            "description_tooltip": null,
            "_model_module": "@jupyter-widgets/controls",
            "layout": "IPY_MODEL_4f29520fa58d4ceaaf1c01110e32f7cf"
          }
        },
        "fb4bf4cad7844d3ea9cc049a55f0d778": {
          "model_module": "@jupyter-widgets/controls",
          "model_name": "HTMLModel",
          "state": {
            "_view_name": "HTMLView",
            "style": "IPY_MODEL_00e2c4f78edd4db19f524a6eb5b0ec38",
            "_dom_classes": [],
            "description": "",
            "_model_name": "HTMLModel",
            "placeholder": "​",
            "_view_module": "@jupyter-widgets/controls",
            "_model_module_version": "1.5.0",
            "value": " 4/4 [06:52&lt;00:00, 103.22s/it]",
            "_view_count": null,
            "_view_module_version": "1.5.0",
            "description_tooltip": null,
            "_model_module": "@jupyter-widgets/controls",
            "layout": "IPY_MODEL_85da5b0c502a47d0b41d34b4cfee8871"
          }
        },
        "a43c9d25bac347cfbeef184f331b84ab": {
          "model_module": "@jupyter-widgets/controls",
          "model_name": "ProgressStyleModel",
          "state": {
            "_view_name": "StyleView",
            "_model_name": "ProgressStyleModel",
            "description_width": "initial",
            "_view_module": "@jupyter-widgets/base",
            "_model_module_version": "1.5.0",
            "_view_count": null,
            "_view_module_version": "1.2.0",
            "bar_color": null,
            "_model_module": "@jupyter-widgets/controls"
          }
        },
        "4f29520fa58d4ceaaf1c01110e32f7cf": {
          "model_module": "@jupyter-widgets/base",
          "model_name": "LayoutModel",
          "state": {
            "_view_name": "LayoutView",
            "grid_template_rows": null,
            "right": null,
            "justify_content": null,
            "_view_module": "@jupyter-widgets/base",
            "overflow": null,
            "_model_module_version": "1.2.0",
            "_view_count": null,
            "flex_flow": null,
            "width": null,
            "min_width": null,
            "border": null,
            "align_items": null,
            "bottom": null,
            "_model_module": "@jupyter-widgets/base",
            "top": null,
            "grid_column": null,
            "overflow_y": null,
            "overflow_x": null,
            "grid_auto_flow": null,
            "grid_area": null,
            "grid_template_columns": null,
            "flex": null,
            "_model_name": "LayoutModel",
            "justify_items": null,
            "grid_row": null,
            "max_height": null,
            "align_content": null,
            "visibility": null,
            "align_self": null,
            "height": null,
            "min_height": null,
            "padding": null,
            "grid_auto_rows": null,
            "grid_gap": null,
            "max_width": null,
            "order": null,
            "_view_module_version": "1.2.0",
            "grid_template_areas": null,
            "object_position": null,
            "object_fit": null,
            "grid_auto_columns": null,
            "margin": null,
            "display": null,
            "left": null
          }
        },
        "00e2c4f78edd4db19f524a6eb5b0ec38": {
          "model_module": "@jupyter-widgets/controls",
          "model_name": "DescriptionStyleModel",
          "state": {
            "_view_name": "StyleView",
            "_model_name": "DescriptionStyleModel",
            "description_width": "",
            "_view_module": "@jupyter-widgets/base",
            "_model_module_version": "1.5.0",
            "_view_count": null,
            "_view_module_version": "1.2.0",
            "_model_module": "@jupyter-widgets/controls"
          }
        },
        "85da5b0c502a47d0b41d34b4cfee8871": {
          "model_module": "@jupyter-widgets/base",
          "model_name": "LayoutModel",
          "state": {
            "_view_name": "LayoutView",
            "grid_template_rows": null,
            "right": null,
            "justify_content": null,
            "_view_module": "@jupyter-widgets/base",
            "overflow": null,
            "_model_module_version": "1.2.0",
            "_view_count": null,
            "flex_flow": null,
            "width": null,
            "min_width": null,
            "border": null,
            "align_items": null,
            "bottom": null,
            "_model_module": "@jupyter-widgets/base",
            "top": null,
            "grid_column": null,
            "overflow_y": null,
            "overflow_x": null,
            "grid_auto_flow": null,
            "grid_area": null,
            "grid_template_columns": null,
            "flex": null,
            "_model_name": "LayoutModel",
            "justify_items": null,
            "grid_row": null,
            "max_height": null,
            "align_content": null,
            "visibility": null,
            "align_self": null,
            "height": null,
            "min_height": null,
            "padding": null,
            "grid_auto_rows": null,
            "grid_gap": null,
            "max_width": null,
            "order": null,
            "_view_module_version": "1.2.0",
            "grid_template_areas": null,
            "object_position": null,
            "object_fit": null,
            "grid_auto_columns": null,
            "margin": null,
            "display": null,
            "left": null
          }
        },
        "1fcd916ff8ea4bdb8211946cf4246767": {
          "model_module": "@jupyter-widgets/controls",
          "model_name": "HBoxModel",
          "state": {
            "_view_name": "HBoxView",
            "_dom_classes": [],
            "_model_name": "HBoxModel",
            "_view_module": "@jupyter-widgets/controls",
            "_model_module_version": "1.5.0",
            "_view_count": null,
            "_view_module_version": "1.5.0",
            "box_style": "",
            "layout": "IPY_MODEL_727ffd3231ee44e5a734008a894d1bb2",
            "_model_module": "@jupyter-widgets/controls",
            "children": [
              "IPY_MODEL_b5dc4b2bb5ed442b908142beb1453cf6",
              "IPY_MODEL_0db61b1208824bf5941643633918c894"
            ]
          }
        },
        "727ffd3231ee44e5a734008a894d1bb2": {
          "model_module": "@jupyter-widgets/base",
          "model_name": "LayoutModel",
          "state": {
            "_view_name": "LayoutView",
            "grid_template_rows": null,
            "right": null,
            "justify_content": null,
            "_view_module": "@jupyter-widgets/base",
            "overflow": null,
            "_model_module_version": "1.2.0",
            "_view_count": null,
            "flex_flow": null,
            "width": null,
            "min_width": null,
            "border": null,
            "align_items": null,
            "bottom": null,
            "_model_module": "@jupyter-widgets/base",
            "top": null,
            "grid_column": null,
            "overflow_y": null,
            "overflow_x": null,
            "grid_auto_flow": null,
            "grid_area": null,
            "grid_template_columns": null,
            "flex": null,
            "_model_name": "LayoutModel",
            "justify_items": null,
            "grid_row": null,
            "max_height": null,
            "align_content": null,
            "visibility": null,
            "align_self": null,
            "height": null,
            "min_height": null,
            "padding": null,
            "grid_auto_rows": null,
            "grid_gap": null,
            "max_width": null,
            "order": null,
            "_view_module_version": "1.2.0",
            "grid_template_areas": null,
            "object_position": null,
            "object_fit": null,
            "grid_auto_columns": null,
            "margin": null,
            "display": null,
            "left": null
          }
        },
        "b5dc4b2bb5ed442b908142beb1453cf6": {
          "model_module": "@jupyter-widgets/controls",
          "model_name": "FloatProgressModel",
          "state": {
            "_view_name": "ProgressView",
            "style": "IPY_MODEL_d34d4af9abdf4512b4b3f1644554ce3f",
            "_dom_classes": [],
            "description": "100%",
            "_model_name": "FloatProgressModel",
            "bar_style": "success",
            "max": 4,
            "_view_module": "@jupyter-widgets/controls",
            "_model_module_version": "1.5.0",
            "value": 4,
            "_view_count": null,
            "_view_module_version": "1.5.0",
            "orientation": "horizontal",
            "min": 0,
            "description_tooltip": null,
            "_model_module": "@jupyter-widgets/controls",
            "layout": "IPY_MODEL_f51c98f51fea444982fa87e8322799f3"
          }
        },
        "0db61b1208824bf5941643633918c894": {
          "model_module": "@jupyter-widgets/controls",
          "model_name": "HTMLModel",
          "state": {
            "_view_name": "HTMLView",
            "style": "IPY_MODEL_8c339ce48a604cb789a11d0ab45bd510",
            "_dom_classes": [],
            "description": "",
            "_model_name": "HTMLModel",
            "placeholder": "​",
            "_view_module": "@jupyter-widgets/controls",
            "_model_module_version": "1.5.0",
            "value": " 4/4 [06:32&lt;00:00, 98.20s/it]",
            "_view_count": null,
            "_view_module_version": "1.5.0",
            "description_tooltip": null,
            "_model_module": "@jupyter-widgets/controls",
            "layout": "IPY_MODEL_6731bdb24e164b40984c65033b932adb"
          }
        },
        "d34d4af9abdf4512b4b3f1644554ce3f": {
          "model_module": "@jupyter-widgets/controls",
          "model_name": "ProgressStyleModel",
          "state": {
            "_view_name": "StyleView",
            "_model_name": "ProgressStyleModel",
            "description_width": "initial",
            "_view_module": "@jupyter-widgets/base",
            "_model_module_version": "1.5.0",
            "_view_count": null,
            "_view_module_version": "1.2.0",
            "bar_color": null,
            "_model_module": "@jupyter-widgets/controls"
          }
        },
        "f51c98f51fea444982fa87e8322799f3": {
          "model_module": "@jupyter-widgets/base",
          "model_name": "LayoutModel",
          "state": {
            "_view_name": "LayoutView",
            "grid_template_rows": null,
            "right": null,
            "justify_content": null,
            "_view_module": "@jupyter-widgets/base",
            "overflow": null,
            "_model_module_version": "1.2.0",
            "_view_count": null,
            "flex_flow": null,
            "width": null,
            "min_width": null,
            "border": null,
            "align_items": null,
            "bottom": null,
            "_model_module": "@jupyter-widgets/base",
            "top": null,
            "grid_column": null,
            "overflow_y": null,
            "overflow_x": null,
            "grid_auto_flow": null,
            "grid_area": null,
            "grid_template_columns": null,
            "flex": null,
            "_model_name": "LayoutModel",
            "justify_items": null,
            "grid_row": null,
            "max_height": null,
            "align_content": null,
            "visibility": null,
            "align_self": null,
            "height": null,
            "min_height": null,
            "padding": null,
            "grid_auto_rows": null,
            "grid_gap": null,
            "max_width": null,
            "order": null,
            "_view_module_version": "1.2.0",
            "grid_template_areas": null,
            "object_position": null,
            "object_fit": null,
            "grid_auto_columns": null,
            "margin": null,
            "display": null,
            "left": null
          }
        },
        "8c339ce48a604cb789a11d0ab45bd510": {
          "model_module": "@jupyter-widgets/controls",
          "model_name": "DescriptionStyleModel",
          "state": {
            "_view_name": "StyleView",
            "_model_name": "DescriptionStyleModel",
            "description_width": "",
            "_view_module": "@jupyter-widgets/base",
            "_model_module_version": "1.5.0",
            "_view_count": null,
            "_view_module_version": "1.2.0",
            "_model_module": "@jupyter-widgets/controls"
          }
        },
        "6731bdb24e164b40984c65033b932adb": {
          "model_module": "@jupyter-widgets/base",
          "model_name": "LayoutModel",
          "state": {
            "_view_name": "LayoutView",
            "grid_template_rows": null,
            "right": null,
            "justify_content": null,
            "_view_module": "@jupyter-widgets/base",
            "overflow": null,
            "_model_module_version": "1.2.0",
            "_view_count": null,
            "flex_flow": null,
            "width": null,
            "min_width": null,
            "border": null,
            "align_items": null,
            "bottom": null,
            "_model_module": "@jupyter-widgets/base",
            "top": null,
            "grid_column": null,
            "overflow_y": null,
            "overflow_x": null,
            "grid_auto_flow": null,
            "grid_area": null,
            "grid_template_columns": null,
            "flex": null,
            "_model_name": "LayoutModel",
            "justify_items": null,
            "grid_row": null,
            "max_height": null,
            "align_content": null,
            "visibility": null,
            "align_self": null,
            "height": null,
            "min_height": null,
            "padding": null,
            "grid_auto_rows": null,
            "grid_gap": null,
            "max_width": null,
            "order": null,
            "_view_module_version": "1.2.0",
            "grid_template_areas": null,
            "object_position": null,
            "object_fit": null,
            "grid_auto_columns": null,
            "margin": null,
            "display": null,
            "left": null
          }
        },
        "48adb70a7a2346ad9423653b1aa15829": {
          "model_module": "@jupyter-widgets/controls",
          "model_name": "HBoxModel",
          "state": {
            "_view_name": "HBoxView",
            "_dom_classes": [],
            "_model_name": "HBoxModel",
            "_view_module": "@jupyter-widgets/controls",
            "_model_module_version": "1.5.0",
            "_view_count": null,
            "_view_module_version": "1.5.0",
            "box_style": "",
            "layout": "IPY_MODEL_88f99606e51b46e99276b5937d29c929",
            "_model_module": "@jupyter-widgets/controls",
            "children": [
              "IPY_MODEL_5f9e271924094efc871e68e232a4ab6f",
              "IPY_MODEL_955207bba8a849f88abf558fc2ad6495"
            ]
          }
        },
        "88f99606e51b46e99276b5937d29c929": {
          "model_module": "@jupyter-widgets/base",
          "model_name": "LayoutModel",
          "state": {
            "_view_name": "LayoutView",
            "grid_template_rows": null,
            "right": null,
            "justify_content": null,
            "_view_module": "@jupyter-widgets/base",
            "overflow": null,
            "_model_module_version": "1.2.0",
            "_view_count": null,
            "flex_flow": null,
            "width": null,
            "min_width": null,
            "border": null,
            "align_items": null,
            "bottom": null,
            "_model_module": "@jupyter-widgets/base",
            "top": null,
            "grid_column": null,
            "overflow_y": null,
            "overflow_x": null,
            "grid_auto_flow": null,
            "grid_area": null,
            "grid_template_columns": null,
            "flex": null,
            "_model_name": "LayoutModel",
            "justify_items": null,
            "grid_row": null,
            "max_height": null,
            "align_content": null,
            "visibility": null,
            "align_self": null,
            "height": null,
            "min_height": null,
            "padding": null,
            "grid_auto_rows": null,
            "grid_gap": null,
            "max_width": null,
            "order": null,
            "_view_module_version": "1.2.0",
            "grid_template_areas": null,
            "object_position": null,
            "object_fit": null,
            "grid_auto_columns": null,
            "margin": null,
            "display": null,
            "left": null
          }
        },
        "5f9e271924094efc871e68e232a4ab6f": {
          "model_module": "@jupyter-widgets/controls",
          "model_name": "FloatProgressModel",
          "state": {
            "_view_name": "ProgressView",
            "style": "IPY_MODEL_62dafe2cc458494794c0f90cae59a25c",
            "_dom_classes": [],
            "description": "100%",
            "_model_name": "FloatProgressModel",
            "bar_style": "success",
            "max": 5,
            "_view_module": "@jupyter-widgets/controls",
            "_model_module_version": "1.5.0",
            "value": 5,
            "_view_count": null,
            "_view_module_version": "1.5.0",
            "orientation": "horizontal",
            "min": 0,
            "description_tooltip": null,
            "_model_module": "@jupyter-widgets/controls",
            "layout": "IPY_MODEL_defb2e946d4241f5ad21a39fa726f20a"
          }
        },
        "955207bba8a849f88abf558fc2ad6495": {
          "model_module": "@jupyter-widgets/controls",
          "model_name": "HTMLModel",
          "state": {
            "_view_name": "HTMLView",
            "style": "IPY_MODEL_db70220cc3804f398b4453eacf73a367",
            "_dom_classes": [],
            "description": "",
            "_model_name": "HTMLModel",
            "placeholder": "​",
            "_view_module": "@jupyter-widgets/controls",
            "_model_module_version": "1.5.0",
            "value": " 5/5 [06:17&lt;00:00, 75.57s/it]",
            "_view_count": null,
            "_view_module_version": "1.5.0",
            "description_tooltip": null,
            "_model_module": "@jupyter-widgets/controls",
            "layout": "IPY_MODEL_bbee1b999b414230b20f01a8ec10312e"
          }
        },
        "62dafe2cc458494794c0f90cae59a25c": {
          "model_module": "@jupyter-widgets/controls",
          "model_name": "ProgressStyleModel",
          "state": {
            "_view_name": "StyleView",
            "_model_name": "ProgressStyleModel",
            "description_width": "initial",
            "_view_module": "@jupyter-widgets/base",
            "_model_module_version": "1.5.0",
            "_view_count": null,
            "_view_module_version": "1.2.0",
            "bar_color": null,
            "_model_module": "@jupyter-widgets/controls"
          }
        },
        "defb2e946d4241f5ad21a39fa726f20a": {
          "model_module": "@jupyter-widgets/base",
          "model_name": "LayoutModel",
          "state": {
            "_view_name": "LayoutView",
            "grid_template_rows": null,
            "right": null,
            "justify_content": null,
            "_view_module": "@jupyter-widgets/base",
            "overflow": null,
            "_model_module_version": "1.2.0",
            "_view_count": null,
            "flex_flow": null,
            "width": null,
            "min_width": null,
            "border": null,
            "align_items": null,
            "bottom": null,
            "_model_module": "@jupyter-widgets/base",
            "top": null,
            "grid_column": null,
            "overflow_y": null,
            "overflow_x": null,
            "grid_auto_flow": null,
            "grid_area": null,
            "grid_template_columns": null,
            "flex": null,
            "_model_name": "LayoutModel",
            "justify_items": null,
            "grid_row": null,
            "max_height": null,
            "align_content": null,
            "visibility": null,
            "align_self": null,
            "height": null,
            "min_height": null,
            "padding": null,
            "grid_auto_rows": null,
            "grid_gap": null,
            "max_width": null,
            "order": null,
            "_view_module_version": "1.2.0",
            "grid_template_areas": null,
            "object_position": null,
            "object_fit": null,
            "grid_auto_columns": null,
            "margin": null,
            "display": null,
            "left": null
          }
        },
        "db70220cc3804f398b4453eacf73a367": {
          "model_module": "@jupyter-widgets/controls",
          "model_name": "DescriptionStyleModel",
          "state": {
            "_view_name": "StyleView",
            "_model_name": "DescriptionStyleModel",
            "description_width": "",
            "_view_module": "@jupyter-widgets/base",
            "_model_module_version": "1.5.0",
            "_view_count": null,
            "_view_module_version": "1.2.0",
            "_model_module": "@jupyter-widgets/controls"
          }
        },
        "bbee1b999b414230b20f01a8ec10312e": {
          "model_module": "@jupyter-widgets/base",
          "model_name": "LayoutModel",
          "state": {
            "_view_name": "LayoutView",
            "grid_template_rows": null,
            "right": null,
            "justify_content": null,
            "_view_module": "@jupyter-widgets/base",
            "overflow": null,
            "_model_module_version": "1.2.0",
            "_view_count": null,
            "flex_flow": null,
            "width": null,
            "min_width": null,
            "border": null,
            "align_items": null,
            "bottom": null,
            "_model_module": "@jupyter-widgets/base",
            "top": null,
            "grid_column": null,
            "overflow_y": null,
            "overflow_x": null,
            "grid_auto_flow": null,
            "grid_area": null,
            "grid_template_columns": null,
            "flex": null,
            "_model_name": "LayoutModel",
            "justify_items": null,
            "grid_row": null,
            "max_height": null,
            "align_content": null,
            "visibility": null,
            "align_self": null,
            "height": null,
            "min_height": null,
            "padding": null,
            "grid_auto_rows": null,
            "grid_gap": null,
            "max_width": null,
            "order": null,
            "_view_module_version": "1.2.0",
            "grid_template_areas": null,
            "object_position": null,
            "object_fit": null,
            "grid_auto_columns": null,
            "margin": null,
            "display": null,
            "left": null
          }
        }
      }
    }
  },
  "cells": [
    {
      "cell_type": "code",
      "metadata": {
        "id": "SjYU9batNOPK"
      },
      "source": [
        "import numpy as np\n",
        "from scipy.sparse import hstack, issparse\n",
        "import scipy.linalg as sla\n",
        "from scipy.sparse.linalg import expm\n",
        "from sklearn.datasets import load_svmlight_file\n",
        "from sklearn.metrics import roc_auc_score\n",
        "from scipy.optimize.linesearch import scalar_search_wolfe2\n",
        "from scipy.optimize import brent, golden\n",
        "from tqdm.notebook import tqdm\n",
        "from tabulate import tabulate\n",
        "import matplotlib.pyplot as plt\n",
        "import time\n",
        "import scipy\n",
        "\n",
        "import warnings\n",
        "warnings.filterwarnings(\"ignore\")"
      ],
      "execution_count": 1,
      "outputs": []
    },
    {
      "cell_type": "markdown",
      "metadata": {
        "id": "gpcQW-OzUKYy"
      },
      "source": [
        "# Пункт 1."
      ]
    },
    {
      "cell_type": "markdown",
      "metadata": {
        "id": "izksbF8LQvxS"
      },
      "source": [
        "$$\n",
        "\\begin{gathered}\n",
        "loss(w) = - \\frac{1}{N} (y * \\log(\\sigma(X w^T)) + (1 - y) * \\log (\\sigma (X w^T)) \\\\\n",
        "\\nabla loss(w) = \\frac{1}{N} X^T * (\\sigma(w^T X) - y) \\\\\n",
        "\\nabla^2 loss(w) = X (\\sigma(w^T X)(1 - \\sigma(w^T X))) X^T\n",
        "\\end{gathered}\n",
        "$$"
      ]
    },
    {
      "cell_type": "markdown",
      "metadata": {
        "id": "887azuJQSHPA"
      },
      "source": [
        "Будет ли зависеть результат работы\n",
        "метода для логистической регрессии от выбора начальной точки?"
      ]
    },
    {
      "cell_type": "markdown",
      "metadata": {
        "id": "SETMe4FBSOXZ"
      },
      "source": [
        "Не будет зависеть, т.к. гессиан положительно определен, функция выпуклая."
      ]
    },
    {
      "cell_type": "markdown",
      "metadata": {
        "id": "ZcoSdXOYUvTq"
      },
      "source": [
        "# Пункт 2"
      ]
    },
    {
      "cell_type": "markdown",
      "metadata": {
        "id": "ma5C3cPU1LaV"
      },
      "source": [
        "## Оракул"
      ]
    },
    {
      "cell_type": "code",
      "metadata": {
        "id": "RL5JY8d4MBQq"
      },
      "source": [
        "class Oracle:\n",
        "\n",
        "    def __init__(self, X, y):\n",
        "        self.X = self.__extend_X(X)\n",
        "        self.y = y\n",
        "        self.__n_calls = 0\n",
        "        self.eps = 1e-08\n",
        "        self.N = self.y.shape[0]\n",
        "\n",
        "    \n",
        "    def start_count(self, W_init):\n",
        "        self.__opt_score = self.__get_optimum_score(W_init)\n",
        "        self.__init_grad = self.grad(W_init)\n",
        "        self.__n_calls = 0\n",
        "        self.__n_iter = 0\n",
        "        self.__time = time.time()\n",
        "\n",
        "        self.iter_array = []\n",
        "        self.time_array = []\n",
        "        self.calls_array = []\n",
        "        self.scores_1 = []\n",
        "        self.scores_2 = []\n",
        "        self.entropy = []\n",
        "\n",
        "    \n",
        "    def __get_optimum_score(self, W_init):\n",
        "        result = scipy.optimize.minimize(self.value, x0 = W_init, method='Newton-CG', \n",
        "                             jac=self.grad, hess=self.hessian)\n",
        "        return self.value(result.x)\n",
        "\n",
        "\n",
        "    def next_iteration(self, x):\n",
        "        self.iter_array.append(self.__n_iter)\n",
        "        self.calls_array.append(self.__n_calls)\n",
        "\n",
        "        self.time_array.append(time.time() - self.__time)\n",
        "        self.__n_iter += 1\n",
        "        entropy = self.value(x) \n",
        "\n",
        "        score_1 = abs(entropy - self.__opt_score)\n",
        "        score_2 = np.linalg.norm(self.grad(x)) ** 2 / np.linalg.norm(self.__init_grad) ** 2 \n",
        "        self.scores_1.append(score_1)\n",
        "        self.scores_2.append(score_2)\n",
        "        self.entropy.append(entropy)\n",
        "\n",
        "\n",
        "    def get_n_calls(self):\n",
        "        return self.__n_calls\n",
        "\n",
        "\n",
        "    def __extend_X(self, X):\n",
        "        intercept = np.ones((X.shape[0], 1))\n",
        "        if issparse(X):\n",
        "            return hstack([intercept, X])\n",
        "        else:\n",
        "            return np.hstack([intercept, X])\n",
        "\n",
        "\n",
        "    def __sigmoid(self, z):\n",
        "        return 1 / (1 + np.exp(-z))\n",
        "\n",
        "\n",
        "    def get_prob(self, w):\n",
        "        p = self.__sigmoid(self.X @ w.T)\n",
        "        return np.clip(p, 1e-10, 1 - 1e-10)\n",
        "\n",
        "\n",
        "    def value(self, w):\n",
        "        p = self.get_prob(w)\n",
        "        self.__n_calls += 1\n",
        "\n",
        "        return -(self.y * np.log(p + self.eps) + (1 - self.y) * np.log(1 - p + self.eps)).mean()\n",
        "\n",
        "\n",
        "    def grad(self, w):\n",
        "        p = self.get_prob(w)\n",
        "        self.__n_calls += 1\n",
        "\n",
        "        return self.X.T @ (p - self.y) / self.N\n",
        "\n",
        "    def hessian(self, w):\n",
        "        p = self.get_prob(w)\n",
        "        self.__n_calls += 1\n",
        "\n",
        "        return self.X.T @ np.diag(p * (1 - p)) @ self.X / self.N\n",
        "\n",
        "    def hessian_vec_product(self, w, d):\n",
        "        p = self.get_prob(w)\n",
        "        self.__n_calls += 1\n",
        "        result = (self.X @ d)\n",
        "        result = np.diag(p * (1 - p)) @ result\n",
        "        result = self.X.T @ result\n",
        "\n",
        "        return result / self.N\n",
        "\n",
        "\n",
        "    def fuse_value_grad(self, x):\n",
        "        return self.value(x), self.grad(x)\n",
        "\n",
        "\n",
        "    def fuse_value_grad_hessian(self, x):\n",
        "        return self.value(x), self.grad(x), self.hessian(x)\n",
        "\n",
        "\n",
        "    def fuse_value_grad_hessian_vec_product(self, x, d):\n",
        "        return self.value(x), self.grad(x), self.hessian_vec_product(x, d)"
      ],
      "execution_count": 2,
      "outputs": []
    },
    {
      "cell_type": "markdown",
      "metadata": {
        "id": "_Bhd4tyU1N9D"
      },
      "source": [
        "## Загрузка датасетов"
      ]
    },
    {
      "cell_type": "code",
      "metadata": {
        "id": "iwD5Cd7TMLWe"
      },
      "source": [
        "def make_oracle (data_path) :\n",
        "    if not data_path == 'random':\n",
        "        X, y = load_svmlight_file(data_path)\n",
        "        \n",
        "        nums = list(set(y))\n",
        "        for i in range(len(nums)):\n",
        "            y[y == nums[i]] = i\n",
        "\n",
        "        print('Dataset shape: ', X.shape, y.shape)        \n",
        "\n",
        "        return Oracle(X, y)\n",
        "     \n",
        "    a, b = np.random.uniform(-1, 1, 2)\n",
        "    X = (a * np.random.normal(0, 1, 1000) + b)\n",
        "    y = np.apply_along_axis(lambda  x: (x >= 0).astype(np.int), 0, X)\n",
        "    X = X.reshape(-1, 1)\n",
        "    print('Dataset shape: ', X.shape, y.shape)\n",
        "    print('Unique:', np.unique(y))\n",
        "\n",
        "    return Oracle(X, y)"
      ],
      "execution_count": 3,
      "outputs": []
    },
    {
      "cell_type": "markdown",
      "metadata": {
        "id": "gErQMYM_1Qjq"
      },
      "source": [
        "## Разностная проверка оракула"
      ]
    },
    {
      "cell_type": "code",
      "metadata": {
        "colab": {
          "base_uri": "https://localhost:8080/"
        },
        "id": "5Np5b4eG7eID",
        "outputId": "ab1518fd-d3b8-4789-ecaf-d4485628aab4"
      },
      "source": [
        "oracle = make_oracle('random')"
      ],
      "execution_count": 4,
      "outputs": [
        {
          "output_type": "stream",
          "text": [
            "Dataset shape:  (1000, 1) (1000,)\n",
            "Unique: [0 1]\n"
          ],
          "name": "stdout"
        }
      ]
    },
    {
      "cell_type": "code",
      "metadata": {
        "id": "BwHffKv8mpLh",
        "colab": {
          "base_uri": "https://localhost:8080/"
        },
        "outputId": "6fcb8123-732b-40bb-a826-ef8d1b696ddd"
      },
      "source": [
        "def check_grad(oracle):\n",
        "    '''\n",
        "    Разностная проверка градиента\n",
        "    '''\n",
        "    W = np.random.normal(0, 1, size=(oracle.X.shape[1]))\n",
        "\n",
        "    # Берем порядок eps < -15, т.к. на этой точности \n",
        "    # часто возникает переполнение\n",
        "    # Рекомендованным значением является корень из машинной точности\n",
        "    eps = 10 ** (-8)\n",
        "\n",
        "    errors = []\n",
        "    true_grad = oracle.grad(W)\n",
        "    \n",
        "    for i in range(oracle.X.shape[1]):\n",
        "        e_i = np.zeros(oracle.X.shape[1])\n",
        "        e_i[i] = 1\n",
        "        dif_grad = (oracle.value(W + eps * e_i) - oracle.value(W)) / eps\n",
        "        errors.append(abs(dif_grad - true_grad[i]))\n",
        "\n",
        "    return np.mean(errors)\n",
        "\n",
        "check_grad(oracle)"
      ],
      "execution_count": 5,
      "outputs": [
        {
          "output_type": "execute_result",
          "data": {
            "text/plain": [
              "1.7583416736521862e-09"
            ]
          },
          "metadata": {
            "tags": []
          },
          "execution_count": 5
        }
      ]
    },
    {
      "cell_type": "code",
      "metadata": {
        "id": "fheZYdGb08K0",
        "colab": {
          "base_uri": "https://localhost:8080/"
        },
        "outputId": "7f9b93d0-8f9c-463d-fd35-46e7efd66e1d"
      },
      "source": [
        "def check_hessian(oracle):\n",
        "    '''\n",
        "    Разностная проверка градиента\n",
        "    '''\n",
        "    W = np.random.normal(0, 1, size=(oracle.X.shape[1]))\n",
        "    eps = 10 ** (-8)\n",
        "    errors = []\n",
        "    true_hessian = oracle.hessian(W)\n",
        "\n",
        "    for i in range(oracle.X.shape[1]):\n",
        "        for j in range(oracle.X.shape[1]):\n",
        "            e_i = np.zeros(oracle.X.shape[1])\n",
        "            e_i[i] = 1\n",
        "\n",
        "            dif_hessian = (oracle.grad(W + eps * e_i) - oracle.grad(W)) / eps\n",
        "\n",
        "            errors.append(abs(dif_hessian - true_hessian[i]).mean())\n",
        "\n",
        "    return np.mean(errors)\n",
        "\n",
        "check_hessian(oracle)"
      ],
      "execution_count": 6,
      "outputs": [
        {
          "output_type": "execute_result",
          "data": {
            "text/plain": [
              "7.828775118630393e-09"
            ]
          },
          "metadata": {
            "tags": []
          },
          "execution_count": 6
        }
      ]
    },
    {
      "cell_type": "markdown",
      "metadata": {
        "id": "iHNnchM4TtYv"
      },
      "source": [
        "Видно, что разница между методом разностного дифференцирования и методом зи оракула очень маленькая - порядка e-08. Это означает, что гессиан и градиент находятся правильно."
      ]
    },
    {
      "cell_type": "markdown",
      "metadata": {
        "id": "-KnNGQO_UyYt"
      },
      "source": [
        "# Пункт 3."
      ]
    },
    {
      "cell_type": "markdown",
      "metadata": {
        "id": "XVNuDc4C1V6e"
      },
      "source": [
        "## Реализация Line Search"
      ]
    },
    {
      "cell_type": "code",
      "metadata": {
        "id": "-TXoSZU82Vcj"
      },
      "source": [
        "class LineSearch:\n",
        "\n",
        "    def __init__(self, oracle, name = 'wolfe', \n",
        "                 c_armijo = 0.4, c1_wolfe=0.4, c2_wolfe=0.9):\n",
        "        self.c_armijo = c_armijo\n",
        "        self.c1_wolfe = c1_wolfe\n",
        "        self.c2_wolfe = c2_wolfe\n",
        "        self.oracle = oracle\n",
        "        self.__method = name\n",
        "\n",
        "    \n",
        "    def line_search(self, x, direction, a_start=100):\n",
        "        value = lambda a: self.oracle.value(x + a * direction)\n",
        "        grad = lambda a: self.oracle.grad(x + a * direction).T @ direction\n",
        "        \n",
        "        if self.__method == 'armijo':\n",
        "            return self.__armijo(value, grad, a_start)\n",
        "        elif self.__method == 'wolfe':\n",
        "            result = scalar_search_wolfe2(value, grad,\n",
        "                                          phi0=a_start, \n",
        "                                          c1=self.c1_wolfe, c2=self.c2_wolfe)[0]\n",
        "\n",
        "            if result is None:\n",
        "                return self.__armijo(value, grad, a_start)\n",
        "            return result\n",
        "        elif self.__method == 'brent':\n",
        "            return brent(value)\n",
        "        elif self.__method == 'golden':\n",
        "            return golden(value)\n",
        "        elif self.__method == 'nesterov':\n",
        "            return self.__nesterov(x, direction)\n",
        "\n",
        "\n",
        "    def __armijo(self, value, grad, a_start, maxiter=100):\n",
        "        a = a_start\n",
        "        c = self.c_armijo\n",
        "\n",
        "        for i in range(maxiter):\n",
        "            if value(a) <= value(0) + c * a * grad(0):\n",
        "                break\n",
        "\n",
        "            a = a / 2\n",
        "\n",
        "        return a\n",
        "\n",
        "    \n",
        "    def __nesterov(self, x, direction, maxiter=1000):\n",
        "        L = 0.01\n",
        "\n",
        "        for i in range(maxiter):\n",
        "            x_next = x + 1 / L * direction\n",
        "\n",
        "            if self.oracle.value(x_next) <= self.oracle.value(x) + \\\n",
        "                    self.oracle.grad(x).T @ (x_next - x) + \\\n",
        "                    L / 2 * np.linalg.norm(x_next - x) ** 2:\n",
        "                break\n",
        "\n",
        "            L = L * 2\n",
        "\n",
        "        L = L / 2\n",
        "        return 1 / L"
      ],
      "execution_count": 7,
      "outputs": []
    },
    {
      "cell_type": "markdown",
      "metadata": {
        "id": "u1-Tl0HQ6Ezf"
      },
      "source": [
        "## Начальное значение"
      ]
    },
    {
      "cell_type": "code",
      "metadata": {
        "id": "4aIW6FSA6Mb0"
      },
      "source": [
        "def init_weights(shape, start_type='zeros'):\n",
        "    if start_type == 'zeros':\n",
        "        return np.zeros(shape)\n",
        "    if start_type == 'ones':\n",
        "        return np.ones(shape)\n",
        "    if start_type == 'random':\n",
        "        return np.random.uniform(0, 1, shape)"
      ],
      "execution_count": 8,
      "outputs": []
    },
    {
      "cell_type": "markdown",
      "metadata": {
        "id": "Vd8dflAvYv4B"
      },
      "source": [
        "## Анализ методов"
      ]
    },
    {
      "cell_type": "code",
      "metadata": {
        "id": "k4fRkponEvQH"
      },
      "source": [
        "def analyze(data_path, opt_method, start_type='zeros', nesterov=True, graph=True):\n",
        "    oracle = make_oracle(data_path)\n",
        "    start_point = init_weights(oracle.X.shape[1], start_type)\n",
        "\n",
        "    line_search_methods = ['golden', 'wolfe', 'brent', 'armijo']\n",
        "    if nesterov:\n",
        "        line_search_methods.append('nesterov')\n",
        "\n",
        "    dict_time = {}\n",
        "    dict_iters = {}\n",
        "    dict_calls = {}\n",
        "    dict_scores_1 = {}\n",
        "    dict_scores_2 = {}\n",
        "    dict_entropy = {}\n",
        "\n",
        "    for line_search in tqdm(line_search_methods):\n",
        "        ls = LineSearch(oracle, line_search)\n",
        "        _ = opt_method(oracle, start_point, ls)\n",
        "\n",
        "        dict_time[line_search] = oracle.time_array\n",
        "        dict_iters[line_search] = oracle.iter_array\n",
        "        dict_calls[line_search] = oracle.calls_array\n",
        "        dict_scores_1[line_search] = oracle.scores_1\n",
        "        dict_scores_2[line_search] = oracle.scores_2\n",
        "        dict_entropy[line_search] = oracle.entropy\n",
        "\n",
        "    table = []\n",
        "    for line_search in line_search_methods:\n",
        "        row = {}\n",
        "        row['Method'] = line_search\n",
        "        row['Entropy'] = dict_entropy[line_search][-1]\n",
        "        row['Num Iter'] = dict_iters[line_search][-1]\n",
        "        row['Oracle Calls'] = dict_calls[line_search][-1]\n",
        "        row['Time'] = int(dict_time[line_search][-1] * 100) / 100\n",
        "        table.append(row)\n",
        "\n",
        "    print(tabulate(table, headers=\"keys\", tablefmt=\"github\"))\n",
        "\n",
        "    if graph:\n",
        "        for line_dict, name in [(dict_time, 'Time'), (dict_iters, 'Iterations'), (dict_calls, 'Calls')]:\n",
        "            _, axes = plt.subplots(nrows=1, ncols=2, figsize=(22,4))\n",
        "\n",
        "            for line_search in line_search_methods:\n",
        "                axes[0].plot(line_dict[line_search], np.log(dict_scores_1[line_search]), label=line_search);\n",
        "                axes[1].plot(line_dict[line_search], np.log(dict_scores_2[line_search]), label=line_search);\n",
        "\n",
        "            axes[0].legend()\n",
        "            axes[0].set_xlabel(name)\n",
        "            axes[0].set_ylabel('log|F(w) - F(w*)|')\n",
        "            axes[1].legend()\n",
        "            axes[1].set_xlabel(name)\n",
        "            axes[1].set_ylabel('log(|grad F(w)|^2 / |grad F(w_0)|^2)')\n",
        "\n",
        "            plt.suptitle(name)\n",
        "            plt.show()"
      ],
      "execution_count": 9,
      "outputs": []
    },
    {
      "cell_type": "markdown",
      "metadata": {
        "id": "yKgcFLd81cyZ"
      },
      "source": [
        "## Градиентный спуск"
      ]
    },
    {
      "cell_type": "code",
      "metadata": {
        "id": "llmfpkrp7Ues"
      },
      "source": [
        "def optimize(f, start_point, line_search, tol=1e-08, max_iter=10000):\n",
        "\n",
        "    W_init = start_point\n",
        "    W_init_grad = f.grad(W_init)\n",
        "\n",
        "    W = W_init.copy()\n",
        "    W_grad = W_init_grad.copy()\n",
        "\n",
        "    f.start_count(W_init)\n",
        "\n",
        "    for k in range(max_iter + 1):\n",
        "        if np.linalg.norm(W_grad) ** 2 / np.linalg.norm(W_init_grad) ** 2 < tol:\n",
        "            break\n",
        "\n",
        "        direction = -W_grad\n",
        "        a = line_search.line_search(W, direction)\n",
        "        W += a * direction\n",
        "\n",
        "        W_loss, W_grad = f.fuse_value_grad(W)\n",
        "\n",
        "        f.next_iteration(W)\n",
        "\n",
        "    return W"
      ],
      "execution_count": 10,
      "outputs": []
    },
    {
      "cell_type": "markdown",
      "metadata": {
        "id": "GwMHDzF9VMUj"
      },
      "source": [
        "## Анализ работы условия Армихо"
      ]
    },
    {
      "cell_type": "markdown",
      "metadata": {
        "id": "Noe7sglbXizW"
      },
      "source": [
        "c1 для условия Армихо находится в промежутке (0, 0.5)"
      ]
    },
    {
      "cell_type": "code",
      "metadata": {
        "colab": {
          "base_uri": "https://localhost:8080/",
          "height": 185,
          "referenced_widgets": [
            "fa1adc81eb7d4a1fba31e8a628f89e04",
            "1c3fd775527c40d28aec918e700844f2",
            "749c931305b944fdb08bce6b23a1cefd",
            "a4b3220794b94aff96346c81a38ba86e",
            "69726ed8f38e476684f03ef13948f63c",
            "0899dccfea784313a9625a63b70c53a4",
            "14f8ddb5fe514696b474f0b616ea6855",
            "572474b0d0f54240ba5957389ac250fa"
          ]
        },
        "id": "OCh28Xs8XK88",
        "outputId": "b2fa92ff-9428-4bf1-ebcc-5c601c8f8b7d"
      },
      "source": [
        "oracle = make_oracle('a1a.txt')\n",
        "start_point = init_weights(oracle.X.shape[1], 'ones')\n",
        "table = []\n",
        "\n",
        "for c in tqdm(np.arange(0.1, 0.5, 0.1)):\n",
        "    ls = LineSearch(oracle, 'armijo', c_armijo=c)\n",
        "    W = optimize(oracle, start_point, ls)\n",
        "\n",
        "    row = {}\n",
        "    row['c'] = c\n",
        "    row['Entropy'] = oracle.entropy[-1]\n",
        "    row['Num Iter'] = oracle.iter_array[-1]\n",
        "    row['Time'] = oracle.time_array[-1]\n",
        "    row['Calls'] = oracle.calls_array[-1]\n",
        "\n",
        "    table.append(row)\n",
        "\n",
        "print(tabulate(table, headers=\"keys\", tablefmt=\"github\"))"
      ],
      "execution_count": 11,
      "outputs": [
        {
          "output_type": "stream",
          "text": [
            "Dataset shape:  (1605, 119) (1605,)\n"
          ],
          "name": "stdout"
        },
        {
          "output_type": "display_data",
          "data": {
            "application/vnd.jupyter.widget-view+json": {
              "model_id": "fa1adc81eb7d4a1fba31e8a628f89e04",
              "version_minor": 0,
              "version_major": 2
            },
            "text/plain": [
              "HBox(children=(FloatProgress(value=0.0, max=4.0), HTML(value='')))"
            ]
          },
          "metadata": {
            "tags": []
          }
        },
        {
          "output_type": "stream",
          "text": [
            "\n",
            "|   c |   Entropy |   Num Iter |    Time |   Calls |\n",
            "|-----|-----------|------------|---------|---------|\n",
            "| 0.1 |  0.298512 |      10000 | 64.2097 |  218658 |\n",
            "| 0.2 |  0.298479 |      10000 | 63.5509 |  217722 |\n",
            "| 0.3 |  0.298466 |      10000 | 64.0611 |  217536 |\n",
            "| 0.4 |  0.298435 |      10000 | 63.4881 |  217104 |\n"
          ],
          "name": "stdout"
        }
      ]
    },
    {
      "cell_type": "markdown",
      "metadata": {
        "id": "HiQkNe8Ab9Jp"
      },
      "source": [
        "Видно, что выбор парамтре сильно не влияет на производительность, но есть зависимость, что чем больше условие Армихо, тем меньше вызовов оракула и быстрее работает метод."
      ]
    },
    {
      "cell_type": "markdown",
      "metadata": {
        "id": "rZtcpA6zVU1E"
      },
      "source": [
        "## Анализ работы условия Вульфа"
      ]
    },
    {
      "cell_type": "markdown",
      "metadata": {
        "id": "DyIjMmV3cp8n"
      },
      "source": [
        "$с_1 \\in (0, 0.5), c_2 \\in (c_1, 1)$"
      ]
    },
    {
      "cell_type": "code",
      "metadata": {
        "colab": {
          "base_uri": "https://localhost:8080/"
        },
        "id": "j8LnQgemdvqH",
        "outputId": "0458adf8-86ed-461e-d1ca-47618dec7e55"
      },
      "source": [
        "oracle = make_oracle('a1a.txt')\n",
        "start_point = init_weights(oracle.X.shape[1], 'ones')\n",
        "table = []\n",
        "\n",
        "c_1 = 0.4\n",
        "for c_1 in [0.1, 0.4]:\n",
        "    for c_2 in [c_1 + 0.1, 0.9]:\n",
        "        ls = LineSearch(oracle, 'wolfe', c1_wolfe=c_1, c2_wolfe=c_2)\n",
        "        W = optimize(oracle, start_point, ls)\n",
        "\n",
        "        row = {}\n",
        "        row['c_1'] = c_1\n",
        "        row['c_2'] = c_2\n",
        "        row['Entropy'] = oracle.entropy[-1]\n",
        "        row['Num Iter'] = oracle.iter_array[-1]\n",
        "        row['Time'] = oracle.time_array[-1]\n",
        "        row['Calls'] = oracle.calls_array[-1]\n",
        "\n",
        "        table.append(row)\n",
        "\n",
        "print(tabulate(table, headers=\"keys\", tablefmt=\"github\"))"
      ],
      "execution_count": 12,
      "outputs": [
        {
          "output_type": "stream",
          "text": [
            "Dataset shape:  (1605, 119) (1605,)\n",
            "|   c_1 |   c_2 |   Entropy |   Num Iter |    Time |   Calls |\n",
            "|-------|-------|-----------|------------|---------|---------|\n",
            "|   0.1 |   0.2 |  0.29846  |      10000 | 38.1827 |  120013 |\n",
            "|   0.1 |   0.9 |  0.298391 |      10000 | 31.0002 |   99455 |\n",
            "|   0.4 |   0.5 |  0.29865  |      10000 | 30.6318 |   98479 |\n",
            "|   0.4 |   0.9 |  0.298391 |      10000 | 30.9251 |   99455 |\n"
          ],
          "name": "stdout"
        }
      ]
    },
    {
      "cell_type": "markdown",
      "metadata": {
        "id": "iM-wNuSugOzg"
      },
      "source": [
        "Видно, что на этой задаче условие Вульфа позволяет работать градиентному спуску значитально быстрее. Но значение параметра сильно не влияет на его работу. Можно также заметить тенденцию, что значение entropy меньшается с увеличением c_2."
      ]
    },
    {
      "cell_type": "markdown",
      "metadata": {
        "id": "XV5aD4DMVas5"
      },
      "source": [
        "## Анализ работы Градиентного спуска"
      ]
    },
    {
      "cell_type": "code",
      "metadata": {
        "id": "mkwvpwvRBYOD",
        "colab": {
          "base_uri": "https://localhost:8080/",
          "height": 1000,
          "referenced_widgets": [
            "5946483c43f44bfda180a38e49ed0b75",
            "8859464a48d24b84a7b25cd58b1673ac",
            "854eed77dce242a6afbb198fd2c6bd8c",
            "38718638560e44d28566f489740df9a6",
            "43b5fb21880d4b60a5893030a74e3141",
            "5936bb7ffd104e7981b16f961036f4e3",
            "319f4625d1df41a7b8081908d5c491da",
            "bf7be2ae10164cbba15c145e62d80fe1"
          ]
        },
        "outputId": "31506a4b-f0bd-4375-c26c-d0ba41477ca9"
      },
      "source": [
        "analyze('a1a.txt', optimize, 'zeros', nesterov=True, graph=True)"
      ],
      "execution_count": 13,
      "outputs": [
        {
          "output_type": "stream",
          "text": [
            "Dataset shape:  (1605, 119) (1605,)\n"
          ],
          "name": "stdout"
        },
        {
          "output_type": "display_data",
          "data": {
            "application/vnd.jupyter.widget-view+json": {
              "model_id": "5946483c43f44bfda180a38e49ed0b75",
              "version_minor": 0,
              "version_major": 2
            },
            "text/plain": [
              "HBox(children=(FloatProgress(value=0.0, max=5.0), HTML(value='')))"
            ]
          },
          "metadata": {
            "tags": []
          }
        },
        {
          "output_type": "stream",
          "text": [
            "\n",
            "| Method   |   Entropy |   Num Iter |   Oracle Calls |   Time |\n",
            "|----------|-----------|------------|----------------|--------|\n",
            "| golden   |  0.298791 |      10000 |         466398 | 125.37 |\n",
            "| wolfe    |  0.298402 |      10000 |          99437 |  31.08 |\n",
            "| brent    |  0.298804 |      10000 |         251263 |  70.48 |\n",
            "| armijo   |  0.298442 |      10000 |         217065 |  63.56 |\n",
            "| nesterov |  0.298586 |      10000 |         250302 |  75.3  |\n"
          ],
          "name": "stdout"
        },
        {
          "output_type": "display_data",
          "data": {
            "image/png": "[encoded data removed]",
            "text/plain": [
              "<Figure size 1584x288 with 2 Axes>"
            ]
          },
          "metadata": {
            "tags": [],
            "needs_background": "light"
          }
        },
        {
          "output_type": "display_data",
          "data": {
            "image/png": "[encoded data removed]",
            "text/plain": [
              "<Figure size 1584x288 with 2 Axes>"
            ]
          },
          "metadata": {
            "tags": [],
            "needs_background": "light"
          }
        },
        {
          "output_type": "display_data",
          "data": {
            "image/png": "[encoded data removed]",
            "text/plain": [
              "<Figure size 1584x288 with 2 Axes>"
            ]
          },
          "metadata": {
            "tags": [],
            "needs_background": "light"
          }
        }
      ]
    },
    {
      "cell_type": "code",
      "metadata": {
        "colab": {
          "base_uri": "https://localhost:8080/",
          "height": 202,
          "referenced_widgets": [
            "ec2fa648713446a9a891537a988f50d5",
            "321bcc96cead4a44a05279d35160fdf9",
            "654adfa919824bc5a10757425c6c8e73",
            "cdabce3487d54e6b998fc3565f039e5f",
            "0e8d21b4fa1048fb94b5ab4081831596",
            "1b837d41913a401d8cc489ed715423cf",
            "a440d1c03ea44feaaf84284f55bcdf2f",
            "b43e847924044ac99c3dfe1c0bcb5891"
          ]
        },
        "id": "ERMjjvXU-O9Q",
        "outputId": "4a247cba-b2b2-491d-c110-f55b4981a91c"
      },
      "source": [
        "analyze('a1a.txt', optimize, 'ones', nesterov=True, graph=False)"
      ],
      "execution_count": 14,
      "outputs": [
        {
          "output_type": "stream",
          "text": [
            "Dataset shape:  (1605, 119) (1605,)\n"
          ],
          "name": "stdout"
        },
        {
          "output_type": "display_data",
          "data": {
            "application/vnd.jupyter.widget-view+json": {
              "model_id": "ec2fa648713446a9a891537a988f50d5",
              "version_minor": 0,
              "version_major": 2
            },
            "text/plain": [
              "HBox(children=(FloatProgress(value=0.0, max=5.0), HTML(value='')))"
            ]
          },
          "metadata": {
            "tags": []
          }
        },
        {
          "output_type": "stream",
          "text": [
            "\n",
            "| Method   |   Entropy |   Num Iter |   Oracle Calls |   Time |\n",
            "|----------|-----------|------------|----------------|--------|\n",
            "| golden   |  0.29825  |       5622 |         269910 |  72.04 |\n",
            "| wolfe    |  0.298391 |      10000 |          99455 |  31.23 |\n",
            "| brent    |  0.298248 |       5730 |         145525 |  40.78 |\n",
            "| armijo   |  0.298435 |      10000 |         217104 |  63.57 |\n",
            "| nesterov |  0.298582 |      10000 |         250179 |  75.04 |\n"
          ],
          "name": "stdout"
        }
      ]
    },
    {
      "cell_type": "code",
      "metadata": {
        "colab": {
          "base_uri": "https://localhost:8080/",
          "height": 202,
          "referenced_widgets": [
            "5e5e462bfb1f4075bfbc3cba29d65424",
            "2d5f402a9ac04b2cace2c708cf3e44d4",
            "704b4b64467e45849060da71967d507a",
            "edb540d49b5741cf90603177aaf48073",
            "8e2ec9675a034c04a4273d9d9206ff4a",
            "bc70f8fdca8f41c7a8d65fd276a4d73f",
            "a78cffd428e34f6c82093b0ce4d216cf",
            "8b09f4d517a04219abf49e848961b694"
          ]
        },
        "id": "zyFFmkSD-Q8_",
        "outputId": "d2f7bb98-4901-4ba8-b2c2-59021c944b5d"
      },
      "source": [
        "analyze('a1a.txt', optimize, 'random', nesterov=True, graph=False)"
      ],
      "execution_count": 15,
      "outputs": [
        {
          "output_type": "stream",
          "text": [
            "Dataset shape:  (1605, 119) (1605,)\n"
          ],
          "name": "stdout"
        },
        {
          "output_type": "display_data",
          "data": {
            "application/vnd.jupyter.widget-view+json": {
              "model_id": "5e5e462bfb1f4075bfbc3cba29d65424",
              "version_minor": 0,
              "version_major": 2
            },
            "text/plain": [
              "HBox(children=(FloatProgress(value=0.0, max=5.0), HTML(value='')))"
            ]
          },
          "metadata": {
            "tags": []
          }
        },
        {
          "output_type": "stream",
          "text": [
            "\n",
            "| Method   |   Entropy |   Num Iter |   Oracle Calls |   Time |\n",
            "|----------|-----------|------------|----------------|--------|\n",
            "| golden   |  0.298252 |       5154 |         247439 |  65.89 |\n",
            "| wolfe    |  0.298387 |      10000 |          99435 |  30.95 |\n",
            "| brent    |  0.298252 |       5188 |         131267 |  38.46 |\n",
            "| armijo   |  0.298429 |      10000 |         217125 |  63.46 |\n",
            "| nesterov |  0.298567 |      10000 |         250269 |  74.95 |\n"
          ],
          "name": "stdout"
        }
      ]
    },
    {
      "cell_type": "code",
      "metadata": {
        "colab": {
          "base_uri": "https://localhost:8080/",
          "height": 202,
          "referenced_widgets": [
            "ccf7d9ab4d374a288b478c5cb65ae3b0",
            "dc6310da6443409ca745afdaa052d3fb",
            "7eb0142e5c424d1f984bab6df043db2d",
            "788c9ca3ebe4421897dd6794a4ed3be6",
            "05ffd5d869b447b3a53a53a7053204f7",
            "eb4da021c0304444942490146602cf75",
            "132a8d8e725844b6844fc86c0548478b",
            "050f29efcea14150ae377e5634e01b3e"
          ]
        },
        "id": "_teWt5Y9-Sco",
        "outputId": "53323179-57f1-49f3-9461-bdc69123ca79"
      },
      "source": [
        "analyze('breast-cancer_scale.txt', optimize, 'zeros', nesterov=True, graph=False)"
      ],
      "execution_count": 16,
      "outputs": [
        {
          "output_type": "stream",
          "text": [
            "Dataset shape:  (683, 10) (683,)\n"
          ],
          "name": "stdout"
        },
        {
          "output_type": "display_data",
          "data": {
            "application/vnd.jupyter.widget-view+json": {
              "model_id": "ccf7d9ab4d374a288b478c5cb65ae3b0",
              "version_minor": 0,
              "version_major": 2
            },
            "text/plain": [
              "HBox(children=(FloatProgress(value=0.0, max=5.0), HTML(value='')))"
            ]
          },
          "metadata": {
            "tags": []
          }
        },
        {
          "output_type": "stream",
          "text": [
            "\n",
            "| Method   |   Entropy |   Num Iter |   Oracle Calls |   Time |\n",
            "|----------|-----------|------------|----------------|--------|\n",
            "| golden   | 0.075457  |        322 |          15819 |   2.21 |\n",
            "| wolfe    | 0.0754679 |        271 |           3968 |   0.67 |\n",
            "| brent    | 0.075457  |        322 |           8406 |   1.28 |\n",
            "| armijo   | 0.0754678 |        172 |           2163 |   0.35 |\n",
            "| nesterov | 0.0754667 |        145 |           2241 |   0.36 |\n"
          ],
          "name": "stdout"
        }
      ]
    },
    {
      "cell_type": "code",
      "metadata": {
        "colab": {
          "base_uri": "https://localhost:8080/",
          "height": 219,
          "referenced_widgets": [
            "50c58821cbf44adcade724649b18c304",
            "53439206ebfb4e0e9fbb969a2347e784",
            "55219264105c41f7a53d8a30cf6e681a",
            "56c3ab1e3cd94c79a1c0744dfb8cda32",
            "6a0730223c2349348f0ad66c44b7e769",
            "9d4741771f3d4085b27f4469195abbfa",
            "29bda5fc9069463881b78df97a09a97c",
            "5a7e7fb3e9d54175a11db4c8298e10bf"
          ]
        },
        "id": "VCU8-4_--cZt",
        "outputId": "c1f806e5-14ca-4104-c273-3236261022a5"
      },
      "source": [
        "analyze('random', optimize, 'zeros', nesterov=True, graph=False)"
      ],
      "execution_count": 17,
      "outputs": [
        {
          "output_type": "stream",
          "text": [
            "Dataset shape:  (1000, 1) (1000,)\n",
            "Unique: [0 1]\n"
          ],
          "name": "stdout"
        },
        {
          "output_type": "display_data",
          "data": {
            "application/vnd.jupyter.widget-view+json": {
              "model_id": "50c58821cbf44adcade724649b18c304",
              "version_minor": 0,
              "version_major": 2
            },
            "text/plain": [
              "HBox(children=(FloatProgress(value=0.0, max=5.0), HTML(value='')))"
            ]
          },
          "metadata": {
            "tags": []
          }
        },
        {
          "output_type": "stream",
          "text": [
            "\n",
            "| Method   |    Entropy |   Num Iter |   Oracle Calls |   Time |\n",
            "|----------|------------|------------|----------------|--------|\n",
            "| golden   | 0.00415044 |       4298 |         211726 |  28.25 |\n",
            "| wolfe    | 0.00489519 |       2540 |          59063 |   5.85 |\n",
            "| brent    | 0.00415045 |       4298 |         103403 |  14.16 |\n",
            "| armijo   | 0.00540858 |      10000 |          70200 |   7.43 |\n",
            "| nesterov | 0.00490486 |       6521 |          46441 |   5    |\n"
          ],
          "name": "stdout"
        }
      ]
    },
    {
      "cell_type": "markdown",
      "metadata": {
        "id": "t2U2C6chrQ4q"
      },
      "source": [
        " Быстрее всего работает условие Вульфа. Энтропия примерно везде равна."
      ]
    },
    {
      "cell_type": "markdown",
      "metadata": {
        "id": "c6_CEfjrsDvw"
      },
      "source": [
        "# Пункт 4"
      ]
    },
    {
      "cell_type": "markdown",
      "metadata": {
        "id": "_CU87XxcY4A8"
      },
      "source": [
        "## Метод Ньютона"
      ]
    },
    {
      "cell_type": "code",
      "metadata": {
        "id": "X_IIzO4RQQ00"
      },
      "source": [
        "def cholesky(A, b, tol):\n",
        "    A_k = A.copy()\n",
        "    is_fine = False\n",
        "    tk = tol\n",
        "\n",
        "    while not is_fine:\n",
        "        try:\n",
        "            L = np.linalg.cholesky(A_k)\n",
        "\n",
        "            is_fine = True\n",
        "        except np.linalg.LinAlgError:\n",
        "            is_fine = False\n",
        "        \n",
        "        A_k = A_k + np.eye(A_k.shape[0]) * tk\n",
        "        tk *= 2\n",
        "\n",
        "    y = sla.solve(L, b)\n",
        "    x = sla.solve(L.T.conj(), y)\n",
        "\n",
        "    return x"
      ],
      "execution_count": 18,
      "outputs": []
    },
    {
      "cell_type": "code",
      "metadata": {
        "id": "X83ZrHH3qL2a"
      },
      "source": [
        "def optimize_newton(f, start_point, line_search, tol=1e-08, max_iter=10000):\n",
        "\n",
        "    W_init = start_point\n",
        "    W_init_grad = f.grad(W_init)\n",
        "\n",
        "    W = W_init.copy()\n",
        "\n",
        "    f.start_count(W_init)\n",
        "    \n",
        "    W_grad = f.grad(W)\n",
        "    W_hessian = f.hessian(W)\n",
        "\n",
        "    for k in range(max_iter + 1):\n",
        "        if np.linalg.norm(W_grad) ** 2 / np.linalg.norm(W_init_grad) ** 2 < tol:\n",
        "            break\n",
        "\n",
        "        direction = cholesky(W_hessian, -W_grad, tol)\n",
        "        direction_norm = np.linalg.norm(direction)\n",
        "\n",
        "        if direction_norm > 1000:\n",
        "            direction = direction / direction_norm\n",
        "\n",
        "        a = line_search.line_search(W, direction, 1)\n",
        "        W += a * direction\n",
        "\n",
        "        W_loss, W_grad, W_hessian = f.fuse_value_grad_hessian(W)\n",
        "        \n",
        "        f.next_iteration(W)\n",
        "\n",
        "    return W"
      ],
      "execution_count": 19,
      "outputs": []
    },
    {
      "cell_type": "markdown",
      "metadata": {
        "id": "OirUYRnflJkl"
      },
      "source": [
        "Метод Ньютона для стартовой точки - нулей и датасета a1a"
      ]
    },
    {
      "cell_type": "code",
      "metadata": {
        "colab": {
          "base_uri": "https://localhost:8080/",
          "height": 1000,
          "referenced_widgets": [
            "90718e14f54041ffba7909addd8c1f7c",
            "ceec2bb6aa434bc0af219d4cb2d064cb",
            "4e669934b7b34b3e8855d06e6684a878",
            "5c0a1fd162fb483a94b73810097e1cdf",
            "16011c7da2ae4d62842b499812817399",
            "7703354eeec9454b81c2d87a9206b306",
            "1a4223d1b4564858b59687c312482d9a",
            "81535021ab4b4d5c87a151257cdb7d3e"
          ]
        },
        "id": "Vo0CX69xZUQv",
        "outputId": "fc682b77-c09c-49b9-cf77-dc73982113b2"
      },
      "source": [
        "analyze('a1a.txt', optimize_newton, 'zeros', nesterov=False, graph=True)"
      ],
      "execution_count": 20,
      "outputs": [
        {
          "output_type": "stream",
          "text": [
            "Dataset shape:  (1605, 119) (1605,)\n"
          ],
          "name": "stdout"
        },
        {
          "output_type": "display_data",
          "data": {
            "application/vnd.jupyter.widget-view+json": {
              "model_id": "90718e14f54041ffba7909addd8c1f7c",
              "version_minor": 0,
              "version_major": 2
            },
            "text/plain": [
              "HBox(children=(FloatProgress(value=0.0, max=4.0), HTML(value='')))"
            ]
          },
          "metadata": {
            "tags": []
          }
        },
        {
          "output_type": "stream",
          "text": [
            "\n",
            "| Method   |   Entropy |   Num Iter |   Oracle Calls |   Time |\n",
            "|----------|-----------|------------|----------------|--------|\n",
            "| golden   |  0.297875 |         10 |            526 |   1.67 |\n",
            "| wolfe    |  0.297902 |          7 |             64 |   1.16 |\n",
            "| brent    |  0.297875 |         10 |            285 |   1.6  |\n",
            "| armijo   |  0.297902 |          7 |             64 |   1.16 |\n"
          ],
          "name": "stdout"
        },
        {
          "output_type": "display_data",
          "data": {
            "image/png": "[encoded data removed]",
            "text/plain": [
              "<Figure size 1584x288 with 2 Axes>"
            ]
          },
          "metadata": {
            "tags": [],
            "needs_background": "light"
          }
        },
        {
          "output_type": "display_data",
          "data": {
            "image/png": "[encoded data removed]",
            "text/plain": [
              "<Figure size 1584x288 with 2 Axes>"
            ]
          },
          "metadata": {
            "tags": [],
            "needs_background": "light"
          }
        },
        {
          "output_type": "display_data",
          "data": {
            "image/png": "[encoded data removed]",
            "text/plain": [
              "<Figure size 1584x288 with 2 Axes>"
            ]
          },
          "metadata": {
            "tags": [],
            "needs_background": "light"
          }
        }
      ]
    },
    {
      "cell_type": "markdown",
      "metadata": {
        "id": "-A2POjhelWAX"
      },
      "source": [
        "Метод Ньютона для стартовой точки - единиц и датасета a1a"
      ]
    },
    {
      "cell_type": "code",
      "metadata": {
        "colab": {
          "base_uri": "https://localhost:8080/",
          "height": 185,
          "referenced_widgets": [
            "5ad652bf16754d19aae5b5180a53659b",
            "35e5bd4bab5347c48b6889b7fe5f0cdf",
            "57e9970b432546119cac9dc6a39bc233",
            "cd8cb920432a48a7bf5982b1c75c4b9b",
            "dcf3579fba6e4911b766ac50773d126f",
            "7b8526a5ca8d473ea8db170a3e77d93b",
            "7598bd5b15784a3f84b0a231b61154f0",
            "e77bbf351ed24cfe9f9039919eb446a0"
          ]
        },
        "id": "RUprSlnFlSEI",
        "outputId": "4e662cc8-53c9-4a30-e9bb-b163dc953319"
      },
      "source": [
        "analyze('a1a.txt', optimize_newton, 'ones', nesterov=False, graph=False)"
      ],
      "execution_count": 21,
      "outputs": [
        {
          "output_type": "stream",
          "text": [
            "Dataset shape:  (1605, 119) (1605,)\n"
          ],
          "name": "stdout"
        },
        {
          "output_type": "display_data",
          "data": {
            "application/vnd.jupyter.widget-view+json": {
              "model_id": "5ad652bf16754d19aae5b5180a53659b",
              "version_minor": 0,
              "version_major": 2
            },
            "text/plain": [
              "HBox(children=(FloatProgress(value=0.0, max=4.0), HTML(value='')))"
            ]
          },
          "metadata": {
            "tags": []
          }
        },
        {
          "output_type": "stream",
          "text": [
            "\n",
            "| Method   |   Entropy |   Num Iter |   Oracle Calls |   Time |\n",
            "|----------|-----------|------------|----------------|--------|\n",
            "| golden   |  0.297876 |         11 |            603 |   1.81 |\n",
            "| wolfe    |  0.297887 |         25 |            471 |   3.56 |\n",
            "| brent    |  0.297876 |         11 |            306 |   1.73 |\n",
            "| armijo   |  0.297879 |         25 |            223 |   3.48 |\n"
          ],
          "name": "stdout"
        }
      ]
    },
    {
      "cell_type": "markdown",
      "metadata": {
        "id": "YPRZw-L18n_z"
      },
      "source": [
        "Метод Ньютона для стартовой точки - случайных и датасета a1a"
      ]
    },
    {
      "cell_type": "code",
      "metadata": {
        "id": "po5bcvt28lQa",
        "colab": {
          "base_uri": "https://localhost:8080/",
          "height": 185,
          "referenced_widgets": [
            "1e544af044be483c9b3578837eb07fec",
            "ac252a6209764b769473135bff7c9a2b",
            "2c8c5181227b402e97a0596db2a16cd2",
            "c367102528cc4e959bd71d84cc3559a4",
            "bbcfc6e3ea8d499ab85cddc57dada684",
            "509757865e054d2aa7ef60f591a55828",
            "1f132a5be70f405da64f4185f47117e0",
            "581ec2fb62144f32a6dc374ed21ef65d"
          ]
        },
        "outputId": "a08f2145-fc99-4a9d-ceba-7768561fd78b"
      },
      "source": [
        "analyze('a1a.txt', optimize_newton, 'random', nesterov=False, graph=False)"
      ],
      "execution_count": 22,
      "outputs": [
        {
          "output_type": "stream",
          "text": [
            "Dataset shape:  (1605, 119) (1605,)\n"
          ],
          "name": "stdout"
        },
        {
          "output_type": "display_data",
          "data": {
            "application/vnd.jupyter.widget-view+json": {
              "model_id": "1e544af044be483c9b3578837eb07fec",
              "version_minor": 0,
              "version_major": 2
            },
            "text/plain": [
              "HBox(children=(FloatProgress(value=0.0, max=4.0), HTML(value='')))"
            ]
          },
          "metadata": {
            "tags": []
          }
        },
        {
          "output_type": "stream",
          "text": [
            "\n",
            "| Method   |   Entropy |   Num Iter |   Oracle Calls |   Time |\n",
            "|----------|-----------|------------|----------------|--------|\n",
            "| golden   |  0.297876 |          9 |            486 |   1.53 |\n",
            "| wolfe    |  0.297903 |          8 |            117 |   1.3  |\n",
            "| brent    |  0.297876 |          9 |            244 |   1.47 |\n",
            "| armijo   |  0.297906 |          8 |             90 |   1.3  |\n"
          ],
          "name": "stdout"
        }
      ]
    },
    {
      "cell_type": "markdown",
      "metadata": {
        "id": "oB88fh249PrB"
      },
      "source": [
        "Видим, что алгоритм сходится и работает из разных начальных значений!\n"
      ]
    },
    {
      "cell_type": "markdown",
      "metadata": {
        "id": "LdsHnMzl8fRf"
      },
      "source": [
        "Breast-Сancer датасет:"
      ]
    },
    {
      "cell_type": "code",
      "metadata": {
        "colab": {
          "base_uri": "https://localhost:8080/",
          "height": 185,
          "referenced_widgets": [
            "fff0f4eb25bb4e538e72f69448498fe9",
            "9ff3fb54defd4735a1f2460126c83fda",
            "4bcab4cf278d49b299ab4b2baa7bdd54",
            "afa5c5bbed564423b362926e451919fc",
            "73beeaa33c7547c68575edf1e2ce3e9d",
            "49c89f9e9e3b420392cab0a9af78e7a6",
            "7a5163922e314e3a88afca2467627e9d",
            "b4c04781a89f460f88711855725cbaab"
          ]
        },
        "id": "KH8kLXJhlfsg",
        "outputId": "6c7e8687-b858-43d7-e209-8862564b9a2b"
      },
      "source": [
        "analyze('breast-cancer_scale.txt', optimize_newton, 'zeros', nesterov=False, graph=False)"
      ],
      "execution_count": 23,
      "outputs": [
        {
          "output_type": "stream",
          "text": [
            "Dataset shape:  (683, 10) (683,)\n"
          ],
          "name": "stdout"
        },
        {
          "output_type": "display_data",
          "data": {
            "application/vnd.jupyter.widget-view+json": {
              "model_id": "fff0f4eb25bb4e538e72f69448498fe9",
              "version_minor": 0,
              "version_major": 2
            },
            "text/plain": [
              "HBox(children=(FloatProgress(value=0.0, max=4.0), HTML(value='')))"
            ]
          },
          "metadata": {
            "tags": []
          }
        },
        {
          "output_type": "stream",
          "text": [
            "\n",
            "| Method   |   Entropy |   Num Iter |   Oracle Calls |   Time |\n",
            "|----------|-----------|------------|----------------|--------|\n",
            "| golden   | 0.0753191 |          3 |            193 |   0.08 |\n",
            "| wolfe    | 0.0753187 |          6 |             56 |   0.1  |\n",
            "| brent    | 0.0753191 |          3 |             85 |   0.06 |\n",
            "| armijo   | 0.0753187 |          6 |             56 |   0.1  |\n"
          ],
          "name": "stdout"
        }
      ]
    },
    {
      "cell_type": "markdown",
      "metadata": {
        "id": "l7nqoNjt9VjX"
      },
      "source": [
        "Датасет со случайными числами:"
      ]
    },
    {
      "cell_type": "code",
      "metadata": {
        "colab": {
          "base_uri": "https://localhost:8080/",
          "height": 202,
          "referenced_widgets": [
            "e9ce9899f7564753958b510112ed43c5",
            "aa42c62113de4421b87e77f16214187a",
            "3336b244cf45465cace3d54a989a6cb2",
            "cefed77c4f884c8ca6ebc1cf7f9261ab",
            "77dec8e425714884b0608ff06bfcbf1f",
            "4ec8e836ce5e4b2eacf8eee72f1d0c96",
            "5a2f59e84b3e449ba44712cfc614b806",
            "0cd162bebdb440a091664de05e30a924"
          ]
        },
        "id": "8vy-b4zE8a5j",
        "outputId": "4754b11a-00c3-42dc-dd72-5b2ddeee26dc"
      },
      "source": [
        "analyze('random', optimize_newton, 'zeros', nesterov=False, graph=False)"
      ],
      "execution_count": 24,
      "outputs": [
        {
          "output_type": "stream",
          "text": [
            "Dataset shape:  (1000, 1) (1000,)\n",
            "Unique: [0 1]\n"
          ],
          "name": "stdout"
        },
        {
          "output_type": "display_data",
          "data": {
            "application/vnd.jupyter.widget-view+json": {
              "model_id": "e9ce9899f7564753958b510112ed43c5",
              "version_minor": 0,
              "version_major": 2
            },
            "text/plain": [
              "HBox(children=(FloatProgress(value=0.0, max=4.0), HTML(value='')))"
            ]
          },
          "metadata": {
            "tags": []
          }
        },
        {
          "output_type": "stream",
          "text": [
            "\n",
            "| Method   |     Entropy |   Num Iter |   Oracle Calls |   Time |\n",
            "|----------|-------------|------------|----------------|--------|\n",
            "| golden   | -9.9e-09    |          2 |            174 |   0.05 |\n",
            "| wolfe    |  0.00137215 |         11 |             96 |   0.06 |\n",
            "| brent    | -9.9e-09    |          2 |            117 |   0.04 |\n",
            "| armijo   |  0.00137215 |         11 |             96 |   0.05 |\n"
          ],
          "name": "stdout"
        }
      ]
    },
    {
      "cell_type": "markdown",
      "metadata": {
        "id": "Y_426vuF_eR0"
      },
      "source": [
        "Во время работы также возникало такое, что норма направления была очень большой из-за этого при некоторых начальных значениях не сходилось, поэтому направление нормируется, если его норма очень большая"
      ]
    },
    {
      "cell_type": "markdown",
      "metadata": {
        "id": "1qImai6Freoj"
      },
      "source": [
        "В зависимости от начального значения, датасета - разные методы лайнсерча показывают себя поразному. Но метод Вульфа опять же показывает себя лучше всех по числу вызовов оракула "
      ]
    },
    {
      "cell_type": "markdown",
      "metadata": {
        "id": "l6HLsxXVsHeO"
      },
      "source": [
        "# Пункт 5"
      ]
    },
    {
      "cell_type": "markdown",
      "metadata": {
        "id": "85_wwHARZZZu"
      },
      "source": [
        "## Hessian-Free Newton"
      ]
    },
    {
      "cell_type": "code",
      "metadata": {
        "id": "D8hyMnrTfzFN"
      },
      "source": [
        "def conj_grad(oracle, W, W_grad, tol, start_point):\n",
        "    x = start_point\n",
        "    g = oracle.hessian_vec_product(W, x) + W_grad\n",
        "    d = -g\n",
        "    stopping_crit = tol * np.linalg.norm(W_grad)\n",
        "    g_norm = g.T @ g\n",
        "\n",
        "    n = len(W)\n",
        "\n",
        "    for i in range(2 * n):\n",
        "        if np.linalg.norm(g) <= stopping_crit:\n",
        "            break\n",
        "            \n",
        "        prod = oracle.hessian_vec_product(W, d)\n",
        "        alpha = g_norm / (d @ prod)\n",
        "        x += alpha * d\n",
        "        g += alpha * prod\n",
        "\n",
        "        g_norm_2 = g.T @ g\n",
        "        beta = g_norm_2 / g_norm\n",
        "        d = beta * d - g\n",
        "        g_norm = g_norm_2\n",
        "\n",
        "    return x"
      ],
      "execution_count": 25,
      "outputs": []
    },
    {
      "cell_type": "code",
      "metadata": {
        "id": "pIjEI_yV4gIj"
      },
      "source": [
        "def hfn_optimize(f, start_point, line_search, tol=1e-08, max_iter=10000):\n",
        "\n",
        "    W_init = start_point\n",
        "    W_init_grad = f.grad(W_init)\n",
        "\n",
        "    W = W_init.copy()\n",
        "    W_grad = W_init_grad.copy()\n",
        "\n",
        "    f.start_count(W_init)\n",
        "\n",
        "    for k in range(max_iter + 1):\n",
        "        \n",
        "        if np.linalg.norm(W_grad) ** 2 / np.linalg.norm(W_init_grad) ** 2 < tol:\n",
        "            break\n",
        "\n",
        "        tol_eta = min(0.5, np.sqrt(np.linalg.norm(W_grad)))\n",
        "        direction = conj_grad(f, W, W_grad, tol_eta, -W_grad)\n",
        "\n",
        "        while direction.T @ W_grad >= 0:\n",
        "            tol_eta /= 10\n",
        "            direction = conj_grad(f, W, W_grad, tol_eta, direction)\n",
        "\n",
        "        a = line_search.line_search(W, direction, 1)\n",
        "        W += a * direction\n",
        "\n",
        "        W_loss, W_grad = f.fuse_value_grad(W)\n",
        "\n",
        "        f.next_iteration(W)\n",
        "\n",
        "\n",
        "    return W"
      ],
      "execution_count": 26,
      "outputs": []
    },
    {
      "cell_type": "markdown",
      "metadata": {
        "id": "9zVv85CX9sJf"
      },
      "source": [
        "Проверим работоспособность алгоритма:"
      ]
    },
    {
      "cell_type": "code",
      "metadata": {
        "colab": {
          "base_uri": "https://localhost:8080/",
          "height": 1000,
          "referenced_widgets": [
            "324c61e8fae4426eb6e4d18ec8497c16",
            "38fd2c0789d34686836603a274714b84",
            "e67dcfdfc4624c4eb813199d79ea8aec",
            "0ccd521aef4d49f88bfba51096b7919e",
            "b414ad491ddd4e4a82f0804dc188ddf0",
            "d4d89ba13bea43be9bebdac35889f905",
            "2772bcc3993049ef8875a07b770c0326",
            "9cabdbc0350e46eebe148f3f0070a25b"
          ]
        },
        "id": "EAp9qvwipEjk",
        "outputId": "b173a313-a1bd-4bfc-becf-a5a372265d45"
      },
      "source": [
        "analyze('a1a.txt', hfn_optimize, 'zeros', nesterov=False)"
      ],
      "execution_count": 27,
      "outputs": [
        {
          "output_type": "stream",
          "text": [
            "Dataset shape:  (1605, 119) (1605,)\n"
          ],
          "name": "stdout"
        },
        {
          "output_type": "display_data",
          "data": {
            "application/vnd.jupyter.widget-view+json": {
              "model_id": "324c61e8fae4426eb6e4d18ec8497c16",
              "version_minor": 0,
              "version_major": 2
            },
            "text/plain": [
              "HBox(children=(FloatProgress(value=0.0, max=4.0), HTML(value='')))"
            ]
          },
          "metadata": {
            "tags": []
          }
        },
        {
          "output_type": "stream",
          "text": [
            "\n",
            "| Method   |   Entropy |   Num Iter |   Oracle Calls |   Time |\n",
            "|----------|-----------|------------|----------------|--------|\n",
            "| golden   |  0.297879 |          9 |            850 |   2.35 |\n",
            "| wolfe    |  0.297909 |          9 |            479 |   2.4  |\n",
            "| brent    |  0.297879 |          9 |            601 |   2.29 |\n",
            "| armijo   |  0.297909 |          9 |            479 |   2.35 |\n"
          ],
          "name": "stdout"
        },
        {
          "output_type": "display_data",
          "data": {
            "image/png": "[encoded data removed]",
            "text/plain": [
              "<Figure size 1584x288 with 2 Axes>"
            ]
          },
          "metadata": {
            "tags": [],
            "needs_background": "light"
          }
        },
        {
          "output_type": "display_data",
          "data": {
            "image/png": "[encoded data removed]",
            "text/plain": [
              "<Figure size 1584x288 with 2 Axes>"
            ]
          },
          "metadata": {
            "tags": [],
            "needs_background": "light"
          }
        },
        {
          "output_type": "display_data",
          "data": {
            "image/png": "[encoded data removed]",
            "text/plain": [
              "<Figure size 1584x288 with 2 Axes>"
            ]
          },
          "metadata": {
            "tags": [],
            "needs_background": "light"
          }
        }
      ]
    },
    {
      "cell_type": "markdown",
      "metadata": {
        "id": "s7F5-voQ9wRR"
      },
      "source": [
        "Проверим алгоритм на разных начальных значениях. Сначала запустим из единиц"
      ]
    },
    {
      "cell_type": "code",
      "metadata": {
        "id": "tiwOdWtArWTF",
        "colab": {
          "base_uri": "https://localhost:8080/",
          "height": 185,
          "referenced_widgets": [
            "92e0538ac521432bbf479cafea226a36",
            "ade5f72d701b4b9383138821b202b141",
            "0034cc3a05804edca50537e6ee8da600",
            "b17c1ffc934d49c8aef798a8a0e2089e",
            "71e61eb5d7334cf28180388f20d9ecb3",
            "f19a96eb2e8a434fa2917d888149a227",
            "186d3591c5f744e9a32a80d0b04f9977",
            "0115f219d3874b3096fa0e25a2360b44"
          ]
        },
        "outputId": "2a4b3500-cb7c-4970-8403-0e1e8ffe41fa"
      },
      "source": [
        "analyze('a1a.txt', hfn_optimize, 'ones', nesterov=False, graph=False)"
      ],
      "execution_count": 28,
      "outputs": [
        {
          "output_type": "stream",
          "text": [
            "Dataset shape:  (1605, 119) (1605,)\n"
          ],
          "name": "stdout"
        },
        {
          "output_type": "display_data",
          "data": {
            "application/vnd.jupyter.widget-view+json": {
              "model_id": "92e0538ac521432bbf479cafea226a36",
              "version_minor": 0,
              "version_major": 2
            },
            "text/plain": [
              "HBox(children=(FloatProgress(value=0.0, max=4.0), HTML(value='')))"
            ]
          },
          "metadata": {
            "tags": []
          }
        },
        {
          "output_type": "stream",
          "text": [
            "\n",
            "| Method   |   Entropy |   Num Iter |   Oracle Calls |   Time |\n",
            "|----------|-----------|------------|----------------|--------|\n",
            "| golden   |  0.297878 |         10 |            957 |   2.79 |\n",
            "| wolfe    |  0.297904 |         11 |            584 |   2.58 |\n",
            "| brent    |  0.297878 |         10 |            698 |   2.4  |\n",
            "| armijo   |  0.297908 |         10 |            584 |   2.65 |\n"
          ],
          "name": "stdout"
        }
      ]
    },
    {
      "cell_type": "markdown",
      "metadata": {
        "id": "EBzwRrGF903x"
      },
      "source": [
        "Запустим из случайных весов:"
      ]
    },
    {
      "cell_type": "code",
      "metadata": {
        "colab": {
          "base_uri": "https://localhost:8080/",
          "height": 185,
          "referenced_widgets": [
            "33463623ee0f449a853029f8c9511a75",
            "361283e7b25b4cdaa68c4f22a35fd17b",
            "cfa8f213bc024412ba34c35cdd1ef87c",
            "d4a21dd529034f6e851f6d2d44c31642",
            "3e77e74260374fc48b58d7a58baed295",
            "b16d55091c0d43f980e74571e74b1410",
            "d6568dd202684aecab507f6d365c91c7",
            "26ded531cb3b4deebb184e30790c2981"
          ]
        },
        "id": "NSCRy28d9gdP",
        "outputId": "bf74fc93-5ef1-4fa8-e5da-2db6f1945b1f"
      },
      "source": [
        "analyze('a1a.txt', hfn_optimize, 'random', nesterov=False, graph=False)"
      ],
      "execution_count": 29,
      "outputs": [
        {
          "output_type": "stream",
          "text": [
            "Dataset shape:  (1605, 119) (1605,)\n"
          ],
          "name": "stdout"
        },
        {
          "output_type": "display_data",
          "data": {
            "application/vnd.jupyter.widget-view+json": {
              "model_id": "33463623ee0f449a853029f8c9511a75",
              "version_minor": 0,
              "version_major": 2
            },
            "text/plain": [
              "HBox(children=(FloatProgress(value=0.0, max=4.0), HTML(value='')))"
            ]
          },
          "metadata": {
            "tags": []
          }
        },
        {
          "output_type": "stream",
          "text": [
            "\n",
            "| Method   |   Entropy |   Num Iter |   Oracle Calls |   Time |\n",
            "|----------|-----------|------------|----------------|--------|\n",
            "| golden   |  0.297876 |         10 |           1077 |   3.44 |\n",
            "| wolfe    |  0.29792  |         11 |            526 |   2.53 |\n",
            "| brent    |  0.297878 |         10 |            782 |   3.15 |\n",
            "| armijo   |  0.297901 |         10 |            531 |   2.6  |\n"
          ],
          "name": "stdout"
        }
      ]
    },
    {
      "cell_type": "markdown",
      "metadata": {
        "id": "CWVNLWbu93JF"
      },
      "source": [
        "Видно, что алгоритм работает при разных начальных значениях."
      ]
    },
    {
      "cell_type": "markdown",
      "metadata": {
        "id": "qMsQA-R399DU"
      },
      "source": [
        "Теперь проверим его на других датасетах. Breast-cancer датасет:"
      ]
    },
    {
      "cell_type": "code",
      "metadata": {
        "colab": {
          "base_uri": "https://localhost:8080/",
          "height": 185,
          "referenced_widgets": [
            "2db659d5524c4b30b8323f3752ecab5d",
            "22d5bbdca9d94c19bf0ba4ee6649803d",
            "53aa06cb91714b55a943b68ea5bf8d47",
            "fe739fc2a8c24d7f8d502c2cee2dcfd4",
            "085af966a2a94844b460f726788b47be",
            "0cbf1592ccbb43898d37b19d5647d3cb",
            "0a0a5ced23da4d688cde7f1f0b1a412a",
            "c5969783951c438b9b79fb4262bcd7c1"
          ]
        },
        "id": "5ElTutho9mgY",
        "outputId": "4977d79d-0acf-4ac2-d4f6-7e465fce4755"
      },
      "source": [
        "analyze('breast-cancer_scale.txt', hfn_optimize, 'ones', nesterov=False, graph=False)"
      ],
      "execution_count": 30,
      "outputs": [
        {
          "output_type": "stream",
          "text": [
            "Dataset shape:  (683, 10) (683,)\n"
          ],
          "name": "stdout"
        },
        {
          "output_type": "display_data",
          "data": {
            "application/vnd.jupyter.widget-view+json": {
              "model_id": "2db659d5524c4b30b8323f3752ecab5d",
              "version_minor": 0,
              "version_major": 2
            },
            "text/plain": [
              "HBox(children=(FloatProgress(value=0.0, max=4.0), HTML(value='')))"
            ]
          },
          "metadata": {
            "tags": []
          }
        },
        {
          "output_type": "stream",
          "text": [
            "\n",
            "| Method   |   Entropy |   Num Iter |   Oracle Calls |   Time |\n",
            "|----------|-----------|------------|----------------|--------|\n",
            "| golden   | 0.0753187 |          4 |            273 |   0.09 |\n",
            "| wolfe    | 0.0753188 |          5 |             82 |   0.06 |\n",
            "| brent    | 0.0753187 |          4 |            135 |   0.07 |\n",
            "| armijo   | 0.0753188 |          5 |             82 |   0.07 |\n"
          ],
          "name": "stdout"
        }
      ]
    },
    {
      "cell_type": "markdown",
      "metadata": {
        "id": "pcdWVxSW-FR5"
      },
      "source": [
        "Датасет со случайными числами:"
      ]
    },
    {
      "cell_type": "code",
      "metadata": {
        "colab": {
          "base_uri": "https://localhost:8080/",
          "height": 202,
          "referenced_widgets": [
            "0736eeecc87b44e3b78ef70c1a4fbdf3",
            "b550e96eb140416f9333bad3c55834e2",
            "432f99e3104249e4b8bdcd470801a214",
            "4fe4568aa75347c9811f21eb947b1e81",
            "2512c381e530415eae85d0676d8b9b54",
            "8fc1a60a899944b59d46e5be1ba2b3eb",
            "1fd3f423f3cd4793abf747a1f7ec1f27",
            "215034be5aa44c318ebadb2cdef82f0d"
          ]
        },
        "id": "y1viWdHW-Brj",
        "outputId": "ceba41a4-06d6-4c4d-f9cf-25fdd23729b7"
      },
      "source": [
        "analyze('random', optimize_newton, 'zeros', nesterov=False, graph=False)"
      ],
      "execution_count": 31,
      "outputs": [
        {
          "output_type": "stream",
          "text": [
            "Dataset shape:  (1000, 1) (1000,)\n",
            "Unique: [0 1]\n"
          ],
          "name": "stdout"
        },
        {
          "output_type": "display_data",
          "data": {
            "application/vnd.jupyter.widget-view+json": {
              "model_id": "0736eeecc87b44e3b78ef70c1a4fbdf3",
              "version_minor": 0,
              "version_major": 2
            },
            "text/plain": [
              "HBox(children=(FloatProgress(value=0.0, max=4.0), HTML(value='')))"
            ]
          },
          "metadata": {
            "tags": []
          }
        },
        {
          "output_type": "stream",
          "text": [
            "\n",
            "| Method   |     Entropy |   Num Iter |   Oracle Calls |   Time |\n",
            "|----------|-------------|------------|----------------|--------|\n",
            "| golden   | -9.9e-09    |          0 |             87 |   0.02 |\n",
            "| wolfe    |  0.00243872 |         11 |             96 |   0.06 |\n",
            "| brent    | -9.9e-09    |          0 |             83 |   0.02 |\n",
            "| armijo   |  0.00243872 |         11 |             96 |   0.06 |\n"
          ],
          "name": "stdout"
        }
      ]
    },
    {
      "cell_type": "markdown",
      "metadata": {
        "id": "oIONczavrtxR"
      },
      "source": [
        "Алгоритм буквально за 10 итераций сходится почти всегда. Меньше всего итераций происходит при использовании условия Вульфа."
      ]
    },
    {
      "cell_type": "markdown",
      "metadata": {
        "id": "QYqW5PmrAggs"
      },
      "source": [
        "## Сравнение"
      ]
    },
    {
      "cell_type": "code",
      "metadata": {
        "colab": {
          "base_uri": "https://localhost:8080/",
          "height": 185,
          "referenced_widgets": [
            "45c56b7da56d49f7a43a3ca60d4b2cc1",
            "719a4e56799b42b18d75892e37ed16dc",
            "de3523b653ac499eb9a70f3ae24e8c3d",
            "fb4bf4cad7844d3ea9cc049a55f0d778",
            "a43c9d25bac347cfbeef184f331b84ab",
            "4f29520fa58d4ceaaf1c01110e32f7cf",
            "00e2c4f78edd4db19f524a6eb5b0ec38",
            "85da5b0c502a47d0b41d34b4cfee8871"
          ]
        },
        "id": "hUrfQpGEAijg",
        "outputId": "18d3a3ef-342e-49b8-ea2a-e6dc90eb07e1"
      },
      "source": [
        "analyze('a1a.txt', hfn_optimize, 'zeros', nesterov=False, graph=False)"
      ],
      "execution_count": 32,
      "outputs": [
        {
          "output_type": "stream",
          "text": [
            "Dataset shape:  (1605, 119) (1605,)\n"
          ],
          "name": "stdout"
        },
        {
          "output_type": "display_data",
          "data": {
            "application/vnd.jupyter.widget-view+json": {
              "model_id": "45c56b7da56d49f7a43a3ca60d4b2cc1",
              "version_minor": 0,
              "version_major": 2
            },
            "text/plain": [
              "HBox(children=(FloatProgress(value=0.0, max=4.0), HTML(value='')))"
            ]
          },
          "metadata": {
            "tags": []
          }
        },
        {
          "output_type": "stream",
          "text": [
            "\n",
            "| Method   |   Entropy |   Num Iter |   Oracle Calls |   Time |\n",
            "|----------|-----------|------------|----------------|--------|\n",
            "| golden   |  0.297879 |          9 |            850 |   2.58 |\n",
            "| wolfe    |  0.297909 |          9 |            479 |   2.67 |\n",
            "| brent    |  0.297879 |          9 |            601 |   2.57 |\n",
            "| armijo   |  0.297909 |          9 |            479 |   2.82 |\n"
          ],
          "name": "stdout"
        }
      ]
    },
    {
      "cell_type": "code",
      "metadata": {
        "colab": {
          "base_uri": "https://localhost:8080/",
          "height": 185,
          "referenced_widgets": [
            "1fcd916ff8ea4bdb8211946cf4246767",
            "727ffd3231ee44e5a734008a894d1bb2",
            "b5dc4b2bb5ed442b908142beb1453cf6",
            "0db61b1208824bf5941643633918c894",
            "d34d4af9abdf4512b4b3f1644554ce3f",
            "f51c98f51fea444982fa87e8322799f3",
            "8c339ce48a604cb789a11d0ab45bd510",
            "6731bdb24e164b40984c65033b932adb"
          ]
        },
        "id": "K3Qd-bNwAnzy",
        "outputId": "0b9a69d4-4f6e-47cc-dc98-771da9106806"
      },
      "source": [
        "analyze('a1a.txt', optimize_newton, 'zeros', nesterov=False, graph=False)"
      ],
      "execution_count": 33,
      "outputs": [
        {
          "output_type": "stream",
          "text": [
            "Dataset shape:  (1605, 119) (1605,)\n"
          ],
          "name": "stdout"
        },
        {
          "output_type": "display_data",
          "data": {
            "application/vnd.jupyter.widget-view+json": {
              "model_id": "1fcd916ff8ea4bdb8211946cf4246767",
              "version_minor": 0,
              "version_major": 2
            },
            "text/plain": [
              "HBox(children=(FloatProgress(value=0.0, max=4.0), HTML(value='')))"
            ]
          },
          "metadata": {
            "tags": []
          }
        },
        {
          "output_type": "stream",
          "text": [
            "\n",
            "| Method   |   Entropy |   Num Iter |   Oracle Calls |   Time |\n",
            "|----------|-----------|------------|----------------|--------|\n",
            "| golden   |  0.297875 |         10 |            526 |   1.67 |\n",
            "| wolfe    |  0.297902 |          7 |             64 |   1.16 |\n",
            "| brent    |  0.297875 |         10 |            285 |   1.61 |\n",
            "| armijo   |  0.297902 |          7 |             64 |   1.16 |\n"
          ],
          "name": "stdout"
        }
      ]
    },
    {
      "cell_type": "code",
      "metadata": {
        "colab": {
          "base_uri": "https://localhost:8080/",
          "height": 202,
          "referenced_widgets": [
            "48adb70a7a2346ad9423653b1aa15829",
            "88f99606e51b46e99276b5937d29c929",
            "5f9e271924094efc871e68e232a4ab6f",
            "955207bba8a849f88abf558fc2ad6495",
            "62dafe2cc458494794c0f90cae59a25c",
            "defb2e946d4241f5ad21a39fa726f20a",
            "db70220cc3804f398b4453eacf73a367",
            "bbee1b999b414230b20f01a8ec10312e"
          ]
        },
        "id": "m0q3O_vmAqB9",
        "outputId": "79bdeb02-ad87-4d20-8c88-eddb4ad2c739"
      },
      "source": [
        "analyze('a1a.txt', optimize, 'zeros', nesterov=True, graph=False)"
      ],
      "execution_count": 34,
      "outputs": [
        {
          "output_type": "stream",
          "text": [
            "Dataset shape:  (1605, 119) (1605,)\n"
          ],
          "name": "stdout"
        },
        {
          "output_type": "display_data",
          "data": {
            "application/vnd.jupyter.widget-view+json": {
              "model_id": "48adb70a7a2346ad9423653b1aa15829",
              "version_minor": 0,
              "version_major": 2
            },
            "text/plain": [
              "HBox(children=(FloatProgress(value=0.0, max=5.0), HTML(value='')))"
            ]
          },
          "metadata": {
            "tags": []
          }
        },
        {
          "output_type": "stream",
          "text": [
            "\n",
            "| Method   |   Entropy |   Num Iter |   Oracle Calls |   Time |\n",
            "|----------|-----------|------------|----------------|--------|\n",
            "| golden   |  0.298791 |      10000 |         466398 | 125.65 |\n",
            "| wolfe    |  0.298402 |      10000 |          99437 |  30.97 |\n",
            "| brent    |  0.298804 |      10000 |         251263 |  70.73 |\n",
            "| armijo   |  0.298442 |      10000 |         217065 |  63.52 |\n",
            "| nesterov |  0.298586 |      10000 |         250302 |  75.24 |\n"
          ],
          "name": "stdout"
        }
      ]
    },
    {
      "cell_type": "markdown",
      "metadata": {
        "id": "fWVAUvRVsUdC"
      },
      "source": [
        "Если сравнивать алгоритмы друг с другом, то градиентный спуск на порядок работает медленнее всех остальных. HFN работает дольше, чем обычный Ньютон, т.к. у него больше вызовов оракула из-за метода сопряженных градиентов. По итоговой энтропии все алгоритмы работает примерно одинаково."
      ]
    }
  ]
}